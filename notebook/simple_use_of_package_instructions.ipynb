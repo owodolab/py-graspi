{
 "cells": [
  {
   "cell_type": "markdown",
   "id": "2e540f54-9521-42ba-b0d3-42ecf68709fc",
   "metadata": {},
   "source": [
    "The command line code pip install will install the py-graspi package which will download necessary python libraries needed for the functions within the package to work. In other hands, without this line of code not only will the functions not be avaliable to the user but even if you have a clone of the package it will ont run since the necessary libraries have not been installed. This line does both in one."
   ]
  },
  {
   "cell_type": "code",
   "execution_count": 1,
   "id": "initial_id",
   "metadata": {
    "ExecuteTime": {
     "end_time": "2025-03-05T06:09:48.137351Z",
     "start_time": "2025-03-05T06:09:46.627434Z"
    }
   },
   "outputs": [
    {
     "name": "stdout",
     "output_type": "stream",
     "text": [
      "Collecting py-graspi\n",
      "  Obtaining dependency information for py-graspi from https://files.pythonhosted.org/packages/1d/a2/bfeb0451d4cb67fc3f6747468dc5232ff411b524b4269d50006ef3c746a0/py_graspi-0.2.0.3-py3-none-any.whl.metadata\n",
      "  Using cached py_graspi-0.2.0.3-py3-none-any.whl.metadata (938 bytes)\n",
      "Requirement already satisfied: igraph in c:\\users\\kevin\\pycharmprojects\\card94sprint4\\.venv\\lib\\site-packages (from py-graspi) (0.11.8)\n",
      "Requirement already satisfied: matplotlib in c:\\users\\kevin\\pycharmprojects\\card94sprint4\\.venv\\lib\\site-packages (from py-graspi) (3.10.1)\n",
      "Requirement already satisfied: numpy in c:\\users\\kevin\\pycharmprojects\\card94sprint4\\.venv\\lib\\site-packages (from py-graspi) (2.2.4)\n",
      "Requirement already satisfied: contourpy in c:\\users\\kevin\\pycharmprojects\\card94sprint4\\.venv\\lib\\site-packages (from py-graspi) (1.3.1)\n",
      "Requirement already satisfied: cycler in c:\\users\\kevin\\pycharmprojects\\card94sprint4\\.venv\\lib\\site-packages (from py-graspi) (0.12.1)\n",
      "Requirement already satisfied: fonttools in c:\\users\\kevin\\pycharmprojects\\card94sprint4\\.venv\\lib\\site-packages (from py-graspi) (4.57.0)\n",
      "Requirement already satisfied: kiwisolver in c:\\users\\kevin\\pycharmprojects\\card94sprint4\\.venv\\lib\\site-packages (from py-graspi) (1.4.8)\n",
      "Requirement already satisfied: packaging in c:\\users\\kevin\\pycharmprojects\\card94sprint4\\.venv\\lib\\site-packages (from py-graspi) (24.2)\n",
      "Requirement already satisfied: pillow in c:\\users\\kevin\\pycharmprojects\\card94sprint4\\.venv\\lib\\site-packages (from py-graspi) (11.2.1)\n",
      "Requirement already satisfied: psutil in c:\\users\\kevin\\pycharmprojects\\card94sprint4\\.venv\\lib\\site-packages (from py-graspi) (7.0.0)\n",
      "Requirement already satisfied: pyparsing in c:\\users\\kevin\\pycharmprojects\\card94sprint4\\.venv\\lib\\site-packages (from py-graspi) (3.2.3)\n",
      "Requirement already satisfied: python-dateutil in c:\\users\\kevin\\pycharmprojects\\card94sprint4\\.venv\\lib\\site-packages (from py-graspi) (2.9.0.post0)\n",
      "Requirement already satisfied: six in c:\\users\\kevin\\pycharmprojects\\card94sprint4\\.venv\\lib\\site-packages (from py-graspi) (1.17.0)\n",
      "Requirement already satisfied: texttable in c:\\users\\kevin\\pycharmprojects\\card94sprint4\\.venv\\lib\\site-packages (from py-graspi) (1.7.0)\n",
      "Requirement already satisfied: fpdf in c:\\users\\kevin\\pycharmprojects\\card94sprint4\\.venv\\lib\\site-packages (from py-graspi) (1.7.2)\n",
      "Using cached py_graspi-0.2.0.3-py3-none-any.whl (75 kB)\n",
      "Installing collected packages: py-graspi\n",
      "Successfully installed py-graspi-0.2.0.3\n"
     ]
    },
    {
     "name": "stderr",
     "output_type": "stream",
     "text": [
      "\n",
      "[notice] A new release of pip is available: 23.2.1 -> 25.0.1\n",
      "[notice] To update, run: python.exe -m pip install --upgrade pip\n"
     ]
    }
   ],
   "source": [
    "!pip install py-graspi"
   ]
  },
  {
   "cell_type": "code",
   "execution_count": 2,
   "id": "b5262d09-8d6b-4940-8215-ba101503a867",
   "metadata": {
    "ExecuteTime": {
     "end_time": "2025-03-05T03:35:00.212733Z",
     "start_time": "2025-03-05T03:35:00.185942Z"
    }
   },
   "outputs": [],
   "source": [
    "#import following to be able to output image\n",
    "from PIL import Image\n",
    "#import py_graspi library\n",
    "import py_graspi"
   ]
  },
  {
   "cell_type": "markdown",
   "id": "38d18e82-33c0-455a-9903-8528c7582c8a",
   "metadata": {},
   "source": [
    "An example file is given and stored in the variable filename. This will be used in place of a command line argument since the functions need a .txt input file with proper formatting to generate a graph for the given file. The img variable simply stores the .png image file version of the already given .txt file. It utilizes the Image package to open it and then displays the image. (Note both have been given as examples. However, you can utilize your own properly formatted .txt/.png file as long as the pathname of each file is correct)"
   ]
  },
  {
   "cell_type": "code",
   "execution_count": 3,
   "id": "5a7a3613-f7e1-442b-a653-c6af3e778361",
   "metadata": {},
   "outputs": [
    {
     "data": {
      "image/jpeg": "[encoded data removed]",
      "image/png": "[encoded data removed]",
      "text/plain": [
       "<PIL.PngImagePlugin.PngImageFile image mode=1 size=514x130>"
      ]
     },
     "execution_count": 3,
     "metadata": {},
     "output_type": "execute_result"
    }
   ],
   "source": [
    "#Below is the pathname of an image to use for an example\n",
    "#images/data_0.5_2.2_001900.png\n",
    "#data/data_0.5_2.2_001900.txt\n",
    "\n",
    "filename = \"../data/data/data_0.5_2.2_001900.txt\"\n",
    "\n",
    "#output image viualization\n",
    "img = Image.open(\"../data/images/data_0.5_2.2_001900.png\")\n",
    "img"
   ]
  },
  {
   "cell_type": "markdown",
   "id": "ad18435f-be0b-4f01-8129-a4a182dcf5d0",
   "metadata": {},
   "source": [
    "The generateGraphAdj(filename) function below is from the py-graspi package is used to create a graph for any proper formated .txt file. It returns a graph_data_class where the newly generated graph is now stored as well as some other graph related information, these other variables are used when calculating descriptors for the file. (Note the inclusion of \"py_graspi.\" before the function name which is needed to signal that you are reaching into the package for this given function)."
   ]
  },
  {
   "cell_type": "code",
   "execution_count": 4,
   "id": "f995cc02-237b-46ff-bfc2-64219f9bdd73",
   "metadata": {},
   "outputs": [],
   "source": [
    "#This function will create a graph based on any given txt file input\n",
    "graph_data = py_graspi.generateGraphAdj(filename)"
   ]
  },
  {
   "cell_type": "code",
   "execution_count": 5,
   "id": "3acbe762-5a3f-41f1-ad16-cb01fdc72af7",
   "metadata": {},
   "outputs": [
    {
     "ename": "AttributeError",
     "evalue": "module 'py_graspi' has no attribute 'compute_descriptors'",
     "output_type": "error",
     "traceback": [
      "\u001b[31m---------------------------------------------------------------------------\u001b[39m",
      "\u001b[31mAttributeError\u001b[39m                            Traceback (most recent call last)",
      "\u001b[36mCell\u001b[39m\u001b[36m \u001b[39m\u001b[32mIn[5]\u001b[39m\u001b[32m, line 2\u001b[39m\n\u001b[32m      1\u001b[39m \u001b[38;5;66;03m#This function will create a tuple holding in the name and value of all descriptors\u001b[39;00m\n\u001b[32m----> \u001b[39m\u001b[32m2\u001b[39m dict_descriptors = \u001b[43mpy_graspi\u001b[49m\u001b[43m.\u001b[49m\u001b[43mcompute_descriptors\u001b[49m(graph_data, filename)\n",
      "\u001b[31mAttributeError\u001b[39m: module 'py_graspi' has no attribute 'compute_descriptors'"
     ]
    }
   ],
   "source": [
    "#This function will create a tuple holding in the name and value of all descriptors\n",
    "dict_descriptors = py_graspi.compute_descriptors(graph_data, filename)"
   ]
  },
  {
   "cell_type": "markdown",
   "id": "b6b8bbfa-449f-41f8-a1f1-473753e07a86",
   "metadata": {},
   "source": [
    "We then create an example outputFile string variable which will have a .txt extension and will be used in this Notebook to copy the dictionary gotten from the descriptors() function into a .txt file."
   ]
  },
  {
   "cell_type": "code",
   "execution_count": null,
   "id": "626aa8f7-6975-4663-af54-055382260e5e",
   "metadata": {},
   "outputs": [],
   "source": [
    "#We will use the filename below to be the output txt file for the \n",
    "outputFile = \"example_descriptors.txt\""
   ]
  },
  {
   "cell_type": "markdown",
   "id": "1ae28fee-aeb1-40b1-a2f9-39c3f17059de",
   "metadata": {},
   "source": [
    "This next line is a package function that writes the descriptors to a designated file path."
   ]
  },
  {
   "cell_type": "code",
   "execution_count": null,
   "id": "3ee6ba07-783b-4fd6-be9b-623a47e1f046",
   "metadata": {},
   "outputs": [],
   "source": [
    "#Copy descriptor tuple into txt file\n",
    "py_graspi.descriptorsToTxt(dict_descriptors, outputFile)"
   ]
  },
  {
   "cell_type": "markdown",
   "id": "38271edc-ffd6-425b-901d-8849e58db19d",
   "metadata": {},
   "source": [
    "Finally to make sure the descriptors were properly written to the file we will now open the same outputFile in READ mode now and print out its contents and make sure we have the correct dictionary."
   ]
  },
  {
   "cell_type": "code",
   "execution_count": null,
   "id": "b445f5e9-c3b7-4de4-accf-8c789c717d36",
   "metadata": {},
   "outputs": [],
   "source": [
    "#Output txt file, if error occurs this means txt file was not properly created\n",
    "py_graspi.readDescriptorsFromTxt(outputFile)"
   ]
  },
  {
   "cell_type": "code",
   "execution_count": null,
   "id": "39e084f8-e5c6-46ee-87a5-6aedfecfdf03",
   "metadata": {},
   "outputs": [],
   "source": []
  }
 ],
 "metadata": {
  "kernelspec": {
   "display_name": "Python 3 (ipykernel)",
   "language": "python",
   "name": "python3"
  },
  "language_info": {
   "codemirror_mode": {
    "name": "ipython",
    "version": 3
   },
   "file_extension": ".py",
   "mimetype": "text/x-python",
   "name": "python",
   "nbconvert_exporter": "python",
   "pygments_lexer": "ipython3",
   "version": "3.12.6"
  }
 },
 "nbformat": 4,
 "nbformat_minor": 5
}
