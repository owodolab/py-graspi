{
 "cells": [
  {
   "cell_type": "code",
   "execution_count": 1,
   "id": "caad703c-95ce-48a7-b0ad-deea10d4203b",
   "metadata": {},
   "outputs": [],
   "source": [
    "import sys\n",
    "import os\n",
    "import glob\n",
    "sys.path.append(os.path.abspath('../src/'))\n",
    "\n",
    "from py_graspi import graph as ig\n",
    "from py_graspi import descriptors as ds"
   ]
  },
  {
   "cell_type": "code",
   "execution_count": 3,
   "id": "a96bdab4-3282-417d-8fca-13ffba2506fe",
   "metadata": {},
   "outputs": [
    {
     "name": "stdout",
     "output_type": "stream",
     "text": [
      "Descriptors for morphology: ../data/data\\data_0.514_2.4_000220.txt\n",
      "STAT_n 65536\n",
      "STAT_e 2718\n",
      "STAT_n_D 30979\n",
      "STAT_n_A 34557\n",
      "STAT_CC_D 7\n",
      "STAT_CC_A 2\n",
      "STAT_CC_D_An 1\n",
      "STAT_CC_A_Ca 1\n",
      "ABS_wf_D 0.289437642232258\n",
      "ABS_f_D 0.4727020263671875\n",
      "DISS_f10_D 0.6579295651893218\n",
      "DISS_wf10_D 0.34369886584985676\n",
      "CT_f_e_conn 0.41869021339220014\n",
      "CT_f_conn_D_An 0.5464992414216082\n",
      "CT_f_conn_A_Ca 0.9760395867696848\n",
      "CT_e_conn 1138\n",
      "CT_e_D_An 1298\n",
      "CT_e_A_Ca 2586\n",
      "CT_n_D_adj_An 512\n",
      "CT_n_A_adj_Ca 512\n",
      "CT_f_D_tort1 0.6683402244536326\n",
      "CT_f_A_tort1 0.5629576921936612\n",
      "\n",
      "\n"
     ]
    },
    {
     "ename": "KeyboardInterrupt",
     "evalue": "",
     "output_type": "error",
     "traceback": [
      "\u001b[31m---------------------------------------------------------------------------\u001b[39m",
      "\u001b[31mKeyboardInterrupt\u001b[39m                         Traceback (most recent call last)",
      "\u001b[36mCell\u001b[39m\u001b[36m \u001b[39m\u001b[32mIn[3]\u001b[39m\u001b[32m, line 7\u001b[39m\n\u001b[32m      5\u001b[39m \u001b[38;5;28;01mfor\u001b[39;00m i \u001b[38;5;129;01min\u001b[39;00m \u001b[38;5;28mrange\u001b[39m(\u001b[32m0\u001b[39m, \u001b[38;5;28mlen\u001b[39m(all_txt_files), \u001b[32m10\u001b[39m):\n\u001b[32m      6\u001b[39m     filename = all_txt_files[i]\n\u001b[32m----> \u001b[39m\u001b[32m7\u001b[39m     graph_data = \u001b[43mig\u001b[49m\u001b[43m.\u001b[49m\u001b[43mgenerateGraph\u001b[49m\u001b[43m(\u001b[49m\u001b[43mfilename\u001b[49m\u001b[43m)\u001b[49m\n\u001b[32m      8\u001b[39m     desc = ds.compute_descriptors(graph_data, filename)\n\u001b[32m      9\u001b[39m     \u001b[38;5;28mprint\u001b[39m(\u001b[33m\"\u001b[39m\u001b[33mDescriptors for morphology: \u001b[39m\u001b[33m\"\u001b[39m + filename)\n",
      "\u001b[36mFile \u001b[39m\u001b[32m~\\PycharmProjects\\Card94Sprint4\\py-graspi\\src\\py_graspi\\graph.py:32\u001b[39m, in \u001b[36mgenerateGraph\u001b[39m\u001b[34m(file)\u001b[39m\n\u001b[32m     21\u001b[39m \u001b[38;5;250m\u001b[39m\u001b[33;03m\"\"\"\u001b[39;00m\n\u001b[32m     22\u001b[39m \u001b[33;03mThis function takes in graph data and determines if it’s in .txt or .graphe format in order to represent the graph using an adjacency list and the correct dimensionality.\u001b[39;00m\n\u001b[32m     23\u001b[39m \n\u001b[32m   (...)\u001b[39m\u001b[32m     29\u001b[39m \u001b[33;03m    See “generateGraphAdj” if in .txt, or “generateGraphGraphe” if in .graphe.\u001b[39;00m\n\u001b[32m     30\u001b[39m \u001b[33;03m\"\"\"\u001b[39;00m\n\u001b[32m     31\u001b[39m \u001b[38;5;28;01mif\u001b[39;00m os.path.splitext(file)[\u001b[32m1\u001b[39m] == \u001b[33m\"\u001b[39m\u001b[33m.txt\u001b[39m\u001b[33m\"\u001b[39m:\n\u001b[32m---> \u001b[39m\u001b[32m32\u001b[39m     \u001b[38;5;28;01mreturn\u001b[39;00m \u001b[43mgenerateGraphAdj\u001b[49m\u001b[43m(\u001b[49m\u001b[43mfile\u001b[49m\u001b[43m)\u001b[49m\n\u001b[32m     33\u001b[39m \u001b[38;5;28;01melse\u001b[39;00m:\n\u001b[32m     34\u001b[39m     \u001b[38;5;28;01mreturn\u001b[39;00m generateGraphGraphe(file)\n",
      "\u001b[36mFile \u001b[39m\u001b[32m~\\PycharmProjects\\Card94Sprint4\\py-graspi\\src\\py_graspi\\graph.py:182\u001b[39m, in \u001b[36mgenerateGraphAdj\u001b[39m\u001b[34m(file)\u001b[39m\n\u001b[32m    180\u001b[39m \u001b[38;5;28;01mtry\u001b[39;00m:\n\u001b[32m    181\u001b[39m     source_vertex, green_vertex = \u001b[38;5;28mmin\u001b[39m(source_vertex, green_vertex), \u001b[38;5;28mmax\u001b[39m(source_vertex, green_vertex)\n\u001b[32m--> \u001b[39m\u001b[32m182\u001b[39m     index = \u001b[38;5;28;43mlist\u001b[39;49m\u001b[43m(\u001b[49m\u001b[43medges_to_add_set\u001b[49m\u001b[43m)\u001b[49m\u001b[43m.\u001b[49m\u001b[43mindex\u001b[49m\u001b[43m(\u001b[49m\u001b[43m(\u001b[49m\u001b[43msource_vertex\u001b[49m\u001b[43m,\u001b[49m\u001b[43m \u001b[49m\u001b[43mgreen_vertex\u001b[49m\u001b[43m)\u001b[49m\u001b[43m)\u001b[49m\n\u001b[32m    184\u001b[39m     \u001b[38;5;28;01mif\u001b[39;00m edge[\u001b[33m'\u001b[39m\u001b[33mweight\u001b[39m\u001b[33m'\u001b[39m] / \u001b[32m2\u001b[39m < weights[index]:\n\u001b[32m    185\u001b[39m         weights[index] = edge[\u001b[33m'\u001b[39m\u001b[33mweight\u001b[39m\u001b[33m'\u001b[39m] / \u001b[32m2\u001b[39m\n",
      "\u001b[31mKeyboardInterrupt\u001b[39m: "
     ]
    }
   ],
   "source": [
    "target_directory = '../data/data'\n",
    "# Get all .txt files in the directory\n",
    "all_txt_files = glob.glob(os.path.join(target_directory, '*.txt'))\n",
    "# Process every 4th file\n",
    "for i in range(0, len(all_txt_files), 10):\n",
    "    filename = all_txt_files[i]\n",
    "    graph_data = ig.generateGraph(filename)\n",
    "    desc = ds.compute_descriptors(graph_data, filename)\n",
    "    print(\"Descriptors for morphology: \" + filename)\n",
    "    ds.printDescriptors(desc)\n",
    "    print(\"\\n\")\n",
    "\n"
   ]
  },
  {
   "cell_type": "code",
   "execution_count": null,
   "id": "f7ce4b5b-437e-4321-96b2-b1df0b32919c",
   "metadata": {},
   "outputs": [],
   "source": []
  }
 ],
 "metadata": {
  "kernelspec": {
   "display_name": "Python 3 (ipykernel)",
   "language": "python",
   "name": "python3"
  },
  "language_info": {
   "codemirror_mode": {
    "name": "ipython",
    "version": 3
   },
   "file_extension": ".py",
   "mimetype": "text/x-python",
   "name": "python",
   "nbconvert_exporter": "python",
   "pygments_lexer": "ipython3",
   "version": "3.12.6"
  }
 },
 "nbformat": 4,
 "nbformat_minor": 5
}
