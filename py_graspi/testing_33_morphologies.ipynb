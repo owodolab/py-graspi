{
 "cells": [
  {
   "cell_type": "code",
   "execution_count": 1,
   "id": "72dbc1c0-516b-4380-b1e6-a0711186c249",
   "metadata": {
    "ExecuteTime": {
     "end_time": "2025-01-31T04:35:51.351897Z",
     "start_time": "2025-01-31T04:35:50.468919Z"
    }
   },
   "outputs": [],
   "source": [
    "import igraph_testing as ig\n",
    "import descriptors as ds\n",
    "import os\n",
    "import fpdf\n",
    "import numpy as np\n",
    "from PIL import Image, ImageOps\n",
    "import webbrowser\n",
    "import argparse\n",
    "import matplotlib.pyplot as plt\n",
    "import math\n",
    "import tortuosity_histogram as t"
   ]
  },
  {
   "cell_type": "code",
   "execution_count": 2,
   "id": "c953d35e-4634-4ee6-8177-08c36ab6ff36",
   "metadata": {
    "ExecuteTime": {
     "end_time": "2025-01-31T04:35:51.574588Z",
     "start_time": "2025-01-31T04:35:51.567656Z"
    }
   },
   "outputs": [],
   "source": [
    "import subprocess\n",
    "from IPython.display import display, HTML"
   ]
  },
  {
   "cell_type": "code",
   "execution_count": 3,
   "id": "dec4b34f-3c01-4e13-96dd-6cee0e7a1686",
   "metadata": {
    "ExecuteTime": {
     "end_time": "2025-01-31T05:44:46.789121Z",
     "start_time": "2025-01-31T04:35:51.589602Z"
    }
   },
   "outputs": [
    {
     "name": "stdout",
     "output_type": "stream",
     "text": [
      "Generating Text Files\n",
      "Executing data_0.514_2.4_000220\n",
      "data_0.514_2.4_000220 Graph Generated\n",
      "data_0.514_2.4_000220 Descriptors Generated\n",
      "data_0.514_2.4_000220 Text File Generated\n",
      "Executing data_0.514_2.6_000080\n",
      "data_0.514_2.6_000080 Graph Generated\n",
      "data_0.514_2.6_000080 Descriptors Generated\n",
      "data_0.514_2.6_000080 Text File Generated\n",
      "Executing data_0.514_2.6_000980\n",
      "data_0.514_2.6_000980 Graph Generated\n",
      "data_0.514_2.6_000980 Descriptors Generated\n",
      "data_0.514_2.6_000980 Text File Generated\n",
      "Executing data_0.514_2.8_000200\n",
      "data_0.514_2.8_000200 Graph Generated\n",
      "data_0.514_2.8_000200 Descriptors Generated\n",
      "data_0.514_2.8_000200 Text File Generated\n",
      "Executing data_0.514_2.8_005540\n",
      "data_0.514_2.8_005540 Graph Generated\n",
      "data_0.514_2.8_005540 Descriptors Generated\n",
      "data_0.514_2.8_005540 Text File Generated\n",
      "Executing data_0.514_3.4_000500\n",
      "data_0.514_3.4_000500 Graph Generated\n",
      "data_0.514_3.4_000500 Descriptors Generated\n",
      "data_0.514_3.4_000500 Text File Generated\n",
      "Executing data_0.514_4.0_000040\n",
      "data_0.514_4.0_000040 Graph Generated\n",
      "data_0.514_4.0_000040 Descriptors Generated\n",
      "data_0.514_4.0_000040 Text File Generated\n",
      "Executing data_0.528_2.6_006300\n",
      "data_0.528_2.6_006300 Graph Generated\n",
      "data_0.528_2.6_006300 Descriptors Generated\n",
      "data_0.528_2.6_006300 Text File Generated\n",
      "Executing data_0.528_3.2_000880\n",
      "data_0.528_3.2_000880 Graph Generated\n",
      "data_0.528_3.2_000880 Descriptors Generated\n",
      "data_0.528_3.2_000880 Text File Generated\n",
      "Executing data_0.528_3.4_000140\n",
      "data_0.528_3.4_000140 Graph Generated\n",
      "data_0.528_3.4_000140 Descriptors Generated\n",
      "data_0.528_3.4_000140 Text File Generated\n",
      "Executing data_0.528_3.8_000100\n",
      "data_0.528_3.8_000100 Graph Generated\n",
      "data_0.528_3.8_000100 Descriptors Generated\n",
      "data_0.528_3.8_000100 Text File Generated\n",
      "Executing data_0.528_3.8_007080\n",
      "data_0.528_3.8_007080 Graph Generated\n",
      "data_0.528_3.8_007080 Descriptors Generated\n",
      "data_0.528_3.8_007080 Text File Generated\n",
      "Executing data_0.528_4.0_001100\n",
      "data_0.528_4.0_001100 Graph Generated\n",
      "data_0.528_4.0_001100 Descriptors Generated\n",
      "data_0.528_4.0_001100 Text File Generated\n",
      "Executing data_0.543_2.6_000060\n",
      "data_0.543_2.6_000060 Graph Generated\n",
      "data_0.543_2.6_000060 Descriptors Generated\n",
      "data_0.543_2.6_000060 Text File Generated\n",
      "Executing data_0.543_2.8_006140\n",
      "data_0.543_2.8_006140 Graph Generated\n",
      "data_0.543_2.8_006140 Descriptors Generated\n",
      "data_0.543_2.8_006140 Text File Generated\n",
      "Executing data_0.543_3.4_001960\n",
      "data_0.543_3.4_001960 Graph Generated\n",
      "data_0.543_3.4_001960 Descriptors Generated\n",
      "data_0.543_3.4_001960 Text File Generated\n",
      "Executing data_0.543_4.0_000080\n",
      "data_0.543_4.0_000080 Graph Generated\n",
      "data_0.543_4.0_000080 Descriptors Generated\n",
      "data_0.543_4.0_000080 Text File Generated\n",
      "Executing data_0.558_2.4_002420\n",
      "data_0.558_2.4_002420 Graph Generated\n",
      "data_0.558_2.4_002420 Descriptors Generated\n",
      "data_0.558_2.4_002420 Text File Generated\n",
      "Executing data_0.558_2.6_000100\n",
      "data_0.558_2.6_000100 Graph Generated\n",
      "data_0.558_2.6_000100 Descriptors Generated\n",
      "data_0.558_2.6_000100 Text File Generated\n",
      "Executing data_0.558_3.2_000400\n",
      "data_0.558_3.2_000400 Graph Generated\n",
      "data_0.558_3.2_000400 Descriptors Generated\n",
      "data_0.558_3.2_000400 Text File Generated\n",
      "Executing data_0.558_3.4_000040\n",
      "data_0.558_3.4_000040 Graph Generated\n",
      "data_0.558_3.4_000040 Descriptors Generated\n",
      "data_0.558_3.4_000040 Text File Generated\n",
      "Executing data_0.558_3.6_000420\n",
      "data_0.558_3.6_000420 Graph Generated\n",
      "data_0.558_3.6_000420 Descriptors Generated\n",
      "data_0.558_3.6_000420 Text File Generated\n",
      "Executing data_0.572_3.8_006980\n",
      "data_0.572_3.8_006980 Graph Generated\n",
      "data_0.572_3.8_006980 Descriptors Generated\n",
      "data_0.572_3.8_006980 Text File Generated\n",
      "Executing data_0.586_2.6_000220\n",
      "data_0.586_2.6_000220 Graph Generated\n",
      "data_0.586_2.6_000220 Descriptors Generated\n",
      "data_0.586_2.6_000220 Text File Generated\n",
      "Executing data_0.586_2.8_000280\n",
      "data_0.586_2.8_000280 Graph Generated\n",
      "data_0.586_2.8_000280 Descriptors Generated\n",
      "data_0.586_2.8_000280 Text File Generated\n",
      "Executing data_0.586_3.2_003200\n",
      "data_0.586_3.2_003200 Graph Generated\n",
      "data_0.586_3.2_003200 Descriptors Generated\n",
      "data_0.586_3.2_003200 Text File Generated\n",
      "Executing data_0.586_3.6_007220\n",
      "data_0.586_3.6_007220 Graph Generated\n",
      "data_0.586_3.6_007220 Descriptors Generated\n",
      "data_0.586_3.6_007220 Text File Generated\n",
      "Executing data_0.586_4.0_006740\n",
      "data_0.586_4.0_006740 Graph Generated\n",
      "data_0.586_4.0_006740 Descriptors Generated\n",
      "data_0.586_4.0_006740 Text File Generated\n",
      "Executing data_0.5_2.2_001900\n",
      "data_0.5_2.2_001900 Graph Generated\n",
      "data_0.5_2.2_001900 Descriptors Generated\n",
      "data_0.5_2.2_001900 Text File Generated\n",
      "Executing data_0.5_2.6_004020\n",
      "data_0.5_2.6_004020 Graph Generated\n",
      "data_0.5_2.6_004020 Descriptors Generated\n",
      "data_0.5_2.6_004020 Text File Generated\n",
      "Executing data_0.5_2.8_000380\n",
      "data_0.5_2.8_000380 Graph Generated\n",
      "data_0.5_2.8_000380 Descriptors Generated\n",
      "data_0.5_2.8_000380 Text File Generated\n",
      "Executing data_0.5_3.6_000540\n",
      "data_0.5_3.6_000540 Graph Generated\n",
      "data_0.5_3.6_000540 Descriptors Generated\n",
      "data_0.5_3.6_000540 Text File Generated\n",
      "Executing data_0.5_3.8_001820\n",
      "data_0.5_3.8_001820 Graph Generated\n",
      "data_0.5_3.8_001820 Descriptors Generated\n",
      "data_0.5_3.8_001820 Text File Generated\n",
      "Text Files Generated\n"
     ]
    }
   ],
   "source": [
    "%run tests.py \"txt\""
   ]
  },
  {
   "cell_type": "code",
   "execution_count": 3,
   "id": "9bb2c79a-3b94-46b9-8efe-bf5362517878",
   "metadata": {
    "ExecuteTime": {
     "start_time": "2025-01-31T16:53:38.261933Z"
    },
    "jupyter": {
     "is_executing": true
    }
   },
   "outputs": [
    {
     "name": "stdout",
     "output_type": "stream",
     "text": [
      "Generating PDF\n",
      "Generating Text Files\n",
      "Executing data_0.514_2.4_000220\n",
      "data_0.514_2.4_000220 Graph Generated\n",
      "data_0.514_2.4_000220 PDF Generated\n",
      "Executing data_0.514_2.6_000080\n",
      "data_0.514_2.6_000080 Graph Generated\n",
      "data_0.514_2.6_000080 PDF Generated\n",
      "Executing data_0.514_2.6_000980\n",
      "data_0.514_2.6_000980 Graph Generated\n",
      "data_0.514_2.6_000980 PDF Generated\n",
      "Executing data_0.514_2.8_000200\n",
      "data_0.514_2.8_000200 Graph Generated\n",
      "data_0.514_2.8_000200 PDF Generated\n",
      "Executing data_0.514_2.8_005540\n",
      "data_0.514_2.8_005540 Graph Generated\n",
      "data_0.514_2.8_005540 PDF Generated\n",
      "Executing data_0.514_3.4_000500\n",
      "data_0.514_3.4_000500 Graph Generated\n",
      "data_0.514_3.4_000500 PDF Generated\n",
      "Executing data_0.514_4.0_000040\n",
      "data_0.514_4.0_000040 Graph Generated\n",
      "data_0.514_4.0_000040 PDF Generated\n",
      "Executing data_0.528_2.6_006300\n",
      "data_0.528_2.6_006300 Graph Generated\n",
      "data_0.528_2.6_006300 PDF Generated\n",
      "Executing data_0.528_3.2_000880\n",
      "data_0.528_3.2_000880 Graph Generated\n",
      "data_0.528_3.2_000880 PDF Generated\n",
      "Executing data_0.528_3.4_000140\n",
      "data_0.528_3.4_000140 Graph Generated\n",
      "data_0.528_3.4_000140 PDF Generated\n",
      "Executing data_0.528_3.8_000100\n",
      "data_0.528_3.8_000100 Graph Generated\n",
      "data_0.528_3.8_000100 PDF Generated\n",
      "Executing data_0.528_3.8_007080\n",
      "data_0.528_3.8_007080 Graph Generated\n",
      "data_0.528_3.8_007080 PDF Generated\n",
      "Executing data_0.528_4.0_001100\n",
      "data_0.528_4.0_001100 Graph Generated\n",
      "data_0.528_4.0_001100 PDF Generated\n",
      "Executing data_0.543_2.6_000060\n",
      "data_0.543_2.6_000060 Graph Generated\n",
      "data_0.543_2.6_000060 PDF Generated\n",
      "Executing data_0.543_2.8_006140\n",
      "data_0.543_2.8_006140 Graph Generated\n",
      "data_0.543_2.8_006140 PDF Generated\n",
      "Executing data_0.543_3.4_001960\n",
      "data_0.543_3.4_001960 Graph Generated\n",
      "data_0.543_3.4_001960 PDF Generated\n",
      "Executing data_0.543_4.0_000080\n",
      "data_0.543_4.0_000080 Graph Generated\n",
      "data_0.543_4.0_000080 PDF Generated\n",
      "Executing data_0.558_2.4_002420\n",
      "data_0.558_2.4_002420 Graph Generated\n",
      "data_0.558_2.4_002420 PDF Generated\n",
      "Executing data_0.558_2.6_000100\n",
      "data_0.558_2.6_000100 Graph Generated\n",
      "data_0.558_2.6_000100 PDF Generated\n",
      "Executing data_0.558_3.2_000400\n",
      "data_0.558_3.2_000400 Graph Generated\n",
      "data_0.558_3.2_000400 PDF Generated\n",
      "Executing data_0.558_3.4_000040\n",
      "data_0.558_3.4_000040 Graph Generated\n",
      "data_0.558_3.4_000040 PDF Generated\n",
      "Executing data_0.558_3.6_000420\n",
      "data_0.558_3.6_000420 Graph Generated\n",
      "data_0.558_3.6_000420 PDF Generated\n",
      "Executing data_0.572_3.8_006980\n",
      "data_0.572_3.8_006980 Graph Generated\n",
      "data_0.572_3.8_006980 PDF Generated\n",
      "Executing data_0.586_2.6_000220\n",
      "data_0.586_2.6_000220 Graph Generated\n",
      "data_0.586_2.6_000220 PDF Generated\n",
      "Executing data_0.586_2.8_000280\n",
      "data_0.586_2.8_000280 Graph Generated\n",
      "data_0.586_2.8_000280 PDF Generated\n",
      "Executing data_0.586_3.2_003200\n",
      "data_0.586_3.2_003200 Graph Generated\n",
      "data_0.586_3.2_003200 PDF Generated\n",
      "Executing data_0.586_3.6_007220\n",
      "data_0.586_3.6_007220 Graph Generated\n",
      "data_0.586_3.6_007220 PDF Generated\n",
      "Executing data_0.586_4.0_006740\n",
      "data_0.586_4.0_006740 Graph Generated\n",
      "data_0.586_4.0_006740 PDF Generated\n",
      "Executing data_0.5_2.2_001900\n",
      "data_0.5_2.2_001900 Graph Generated\n",
      "data_0.5_2.2_001900 PDF Generated\n",
      "Executing data_0.5_2.6_004020\n",
      "data_0.5_2.6_004020 Graph Generated\n",
      "data_0.5_2.6_004020 PDF Generated\n",
      "Executing data_0.5_2.8_000380\n",
      "data_0.5_2.8_000380 Graph Generated\n",
      "data_0.5_2.8_000380 PDF Generated\n",
      "Executing data_0.5_3.6_000540\n",
      "data_0.5_3.6_000540 Graph Generated\n",
      "data_0.5_3.6_000540 PDF Generated\n",
      "Executing data_0.5_3.8_001820\n",
      "data_0.5_3.8_001820 Graph Generated\n",
      "data_0.5_3.8_001820 PDF Generated\n",
      "Text Files Generated\n"
     ]
    },
    {
     "ename": "FileNotFoundError",
     "evalue": "[Errno 2] No such file or directory: 'C:\\\\Users\\\\kevin\\\\PycharmProjects\\\\Demo_Day\\\\py-graspi\\\\py_graspi/py_graspi/test_results.pdf'",
     "output_type": "error",
     "traceback": [
      "\u001b[1;31m---------------------------------------------------------------------------\u001b[0m",
      "\u001b[1;31mFileNotFoundError\u001b[0m                         Traceback (most recent call last)",
      "File \u001b[1;32m~\\PycharmProjects\\Demo_Day\\py-graspi\\py_graspi\\tests.py:196\u001b[0m\n\u001b[0;32m    193\u001b[0m         webbrowser\u001b[38;5;241m.\u001b[39mopen_new_tab(\u001b[38;5;124mf\u001b[39m\u001b[38;5;124m\"\u001b[39m\u001b[38;5;132;01m{\u001b[39;00mcurrent_dir\u001b[38;5;132;01m}\u001b[39;00m\u001b[38;5;124m/py_graspi/test_results.pdf\u001b[39m\u001b[38;5;124m\"\u001b[39m)\n\u001b[0;32m    195\u001b[0m \u001b[38;5;28;01mif\u001b[39;00m \u001b[38;5;18m__name__\u001b[39m \u001b[38;5;241m==\u001b[39m \u001b[38;5;124m\"\u001b[39m\u001b[38;5;124m__main__\u001b[39m\u001b[38;5;124m\"\u001b[39m:\n\u001b[1;32m--> 196\u001b[0m     \u001b[43mmain\u001b[49m\u001b[43m(\u001b[49m\u001b[43m)\u001b[49m\n",
      "File \u001b[1;32m~\\PycharmProjects\\Demo_Day\\py-graspi\\py_graspi\\tests.py:191\u001b[0m, in \u001b[0;36mmain\u001b[1;34m()\u001b[0m\n\u001b[0;32m    187\u001b[0m \u001b[38;5;250m\u001b[39m\u001b[38;5;124;03m\"\"\"\u001b[39;00m\n\u001b[0;32m    188\u001b[0m \u001b[38;5;124;03mOutputs the generated pdf to the user.\u001b[39;00m\n\u001b[0;32m    189\u001b[0m \u001b[38;5;124;03m\"\"\"\u001b[39;00m\n\u001b[0;32m    190\u001b[0m \u001b[38;5;28;01mif\u001b[39;00m PDF:\n\u001b[1;32m--> 191\u001b[0m     \u001b[43mpdf\u001b[49m\u001b[38;5;241;43m.\u001b[39;49m\u001b[43moutput\u001b[49m\u001b[43m(\u001b[49m\u001b[38;5;124;43mf\u001b[39;49m\u001b[38;5;124;43m\"\u001b[39;49m\u001b[38;5;132;43;01m{\u001b[39;49;00m\u001b[43mcurrent_dir\u001b[49m\u001b[38;5;132;43;01m}\u001b[39;49;00m\u001b[38;5;124;43m/py_graspi/test_results.pdf\u001b[39;49m\u001b[38;5;124;43m\"\u001b[39;49m\u001b[43m)\u001b[49m\n\u001b[0;32m    192\u001b[0m     \u001b[38;5;28mprint\u001b[39m(\u001b[38;5;124m\"\u001b[39m\u001b[38;5;124mPDF Generated\u001b[39m\u001b[38;5;124m\"\u001b[39m)\n\u001b[0;32m    193\u001b[0m     webbrowser\u001b[38;5;241m.\u001b[39mopen_new_tab(\u001b[38;5;124mf\u001b[39m\u001b[38;5;124m\"\u001b[39m\u001b[38;5;132;01m{\u001b[39;00mcurrent_dir\u001b[38;5;132;01m}\u001b[39;00m\u001b[38;5;124m/py_graspi/test_results.pdf\u001b[39m\u001b[38;5;124m\"\u001b[39m)\n",
      "File \u001b[1;32m~\\PycharmProjects\\Demo_Day\\.venv\\Lib\\site-packages\\fpdf\\fpdf.py:1079\u001b[0m, in \u001b[0;36mFPDF.output\u001b[1;34m(self, name, dest)\u001b[0m\n\u001b[0;32m   1076\u001b[0m     \u001b[38;5;28mprint\u001b[39m(\u001b[38;5;28mself\u001b[39m\u001b[38;5;241m.\u001b[39mbuffer)\n\u001b[0;32m   1077\u001b[0m \u001b[38;5;28;01melif\u001b[39;00m dest\u001b[38;5;241m==\u001b[39m\u001b[38;5;124m'\u001b[39m\u001b[38;5;124mF\u001b[39m\u001b[38;5;124m'\u001b[39m:\n\u001b[0;32m   1078\u001b[0m     \u001b[38;5;66;03m#Save to local file\u001b[39;00m\n\u001b[1;32m-> 1079\u001b[0m     f\u001b[38;5;241m=\u001b[39m\u001b[38;5;28;43mopen\u001b[39;49m\u001b[43m(\u001b[49m\u001b[43mname\u001b[49m\u001b[43m,\u001b[49m\u001b[38;5;124;43m'\u001b[39;49m\u001b[38;5;124;43mwb\u001b[39;49m\u001b[38;5;124;43m'\u001b[39;49m\u001b[43m)\u001b[49m\n\u001b[0;32m   1080\u001b[0m     \u001b[38;5;28;01mif\u001b[39;00m(\u001b[38;5;129;01mnot\u001b[39;00m f):\n\u001b[0;32m   1081\u001b[0m         \u001b[38;5;28mself\u001b[39m\u001b[38;5;241m.\u001b[39merror(\u001b[38;5;124m'\u001b[39m\u001b[38;5;124mUnable to create output file: \u001b[39m\u001b[38;5;124m'\u001b[39m\u001b[38;5;241m+\u001b[39mname)\n",
      "\u001b[1;31mFileNotFoundError\u001b[0m: [Errno 2] No such file or directory: 'C:\\\\Users\\\\kevin\\\\PycharmProjects\\\\Demo_Day\\\\py-graspi\\\\py_graspi/py_graspi/test_results.pdf'"
     ]
    }
   ],
   "source": [
    "%run tests.py \"pdf\""
   ]
  },
  {
   "cell_type": "code",
   "execution_count": 4,
   "id": "786dec4e-af36-48cf-8bb8-38d555a49015",
   "metadata": {
    "ExecuteTime": {
     "end_time": "2025-01-31T04:35:37.683361Z",
     "start_time": "2025-01-31T04:35:37.415845Z"
    }
   },
   "outputs": [
    {
     "data": {
      "text/html": [
       "\n",
       "<iframe src=\"test_results.pdf\" width=\"1000\" height=\"800\">\n",
       "</iframe>\n"
      ],
      "text/plain": [
       "<IPython.core.display.HTML object>"
      ]
     },
     "metadata": {},
     "output_type": "display_data"
    }
   ],
   "source": [
    "pdf_html = \"\"\"\n",
    "<iframe src=\"test_results.pdf\" width=\"1000\" height=\"800\">\n",
    "</iframe>\n",
    "\"\"\"\n",
    "display(HTML(pdf_html))"
   ]
  },
  {
   "cell_type": "code",
   "execution_count": null,
   "id": "208279dd-97b0-4f15-968d-31f3a3306882",
   "metadata": {},
   "outputs": [],
   "source": []
  }
 ],
 "metadata": {
  "kernelspec": {
   "display_name": "Python 3 (ipykernel)",
   "language": "python",
   "name": "python3"
  },
  "language_info": {
   "codemirror_mode": {
    "name": "ipython",
    "version": 3
   },
   "file_extension": ".py",
   "mimetype": "text/x-python",
   "name": "python",
   "nbconvert_exporter": "python",
   "pygments_lexer": "ipython3",
   "version": "3.12.6"
  }
 },
 "nbformat": 4,
 "nbformat_minor": 5
}
