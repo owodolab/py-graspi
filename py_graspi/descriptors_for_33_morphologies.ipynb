{
 "cells": [
  {
   "cell_type": "raw",
   "id": "b801bf67-11de-458c-b77e-78d3ce4c053a",
   "metadata": {},
   "source": [
    "import descriptor_testing.py"
   ]
  },
  {
   "cell_type": "code",
   "execution_count": 1,
   "id": "3ebfed8b-6860-4d5c-addd-4ae28d07c251",
   "metadata": {},
   "outputs": [
    {
     "name": "stdout",
     "output_type": "stream",
     "text": [
      "STAT_n 65536\n",
      "STAT_e 1634\n",
      "STAT_n_D 32713\n",
      "STAT_n_A 32823\n",
      "STAT_CC_D 2\n",
      "STAT_CC_A 1\n",
      "STAT_CC_D_An 1\n",
      "STAT_CC_A_Ca 1\n",
      "ABS_wf_D 0.31148777712164943\n",
      "ABS_f_D 0.4991607666015625\n",
      "DISS_f10_D 0.4296151377128359\n",
      "DISS_wf10_D 0.2171188419480464\n",
      "CT_f_e_conn 0.7821297429620563\n",
      "CT_f_conn_D_An 0.8702656436279155\n",
      "CT_f_conn_A_Ca 1.0\n",
      "CT_e_conn 1278\n",
      "CT_e_D_An 1278\n",
      "CT_e_A_Ca 1638\n",
      "CT_n_D_adj_An 512\n",
      "CT_n_A_adj_Ca 512\n",
      "CT_f_D_tort1 0.9691594365801398\n",
      "CT_f_A_tort1 0.7340279681930354\n"
     ]
    }
   ],
   "source": [
    "!python descriptor_testing.py data/data_0.5_2.2_001900.txt"
   ]
  },
  {
   "cell_type": "code",
   "execution_count": 2,
   "id": "bea3dc4e-cd99-4b9d-ac06-4ae7a0b9ecac",
   "metadata": {},
   "outputs": [
    {
     "name": "stdout",
     "output_type": "stream",
     "text": [
      "STAT_n 65536\n",
      "STAT_e 1280\n",
      "STAT_n_D 32927\n",
      "STAT_n_A 32609\n",
      "STAT_CC_D 1\n",
      "STAT_CC_A 2\n",
      "STAT_CC_D_An 1\n",
      "STAT_CC_A_Ca 1\n",
      "ABS_wf_D 0.31466602468453303\n",
      "ABS_f_D 0.5024261474609375\n",
      "DISS_f10_D 0.32414128223038846\n",
      "DISS_wf10_D 0.16571560440067673\n",
      "CT_f_e_conn 0.78125\n",
      "CT_f_conn_D_An 1.0\n",
      "CT_f_conn_A_Ca 0.8979116194915514\n",
      "CT_e_conn 1000\n",
      "CT_e_D_An 1284\n",
      "CT_e_A_Ca 1000\n",
      "CT_n_D_adj_An 512\n",
      "CT_n_A_adj_Ca 512\n",
      "CT_f_D_tort1 0.7177088711391867\n",
      "CT_f_A_tort1 0.9097677595628415\n"
     ]
    }
   ],
   "source": [
    "!python descriptor_testing.py data/data_0.5_2.6_004020.txt"
   ]
  },
  {
   "cell_type": "code",
   "execution_count": 3,
   "id": "6d164766-e273-4b93-a641-6b54d7f090cc",
   "metadata": {},
   "outputs": [
    {
     "name": "stdout",
     "output_type": "stream",
     "text": [
      "STAT_n 65536\n",
      "STAT_e 2260\n",
      "STAT_n_D 32818\n",
      "STAT_n_A 32718\n",
      "STAT_CC_D 2\n",
      "STAT_CC_A 2\n",
      "STAT_CC_D_An 1\n",
      "STAT_CC_A_Ca 1\n",
      "ABS_wf_D 0.3000417589060818\n",
      "ABS_f_D 0.500762939453125\n",
      "DISS_f10_D 0.5642939850082271\n",
      "DISS_wf10_D 0.28811720620141207\n",
      "CT_f_e_conn 0.7424778761061946\n",
      "CT_f_conn_D_An 0.8805228837832897\n",
      "CT_f_conn_A_Ca 0.9042423130998227\n",
      "CT_e_conn 1678\n",
      "CT_e_D_An 1934\n",
      "CT_e_A_Ca 2012\n",
      "CT_n_D_adj_An 512\n",
      "CT_n_A_adj_Ca 512\n",
      "CT_f_D_tort1 0.6753988303284078\n",
      "CT_f_A_tort1 0.588135879668751\n"
     ]
    }
   ],
   "source": [
    "!python descriptor_testing.py data/data_0.5_2.8_000380.txt"
   ]
  },
  {
   "cell_type": "code",
   "execution_count": 4,
   "id": "33704ac4-41a0-4e86-b5d8-4b18f9a21293",
   "metadata": {},
   "outputs": [
    {
     "name": "stdout",
     "output_type": "stream",
     "text": [
      "STAT_n 65536\n",
      "STAT_e 3628\n",
      "STAT_n_D 32832\n",
      "STAT_n_A 32704\n",
      "STAT_CC_D 4\n",
      "STAT_CC_A 4\n",
      "STAT_CC_D_An 1\n",
      "STAT_CC_A_Ca 1\n",
      "ABS_wf_D 0.3035009382059145\n",
      "ABS_f_D 0.5009765625\n",
      "DISS_f10_D 0.8113730506822612\n",
      "DISS_wf10_D 0.436719314846638\n",
      "CT_f_e_conn 0.3428886438809261\n",
      "CT_f_conn_D_An 0.8462780214424951\n",
      "CT_f_conn_A_Ca 0.611943493150685\n",
      "CT_e_conn 1244\n",
      "CT_e_D_An 2842\n",
      "CT_e_A_Ca 2054\n",
      "CT_n_D_adj_An 512\n",
      "CT_n_A_adj_Ca 512\n",
      "CT_f_D_tort1 0.3642612920640633\n",
      "CT_f_A_tort1 0.4631489531804327\n"
     ]
    }
   ],
   "source": [
    "!python descriptor_testing.py data/data_0.5_3.6_000540.txt"
   ]
  },
  {
   "cell_type": "code",
   "execution_count": 5,
   "id": "9b843b37-ec16-4e50-9635-7fd752de32e9",
   "metadata": {},
   "outputs": [
    {
     "name": "stdout",
     "output_type": "stream",
     "text": [
      "STAT_n 65536\n",
      "STAT_e 2458\n",
      "STAT_n_D 32748\n",
      "STAT_n_A 32788\n",
      "STAT_CC_D 1\n",
      "STAT_CC_A 3\n",
      "STAT_CC_D_An 1\n",
      "STAT_CC_A_Ca 1\n",
      "ABS_wf_D 0.2945634519758941\n",
      "ABS_f_D 0.49969482421875\n",
      "DISS_f10_D 0.6245266886527422\n",
      "DISS_wf10_D 0.319311293027808\n",
      "CT_f_e_conn 0.34906427990235966\n",
      "CT_f_conn_D_An 1.0\n",
      "CT_f_conn_A_Ca 0.3808100524582164\n",
      "CT_e_conn 858\n",
      "CT_e_D_An 2465\n",
      "CT_e_A_Ca 858\n",
      "CT_n_D_adj_An 512\n",
      "CT_n_A_adj_Ca 512\n",
      "CT_f_D_tort1 0.3357151581775986\n",
      "CT_f_A_tort1 0.8886753163543168\n"
     ]
    }
   ],
   "source": [
    "!python descriptor_testing.py data/data_0.5_3.8_001820.txt"
   ]
  },
  {
   "cell_type": "code",
   "execution_count": 6,
   "id": "7ba203f5-3797-4ebc-b303-7669e607a28c",
   "metadata": {},
   "outputs": [
    {
     "name": "stdout",
     "output_type": "stream",
     "text": [
      "STAT_n 65536\n",
      "STAT_e 2718\n",
      "STAT_n_D 30979\n",
      "STAT_n_A 34557\n",
      "STAT_CC_D 7\n",
      "STAT_CC_A 2\n",
      "STAT_CC_D_An 1\n",
      "STAT_CC_A_Ca 1\n",
      "ABS_wf_D 0.289437642232258\n",
      "ABS_f_D 0.4727020263671875\n",
      "DISS_f10_D 0.6579295651893218\n",
      "DISS_wf10_D 0.34369886584985676\n",
      "CT_f_e_conn 0.41869021339220014\n",
      "CT_f_conn_D_An 0.5464992414216082\n",
      "CT_f_conn_A_Ca 0.9760395867696848\n",
      "CT_e_conn 1138\n",
      "CT_e_D_An 1298\n",
      "CT_e_A_Ca 2586\n",
      "CT_n_D_adj_An 512\n",
      "CT_n_A_adj_Ca 512\n",
      "CT_f_D_tort1 0.6683402244536326\n",
      "CT_f_A_tort1 0.5629576921936612\n"
     ]
    }
   ],
   "source": [
    "!python descriptor_testing.py data/data_0.514_2.4_000220.txt"
   ]
  },
  {
   "cell_type": "code",
   "execution_count": 7,
   "id": "31cd4626-2200-4564-9755-df1bfa586593",
   "metadata": {},
   "outputs": [
    {
     "name": "stdout",
     "output_type": "stream",
     "text": [
      "STAT_n 65536\n",
      "STAT_e 3528\n",
      "STAT_n_D 31494\n",
      "STAT_n_A 34042\n",
      "STAT_CC_D 6\n",
      "STAT_CC_A 3\n",
      "STAT_CC_D_An 1\n",
      "STAT_CC_A_Ca 1\n",
      "ABS_wf_D 0.2905818965876171\n",
      "ABS_f_D 0.480560302734375\n",
      "DISS_f10_D 0.8329523083761986\n",
      "DISS_wf10_D 0.44020775765361236\n",
      "CT_f_e_conn 0.45918367346938777\n",
      "CT_f_conn_D_An 0.6215152092462056\n",
      "CT_f_conn_A_Ca 0.9257681687327419\n",
      "CT_e_conn 1620\n",
      "CT_e_D_An 2030\n",
      "CT_e_A_Ca 3146\n",
      "CT_n_D_adj_An 512\n",
      "CT_n_A_adj_Ca 512\n",
      "CT_f_D_tort1 0.47946255236538265\n",
      "CT_f_A_tort1 0.3617007774075837\n"
     ]
    }
   ],
   "source": [
    "!python descriptor_testing.py data/data_0.514_2.6_000080.txt"
   ]
  },
  {
   "cell_type": "code",
   "execution_count": 8,
   "id": "74803262-9540-4e57-93f3-cddf8b4e7a82",
   "metadata": {},
   "outputs": [
    {
     "name": "stdout",
     "output_type": "stream",
     "text": [
      "STAT_n 65536\n",
      "STAT_e 1768\n",
      "STAT_n_D 31663\n",
      "STAT_n_A 33873\n",
      "STAT_CC_D 3\n",
      "STAT_CC_A 2\n",
      "STAT_CC_D_An 1\n",
      "STAT_CC_A_Ca 1\n",
      "ABS_wf_D 0.297939100584844\n",
      "ABS_f_D 0.4831390380859375\n",
      "DISS_f10_D 0.4461990335723084\n",
      "DISS_wf10_D 0.2294422709212343\n",
      "CT_f_e_conn 0.45361990950226244\n",
      "CT_f_conn_D_An 0.7606038593942457\n",
      "CT_f_conn_A_Ca 0.8376287898916541\n",
      "CT_e_conn 802\n",
      "CT_e_D_An 1176\n",
      "CT_e_A_Ca 1406\n",
      "CT_n_D_adj_An 512\n",
      "CT_n_A_adj_Ca 512\n",
      "CT_f_D_tort1 0.6938919569821036\n",
      "CT_f_A_tort1 0.5627533218200402\n"
     ]
    }
   ],
   "source": [
    "!python descriptor_testing.py data/data_0.514_2.6_000980.txt"
   ]
  },
  {
   "cell_type": "code",
   "execution_count": 9,
   "id": "787b9bf6-33a8-4e99-8415-35c79db62901",
   "metadata": {},
   "outputs": [
    {
     "name": "stdout",
     "output_type": "stream",
     "text": [
      "STAT_n 65536\n",
      "STAT_e 2568\n",
      "STAT_n_D 31468\n",
      "STAT_n_A 34068\n",
      "STAT_CC_D 7\n",
      "STAT_CC_A 1\n",
      "STAT_CC_D_An 1\n",
      "STAT_CC_A_Ca 1\n",
      "ABS_wf_D 0.29307525623046904\n",
      "ABS_f_D 0.48016357421875\n",
      "DISS_f10_D 0.595779839837295\n",
      "DISS_wf10_D 0.31286772173071065\n",
      "CT_f_e_conn 0.5366043613707165\n",
      "CT_f_conn_D_An 0.6271450362272785\n",
      "CT_f_conn_A_Ca 1.0\n",
      "CT_e_conn 1378\n",
      "CT_e_D_An 1378\n",
      "CT_e_A_Ca 2592\n",
      "CT_n_D_adj_An 512\n",
      "CT_n_A_adj_Ca 512\n",
      "CT_f_D_tort1 0.7022042057258677\n",
      "CT_f_A_tort1 0.42661735352823765\n"
     ]
    }
   ],
   "source": [
    "!python descriptor_testing.py data/data_0.514_2.8_000200.txt"
   ]
  },
  {
   "cell_type": "code",
   "execution_count": 10,
   "id": "2ba0574e-093f-4982-b1b8-9bc4a1ca2fc1",
   "metadata": {},
   "outputs": [
    {
     "name": "stdout",
     "output_type": "stream",
     "text": [
      "STAT_n 65536\n",
      "STAT_e 1520\n",
      "STAT_n_D 31702\n",
      "STAT_n_A 33834\n",
      "STAT_CC_D 2\n",
      "STAT_CC_A 1\n",
      "STAT_CC_D_An 1\n",
      "STAT_CC_A_Ca 1\n",
      "ABS_wf_D 0.2774564462142751\n",
      "ABS_f_D 0.483734130859375\n",
      "DISS_f10_D 0.3853700082013753\n",
      "DISS_wf10_D 0.20054107189461967\n",
      "CT_f_e_conn 0.6934210526315789\n",
      "CT_f_conn_D_An 0.714655226799571\n",
      "CT_f_conn_A_Ca 1.0\n",
      "CT_e_conn 1054\n",
      "CT_e_D_An 1054\n",
      "CT_e_A_Ca 1524\n",
      "CT_n_D_adj_An 512\n",
      "CT_n_A_adj_Ca 512\n",
      "CT_f_D_tort1 0.7943591101694916\n",
      "CT_f_A_tort1 0.5556836318496188\n"
     ]
    }
   ],
   "source": [
    "!python descriptor_testing.py data/data_0.514_2.8_005540.txt"
   ]
  },
  {
   "cell_type": "code",
   "execution_count": 11,
   "id": "a1f5b156-e4be-4d6e-8f3f-931d7fbb4250",
   "metadata": {},
   "outputs": [
    {
     "name": "stdout",
     "output_type": "stream",
     "text": [
      "STAT_n 65536\n",
      "STAT_e 3754\n",
      "STAT_n_D 31856\n",
      "STAT_n_A 33680\n",
      "STAT_CC_D 5\n",
      "STAT_CC_A 4\n",
      "STAT_CC_D_An 1\n",
      "STAT_CC_A_Ca 1\n",
      "ABS_wf_D 0.294863269204334\n",
      "ABS_f_D 0.486083984375\n",
      "DISS_f10_D 0.8761614766449021\n",
      "DISS_wf10_D 0.4655156857114957\n",
      "CT_f_e_conn 0.5828449653702718\n",
      "CT_f_conn_D_An 0.7728842290306379\n",
      "CT_f_conn_A_Ca 0.9007125890736342\n",
      "CT_e_conn 2188\n",
      "CT_e_D_An 2700\n",
      "CT_e_A_Ca 3270\n",
      "CT_n_D_adj_An 512\n",
      "CT_n_A_adj_Ca 512\n",
      "CT_f_D_tort1 0.4169611307420495\n",
      "CT_f_A_tort1 0.330498417721519\n"
     ]
    }
   ],
   "source": [
    "!python descriptor_testing.py data/data_0.514_3.4_000500.txt"
   ]
  },
  {
   "cell_type": "code",
   "execution_count": 12,
   "id": "f193b60a-3b66-4ce3-a5a1-54245906eb81",
   "metadata": {},
   "outputs": [
    {
     "name": "stdout",
     "output_type": "stream",
     "text": [
      "STAT_n 65536\n",
      "STAT_e 7060\n",
      "STAT_n_D 31979\n",
      "STAT_n_A 33557\n",
      "STAT_CC_D 11\n",
      "STAT_CC_A 9\n",
      "STAT_CC_D_An 1\n",
      "STAT_CC_A_Ca 1\n",
      "ABS_wf_D 0.29520183029469643\n",
      "ABS_f_D 0.4879608154296875\n",
      "DISS_f10_D 0.9949654460739861\n",
      "DISS_wf10_D 0.675705258863578\n",
      "CT_f_e_conn 0.3858356940509915\n",
      "CT_f_conn_D_An 0.8559992495074893\n",
      "CT_f_conn_A_Ca 0.6172482641475698\n",
      "CT_e_conn 2724\n",
      "CT_e_D_An 5759\n",
      "CT_e_A_Ca 4036\n",
      "CT_n_D_adj_An 512\n",
      "CT_n_A_adj_Ca 512\n",
      "CT_f_D_tort1 0.25009132753707897\n",
      "CT_f_A_tort1 0.3293100951093516\n"
     ]
    }
   ],
   "source": [
    "!python descriptor_testing.py data/data_0.514_4.0_000040.txt"
   ]
  },
  {
   "cell_type": "code",
   "execution_count": 13,
   "id": "c3767060-6c9d-45e0-9804-85d521ed4a31",
   "metadata": {},
   "outputs": [
    {
     "name": "stdout",
     "output_type": "stream",
     "text": [
      "STAT_n 65536\n",
      "STAT_e 1160\n",
      "STAT_n_D 30539\n",
      "STAT_n_A 34997\n",
      "STAT_CC_D 2\n",
      "STAT_CC_A 2\n",
      "STAT_CC_D_An 1\n",
      "STAT_CC_A_Ca 1\n",
      "ABS_wf_D 0.30536239684154265\n",
      "ABS_f_D 0.4659881591796875\n",
      "DISS_f10_D 0.30944038770097254\n",
      "DISS_wf10_D 0.16005246697906875\n",
      "CT_f_e_conn 0.6913793103448276\n",
      "CT_f_conn_D_An 0.9768492746979273\n",
      "CT_f_conn_A_Ca 0.9363088264708403\n",
      "CT_e_conn 802\n",
      "CT_e_D_An 1036\n",
      "CT_e_A_Ca 934\n",
      "CT_n_D_adj_An 512\n",
      "CT_n_A_adj_Ca 512\n",
      "CT_f_D_tort1 0.8129860552426924\n",
      "CT_f_A_tort1 0.873443603515625\n"
     ]
    }
   ],
   "source": [
    "!python descriptor_testing.py data/data_0.528_2.6_006300.txt"
   ]
  },
  {
   "cell_type": "code",
   "execution_count": 14,
   "id": "8b96ee81-f204-41b1-925a-958972f7ca4b",
   "metadata": {},
   "outputs": [
    {
     "name": "stdout",
     "output_type": "stream",
     "text": [
      "STAT_n 65536\n",
      "STAT_e 3146\n",
      "STAT_n_D 30757\n",
      "STAT_n_A 34779\n",
      "STAT_CC_D 7\n",
      "STAT_CC_A 4\n",
      "STAT_CC_D_An 1\n",
      "STAT_CC_A_Ca 1\n",
      "ABS_wf_D 0.2880492732835954\n",
      "ABS_f_D 0.4693145751953125\n",
      "DISS_f10_D 0.7747179503852781\n",
      "DISS_wf10_D 0.40367445622284387\n",
      "CT_f_e_conn 0.5155753337571519\n",
      "CT_f_conn_D_An 0.6974997561530708\n",
      "CT_f_conn_A_Ca 0.9577043618275396\n",
      "CT_e_conn 1622\n",
      "CT_e_D_An 1882\n",
      "CT_e_A_Ca 2922\n",
      "CT_n_D_adj_An 512\n",
      "CT_n_A_adj_Ca 512\n",
      "CT_f_D_tort1 0.6351093087213909\n",
      "CT_f_A_tort1 0.37042152035547016\n"
     ]
    }
   ],
   "source": [
    "!python descriptor_testing.py data/data_0.528_3.2_000880.txt"
   ]
  },
  {
   "cell_type": "code",
   "execution_count": 15,
   "id": "06ae1fa3-951f-4df4-a6bc-202667ee15c0",
   "metadata": {},
   "outputs": [
    {
     "name": "stdout",
     "output_type": "stream",
     "text": [
      "STAT_n 65536\n",
      "STAT_e 5368\n",
      "STAT_n_D 30795\n",
      "STAT_n_A 34741\n",
      "STAT_CC_D 12\n",
      "STAT_CC_A 3\n",
      "STAT_CC_D_An 1\n",
      "STAT_CC_A_Ca 1\n",
      "ABS_wf_D 0.28515894390958324\n",
      "ABS_f_D 0.4698944091796875\n",
      "DISS_f10_D 0.9884396817665205\n",
      "DISS_wf10_D 0.5994455263361289\n",
      "CT_f_e_conn 0.4809985096870343\n",
      "CT_f_conn_D_An 0.5987985062510148\n",
      "CT_f_conn_A_Ca 0.9512679542903199\n",
      "CT_e_conn 2582\n",
      "CT_e_D_An 2955\n",
      "CT_e_A_Ca 5043\n",
      "CT_n_D_adj_An 512\n",
      "CT_n_A_adj_Ca 512\n",
      "CT_f_D_tort1 0.38107375271149674\n",
      "CT_f_A_tort1 0.27550835148874364\n"
     ]
    }
   ],
   "source": [
    "!python descriptor_testing.py data/data_0.528_3.4_000140.txt"
   ]
  },
  {
   "cell_type": "code",
   "execution_count": 16,
   "id": "ee3b4695-99a8-4652-a6f3-ffae95e7d34e",
   "metadata": {},
   "outputs": [
    {
     "name": "stdout",
     "output_type": "stream",
     "text": [
      "STAT_n 65536\n",
      "STAT_e 5722\n",
      "STAT_n_D 30834\n",
      "STAT_n_A 34702\n",
      "STAT_CC_D 16\n",
      "STAT_CC_A 3\n",
      "STAT_CC_D_An 1\n",
      "STAT_CC_A_Ca 1\n",
      "ABS_wf_D 0.28538255552893516\n",
      "ABS_f_D 0.470489501953125\n",
      "DISS_f10_D 0.9933839268340144\n",
      "DISS_wf10_D 0.6179858218019241\n",
      "CT_f_e_conn 0.32401258301293256\n",
      "CT_f_conn_D_An 0.404553415061296\n",
      "CT_f_conn_A_Ca 0.9923635525329952\n",
      "CT_e_conn 1854\n",
      "CT_e_D_An 1973\n",
      "CT_e_A_Ca 5669\n",
      "CT_n_D_adj_An 512\n",
      "CT_n_A_adj_Ca 512\n",
      "CT_f_D_tort1 0.5872214205547539\n",
      "CT_f_A_tort1 0.22414844498649708\n"
     ]
    }
   ],
   "source": [
    "!python descriptor_testing.py data/data_0.528_3.8_000100.txt"
   ]
  },
  {
   "cell_type": "code",
   "execution_count": 17,
   "id": "3c970f35-5ff7-40c0-8795-09ea480c57b2",
   "metadata": {},
   "outputs": [
    {
     "name": "stdout",
     "output_type": "stream",
     "text": [
      "STAT_n 65536\n",
      "STAT_e 1880\n",
      "STAT_n_D 30944\n",
      "STAT_n_A 34592\n",
      "STAT_CC_D 2\n",
      "STAT_CC_A 1\n",
      "STAT_CC_D_An 1\n",
      "STAT_CC_A_Ca 1\n",
      "ABS_wf_D 0.2782160289306138\n",
      "ABS_f_D 0.47216796875\n",
      "DISS_f10_D 0.47527792140641156\n",
      "DISS_wf10_D 0.24790086214709622\n",
      "CT_f_e_conn 0.676595744680851\n",
      "CT_f_conn_D_An 0.6395747156153051\n",
      "CT_f_conn_A_Ca 1.0\n",
      "CT_e_conn 1272\n",
      "CT_e_D_An 1272\n",
      "CT_e_A_Ca 1884\n",
      "CT_n_D_adj_An 512\n",
      "CT_n_A_adj_Ca 512\n",
      "CT_f_D_tort1 0.5450457278560962\n",
      "CT_f_A_tort1 0.5341697502312673\n"
     ]
    }
   ],
   "source": [
    "!python descriptor_testing.py data/data_0.528_3.8_007080.txt"
   ]
  },
  {
   "cell_type": "code",
   "execution_count": 18,
   "id": "0511c0a0-87af-4dfb-b685-2a5e0dfb8ade",
   "metadata": {},
   "outputs": [
    {
     "name": "stdout",
     "output_type": "stream",
     "text": [
      "STAT_n 65536\n",
      "STAT_e 2798\n",
      "STAT_n_D 31059\n",
      "STAT_n_A 34477\n",
      "STAT_CC_D 2\n",
      "STAT_CC_A 2\n",
      "STAT_CC_D_An 1\n",
      "STAT_CC_A_Ca 1\n",
      "ABS_wf_D 0.2841926540460489\n",
      "ABS_f_D 0.4739227294921875\n",
      "DISS_f10_D 0.7004088991918607\n",
      "DISS_wf10_D 0.36279467636558144\n",
      "CT_f_e_conn 0.7476769120800572\n",
      "CT_f_conn_D_An 0.9375060368975177\n",
      "CT_f_conn_A_Ca 0.8518432578240566\n",
      "CT_e_conn 2092\n",
      "CT_e_D_An 2574\n",
      "CT_e_A_Ca 2324\n",
      "CT_n_D_adj_An 512\n",
      "CT_n_A_adj_Ca 512\n",
      "CT_f_D_tort1 0.40500721203379353\n",
      "CT_f_A_tort1 0.4670230515169056\n"
     ]
    }
   ],
   "source": [
    "!python descriptor_testing.py data/data_0.528_4.0_001100.txt"
   ]
  },
  {
   "cell_type": "code",
   "execution_count": 19,
   "id": "5bf6d807-1839-421d-a109-35abf9f4a9c8",
   "metadata": {},
   "outputs": [
    {
     "name": "stdout",
     "output_type": "stream",
     "text": [
      "STAT_n 65536\n",
      "STAT_e 3854\n",
      "STAT_n_D 28705\n",
      "STAT_n_A 36831\n",
      "STAT_CC_D 10\n",
      "STAT_CC_A 3\n",
      "STAT_CC_D_An 1\n",
      "STAT_CC_A_Ca 1\n",
      "ABS_wf_D 0.26655821069013413\n",
      "ABS_f_D 0.4380035400390625\n",
      "DISS_f10_D 0.9178540323985368\n",
      "DISS_wf10_D 0.5019014144870991\n",
      "CT_f_e_conn 0.3637778930980799\n",
      "CT_f_conn_D_An 0.6475178540323986\n",
      "CT_f_conn_A_Ca 0.7858325866796991\n",
      "CT_e_conn 1402\n",
      "CT_e_D_An 2252\n",
      "CT_e_A_Ca 2905\n",
      "CT_n_D_adj_An 512\n",
      "CT_n_A_adj_Ca 512\n",
      "CT_f_D_tort1 0.429009522784742\n",
      "CT_f_A_tort1 0.4352347717928342\n"
     ]
    }
   ],
   "source": [
    "!python descriptor_testing.py data/data_0.543_2.6_000060.txt"
   ]
  },
  {
   "cell_type": "code",
   "execution_count": 20,
   "id": "7b37b599-ccc7-41fc-8809-a70832778498",
   "metadata": {},
   "outputs": [
    {
     "name": "stdout",
     "output_type": "stream",
     "text": [
      "STAT_n 65536\n",
      "STAT_e 1350\n",
      "STAT_n_D 29671\n",
      "STAT_n_A 35865\n",
      "STAT_CC_D 2\n",
      "STAT_CC_A 1\n",
      "STAT_CC_D_An 1\n",
      "STAT_CC_A_Ca 1\n",
      "ABS_wf_D 0.24803367013570884\n",
      "ABS_f_D 0.4527435302734375\n",
      "DISS_f10_D 0.381517306460854\n",
      "DISS_wf10_D 0.1987749281286317\n",
      "CT_f_e_conn 0.5644444444444444\n",
      "CT_f_conn_D_An 0.6562636918202959\n",
      "CT_f_conn_A_Ca 1.0\n",
      "CT_e_conn 762\n",
      "CT_e_D_An 762\n",
      "CT_e_A_Ca 1354\n",
      "CT_n_D_adj_An 512\n",
      "CT_n_A_adj_Ca 512\n",
      "CT_f_D_tort1 0.9768898931799507\n",
      "CT_f_A_tort1 0.5851108322877457\n"
     ]
    }
   ],
   "source": [
    "!python descriptor_testing.py data/data_0.543_2.8_006140.txt"
   ]
  },
  {
   "cell_type": "code",
   "execution_count": 21,
   "id": "7a4624c6-9e65-44af-8bbb-7dda187d89f5",
   "metadata": {},
   "outputs": [
    {
     "name": "stdout",
     "output_type": "stream",
     "text": [
      "STAT_n 65536\n",
      "STAT_e 2200\n",
      "STAT_n_D 29844\n",
      "STAT_n_A 35692\n",
      "STAT_CC_D 4\n",
      "STAT_CC_A 1\n",
      "STAT_CC_D_An 1\n",
      "STAT_CC_A_Ca 1\n",
      "ABS_wf_D 0.281161466408089\n",
      "ABS_f_D 0.45538330078125\n",
      "DISS_f10_D 0.5724098646294062\n",
      "DISS_wf10_D 0.29610552817572\n",
      "CT_f_e_conn 0.40545454545454546\n",
      "CT_f_conn_D_An 0.4593218067283206\n",
      "CT_f_conn_A_Ca 1.0\n",
      "CT_e_conn 892\n",
      "CT_e_D_An 892\n",
      "CT_e_A_Ca 2212\n",
      "CT_n_D_adj_An 512\n",
      "CT_n_A_adj_Ca 512\n",
      "CT_f_D_tort1 0.9808141231397723\n",
      "CT_f_A_tort1 0.4701613807015578\n"
     ]
    }
   ],
   "source": [
    "!python descriptor_testing.py data/data_0.543_3.4_001960.txt"
   ]
  },
  {
   "cell_type": "code",
   "execution_count": 22,
   "id": "582c5db1-93d9-4e27-81fc-6190bcecea67",
   "metadata": {},
   "outputs": [
    {
     "name": "stdout",
     "output_type": "stream",
     "text": [
      "STAT_n 65536\n",
      "STAT_e 5774\n",
      "STAT_n_D 29982\n",
      "STAT_n_A 35554\n",
      "STAT_CC_D 17\n",
      "STAT_CC_A 3\n",
      "STAT_CC_D_An 1\n",
      "STAT_CC_A_Ca 1\n",
      "ABS_wf_D 0.2783229167448315\n",
      "ABS_f_D 0.457489013671875\n",
      "DISS_f10_D 0.9887265692748983\n",
      "DISS_wf10_D 0.6251966267654816\n",
      "CT_f_e_conn 0.25008659508139935\n",
      "CT_f_conn_D_An 0.4975318524448002\n",
      "CT_f_conn_A_Ca 0.8469370534960905\n",
      "CT_e_conn 1444\n",
      "CT_e_D_An 2455\n",
      "CT_e_A_Ca 4833\n",
      "CT_n_D_adj_An 512\n",
      "CT_n_A_adj_Ca 512\n",
      "CT_f_D_tort1 0.48086076288798013\n",
      "CT_f_A_tort1 0.27527231668437835\n"
     ]
    }
   ],
   "source": [
    "!python descriptor_testing.py data/data_0.543_4.0_000080.txt"
   ]
  },
  {
   "cell_type": "code",
   "execution_count": 23,
   "id": "dad6f936-18fb-437e-931e-e20a5f889bdc",
   "metadata": {},
   "outputs": [
    {
     "name": "stdout",
     "output_type": "stream",
     "text": [
      "STAT_n 65536\n",
      "STAT_e 1844\n",
      "STAT_n_D 27183\n",
      "STAT_n_A 38353\n",
      "STAT_CC_D 3\n",
      "STAT_CC_A 1\n",
      "STAT_CC_D_An 1\n",
      "STAT_CC_A_Ca 1\n",
      "ABS_wf_D 0.24229425582166292\n",
      "ABS_f_D 0.4147796630859375\n",
      "DISS_f10_D 0.5458190781002833\n",
      "DISS_wf10_D 0.28098990473035407\n",
      "CT_f_e_conn 0.42190889370932755\n",
      "CT_f_conn_D_An 0.44766949931942757\n",
      "CT_f_conn_A_Ca 1.0\n",
      "CT_e_conn 778\n",
      "CT_e_D_An 777\n",
      "CT_e_A_Ca 1852\n",
      "CT_n_D_adj_An 512\n",
      "CT_n_A_adj_Ca 512\n",
      "CT_f_D_tort1 1.0\n",
      "CT_f_A_tort1 0.3285271034860376\n"
     ]
    }
   ],
   "source": [
    "!python descriptor_testing.py data/data_0.558_2.4_002420.txt"
   ]
  },
  {
   "cell_type": "code",
   "execution_count": 24,
   "id": "a57f47b2-a72d-48d9-a5b1-0ef9f9ae064c",
   "metadata": {},
   "outputs": [
    {
     "name": "stdout",
     "output_type": "stream",
     "text": [
      "STAT_n 65536\n",
      "STAT_e 3342\n",
      "STAT_n_D 27362\n",
      "STAT_n_A 38174\n",
      "STAT_CC_D 11\n",
      "STAT_CC_A 1\n",
      "STAT_CC_D_An 1\n",
      "STAT_CC_A_Ca 1\n",
      "ABS_wf_D 0.25720280543750995\n",
      "ABS_f_D 0.417510986328125\n",
      "DISS_f10_D 0.8238432863094803\n",
      "DISS_wf10_D 0.44945497447287724\n",
      "CT_f_e_conn 0.3895870736086176\n",
      "CT_f_conn_D_An 0.4196330677582048\n",
      "CT_f_conn_A_Ca 1.0\n",
      "CT_e_conn 1302\n",
      "CT_e_D_An 1300\n",
      "CT_e_A_Ca 3379\n",
      "CT_n_D_adj_An 512\n",
      "CT_n_A_adj_Ca 512\n",
      "CT_f_D_tort1 0.768245950182895\n",
      "CT_f_A_tort1 0.3589615968984125\n"
     ]
    }
   ],
   "source": [
    "!python descriptor_testing.py data/data_0.558_2.6_000100.txt"
   ]
  },
  {
   "cell_type": "code",
   "execution_count": 25,
   "id": "a3a00b59-02e1-4a18-ba40-1ca6d4d2cbcf",
   "metadata": {},
   "outputs": [
    {
     "name": "stdout",
     "output_type": "stream",
     "text": [
      "STAT_n 65536\n",
      "STAT_e 3824\n",
      "STAT_n_D 28546\n",
      "STAT_n_A 36990\n",
      "STAT_CC_D 14\n",
      "STAT_CC_A 2\n",
      "STAT_CC_D_An 1\n",
      "STAT_CC_A_Ca 1\n",
      "ABS_wf_D 0.26754743833486544\n",
      "ABS_f_D 0.435577392578125\n",
      "DISS_f10_D 0.8879352623835214\n",
      "DISS_wf10_D 0.4873947532082618\n",
      "CT_f_e_conn 0.4356694560669456\n",
      "CT_f_conn_D_An 0.5570307573740629\n",
      "CT_f_conn_A_Ca 0.9802379021357124\n",
      "CT_e_conn 1666\n",
      "CT_e_D_An 1805\n",
      "CT_e_A_Ca 3739\n",
      "CT_n_D_adj_An 512\n",
      "CT_n_A_adj_Ca 512\n",
      "CT_f_D_tort1 0.6110307527828438\n",
      "CT_f_A_tort1 0.35028544637193526\n"
     ]
    }
   ],
   "source": [
    "!python descriptor_testing.py data/data_0.558_3.2_000400.txt"
   ]
  },
  {
   "cell_type": "code",
   "execution_count": 26,
   "id": "11eef338-2135-46a0-9ec0-2d23d477c1d0",
   "metadata": {},
   "outputs": [
    {
     "name": "stdout",
     "output_type": "stream",
     "text": [
      "STAT_n 65536\n",
      "STAT_e 7558\n",
      "STAT_n_D 28076\n",
      "STAT_n_A 37460\n",
      "STAT_CC_D 45\n",
      "STAT_CC_A 2\n",
      "STAT_CC_D_An 1\n",
      "STAT_CC_A_Ca 1\n",
      "ABS_wf_D 0.26230172261004886\n",
      "ABS_f_D 0.42840576171875\n",
      "DISS_f10_D 0.99529847556632\n",
      "DISS_wf10_D 0.7066777644926628\n",
      "CT_f_e_conn 0.18629267001852343\n",
      "CT_f_conn_D_An 0.27432682718335943\n",
      "CT_f_conn_A_Ca 0.9953817405232248\n",
      "CT_e_conn 1408\n",
      "CT_e_D_An 1470\n",
      "CT_e_A_Ca 7664\n",
      "CT_n_D_adj_An 512\n",
      "CT_n_A_adj_Ca 512\n",
      "CT_f_D_tort1 0.700077901843677\n",
      "CT_f_A_tort1 0.2088127229329257\n"
     ]
    }
   ],
   "source": [
    "!python descriptor_testing.py data/data_0.558_3.4_000040.txt"
   ]
  },
  {
   "cell_type": "code",
   "execution_count": 27,
   "id": "3bf2a6a4-e849-4dea-9b55-4402847091b0",
   "metadata": {},
   "outputs": [
    {
     "name": "stdout",
     "output_type": "stream",
     "text": [
      "STAT_n 65536\n",
      "STAT_e 3808\n",
      "STAT_n_D 28908\n",
      "STAT_n_A 36628\n",
      "STAT_CC_D 13\n",
      "STAT_CC_A 1\n",
      "STAT_CC_D_An 1\n",
      "STAT_CC_A_Ca 1\n",
      "ABS_wf_D 0.26980681353296576\n",
      "ABS_f_D 0.44110107421875\n",
      "DISS_f10_D 0.8637055486370555\n",
      "DISS_wf10_D 0.47642131277171595\n",
      "CT_f_e_conn 0.24002100840336135\n",
      "CT_f_conn_D_An 0.3280406807804068\n",
      "CT_f_conn_A_Ca 1.0\n",
      "CT_e_conn 914\n",
      "CT_e_D_An 914\n",
      "CT_e_A_Ca 3856\n",
      "CT_n_D_adj_An 512\n",
      "CT_n_A_adj_Ca 512\n",
      "CT_f_D_tort1 0.9656226932405357\n",
      "CT_f_A_tort1 0.24836190892213608\n"
     ]
    }
   ],
   "source": [
    "!python descriptor_testing.py data/data_0.558_3.6_000420.txt"
   ]
  },
  {
   "cell_type": "code",
   "execution_count": 28,
   "id": "282b59cd-c9eb-49bc-86f1-c145a819f100",
   "metadata": {},
   "outputs": [
    {
     "name": "stdout",
     "output_type": "stream",
     "text": [
      "STAT_n 65536\n",
      "STAT_e 1862\n",
      "STAT_n_D 28207\n",
      "STAT_n_A 37329\n",
      "STAT_CC_D 4\n",
      "STAT_CC_A 1\n",
      "STAT_CC_D_An 1\n",
      "STAT_CC_A_Ca 1\n",
      "ABS_wf_D 0.2474244021635515\n",
      "ABS_f_D 0.4304046630859375\n",
      "DISS_f10_D 0.49711064629347324\n",
      "DISS_wf10_D 0.26417145169463135\n",
      "CT_f_e_conn 0.322234156820623\n",
      "CT_f_conn_D_An 0.22671677243237495\n",
      "CT_f_conn_A_Ca 1.0\n",
      "CT_e_conn 600\n",
      "CT_e_D_An 600\n",
      "CT_e_A_Ca 1874\n",
      "CT_n_D_adj_An 512\n",
      "CT_n_A_adj_Ca 512\n",
      "CT_f_D_tort1 1.0\n",
      "CT_f_A_tort1 0.49420021966835437\n"
     ]
    }
   ],
   "source": [
    "!python descriptor_testing.py data/data_0.572_3.8_006980.txt"
   ]
  },
  {
   "cell_type": "code",
   "execution_count": 29,
   "id": "d7366baf-fdb5-488e-bee2-6cf6cb6bd96d",
   "metadata": {},
   "outputs": [
    {
     "name": "stdout",
     "output_type": "stream",
     "text": [
      "STAT_n 65536\n",
      "STAT_e 3136\n",
      "STAT_n_D 24927\n",
      "STAT_n_A 40609\n",
      "STAT_CC_D 16\n",
      "STAT_CC_A 1\n",
      "STAT_CC_D_An 1\n",
      "STAT_CC_A_Ca 1\n",
      "ABS_wf_D 0.23671900364243542\n",
      "ABS_f_D 0.3803558349609375\n",
      "DISS_f10_D 0.7910298070365467\n",
      "DISS_wf10_D 0.44279895530903496\n",
      "CT_f_e_conn 0.26913265306122447\n",
      "CT_f_conn_D_An 0.36213744132867975\n",
      "CT_f_conn_A_Ca 1.0\n",
      "CT_e_conn 844\n",
      "CT_e_D_An 844\n",
      "CT_e_A_Ca 3196\n",
      "CT_n_D_adj_An 512\n",
      "CT_n_A_adj_Ca 512\n",
      "CT_f_D_tort1 0.8659576825080315\n",
      "CT_f_A_tort1 0.28961560245265827\n"
     ]
    }
   ],
   "source": [
    "!python descriptor_testing.py data/data_0.586_2.6_000220.txt"
   ]
  },
  {
   "cell_type": "code",
   "execution_count": 30,
   "id": "055f7b03-0f66-45cf-bfad-f3dbbcf8dfbd",
   "metadata": {},
   "outputs": [
    {
     "name": "stdout",
     "output_type": "stream",
     "text": [
      "STAT_n 65536\n",
      "STAT_e 2678\n",
      "STAT_n_D 25982\n",
      "STAT_n_A 39554\n",
      "STAT_CC_D 11\n",
      "STAT_CC_A 1\n",
      "STAT_CC_D_An 1\n",
      "STAT_CC_A_Ca 1\n",
      "ABS_wf_D 0.2438795938697451\n",
      "ABS_f_D 0.396453857421875\n",
      "DISS_f10_D 0.7006773920406435\n",
      "DISS_wf10_D 0.38059498095605393\n",
      "CT_f_e_conn 0.3793876026885736\n",
      "CT_f_conn_D_An 0.46859364175198215\n",
      "CT_f_conn_A_Ca 1.0\n",
      "CT_e_conn 1016\n",
      "CT_e_D_An 1015\n",
      "CT_e_A_Ca 2718\n",
      "CT_n_D_adj_An 512\n",
      "CT_n_A_adj_Ca 512\n",
      "CT_f_D_tort1 0.9040657084188912\n",
      "CT_f_A_tort1 0.49719370986499467\n"
     ]
    }
   ],
   "source": [
    "!python descriptor_testing.py data/data_0.586_2.8_000280.txt"
   ]
  },
  {
   "cell_type": "code",
   "execution_count": 31,
   "id": "cee46525-fc67-4f67-b713-465b8fa2f26b",
   "metadata": {},
   "outputs": [
    {
     "name": "stdout",
     "output_type": "stream",
     "text": [
      "STAT_n 65536\n",
      "STAT_e 2286\n",
      "STAT_n_D 26878\n",
      "STAT_n_A 38658\n",
      "STAT_CC_D 9\n",
      "STAT_CC_A 1\n",
      "STAT_CC_D_An 1\n",
      "STAT_CC_A_Ca 1\n",
      "ABS_wf_D 0.254932737591933\n",
      "ABS_f_D 0.410125732421875\n",
      "DISS_f10_D 0.5896644095542823\n",
      "DISS_wf10_D 0.3176353809982719\n",
      "CT_f_e_conn 0.32720909886264216\n",
      "CT_f_conn_D_An 0.40244809881687627\n",
      "CT_f_conn_A_Ca 1.0\n",
      "CT_e_conn 748\n",
      "CT_e_D_An 748\n",
      "CT_e_A_Ca 2318\n",
      "CT_n_D_adj_An 512\n",
      "CT_n_A_adj_Ca 512\n",
      "CT_f_D_tort1 1.0\n",
      "CT_f_A_tort1 0.5224274406332454\n"
     ]
    }
   ],
   "source": [
    "!python descriptor_testing.py data/data_0.586_3.2_003200.txt"
   ]
  },
  {
   "cell_type": "code",
   "execution_count": 32,
   "id": "4c347a4d-0b98-495c-be8b-7cd8a73a8442",
   "metadata": {},
   "outputs": [
    {
     "name": "stdout",
     "output_type": "stream",
     "text": [
      "STAT_n 65536\n",
      "STAT_e 1900\n",
      "STAT_n_D 27221\n",
      "STAT_n_A 38315\n",
      "STAT_CC_D 5\n",
      "STAT_CC_A 1\n",
      "STAT_CC_D_An 1\n",
      "STAT_CC_A_Ca 1\n",
      "ABS_wf_D 0.24785949741537192\n",
      "ABS_f_D 0.4153594970703125\n",
      "DISS_f10_D 0.512949561000698\n",
      "DISS_wf10_D 0.2734008455519596\n",
      "CT_f_e_conn 0.3684210526315789\n",
      "CT_f_conn_D_An 0.3842254142022703\n",
      "CT_f_conn_A_Ca 1.0\n",
      "CT_e_conn 700\n",
      "CT_e_D_An 700\n",
      "CT_e_A_Ca 1916\n",
      "CT_n_D_adj_An 512\n",
      "CT_n_A_adj_Ca 512\n",
      "CT_f_D_tort1 1.0\n",
      "CT_f_A_tort1 0.623489494975858\n"
     ]
    }
   ],
   "source": [
    "!python descriptor_testing.py data/data_0.586_3.6_007220.txt"
   ]
  },
  {
   "cell_type": "code",
   "execution_count": 33,
   "id": "b21913dc-465d-446c-8fb1-b7801c62a938",
   "metadata": {},
   "outputs": [
    {
     "name": "stdout",
     "output_type": "stream",
     "text": [
      "STAT_n 65536\n",
      "STAT_e 1848\n",
      "STAT_n_D 27323\n",
      "STAT_n_A 38213\n",
      "STAT_CC_D 4\n",
      "STAT_CC_A 1\n",
      "STAT_CC_D_An 1\n",
      "STAT_CC_A_Ca 1\n",
      "ABS_wf_D 0.24613192771769493\n",
      "ABS_f_D 0.4169158935546875\n",
      "DISS_f10_D 0.5072649416242726\n",
      "DISS_wf10_D 0.2694953775639996\n",
      "CT_f_e_conn 0.31385281385281383\n",
      "CT_f_conn_D_An 0.20715148409764667\n",
      "CT_f_conn_A_Ca 1.0\n",
      "CT_e_conn 580\n",
      "CT_e_D_An 580\n",
      "CT_e_A_Ca 1860\n",
      "CT_n_D_adj_An 512\n",
      "CT_n_A_adj_Ca 512\n",
      "CT_f_D_tort1 1.0\n",
      "CT_f_A_tort1 0.6413785884384895\n"
     ]
    }
   ],
   "source": [
    "!python descriptor_testing.py data/data_0.586_4.0_006740.txt"
   ]
  }
 ],
 "metadata": {
  "kernelspec": {
   "display_name": "Python 3 (ipykernel)",
   "language": "python",
   "name": "python3"
  },
  "language_info": {
   "codemirror_mode": {
    "name": "ipython",
    "version": 3
   },
   "file_extension": ".py",
   "mimetype": "text/x-python",
   "name": "python",
   "nbconvert_exporter": "python",
   "pygments_lexer": "ipython3",
   "version": "3.12.6"
  }
 },
 "nbformat": 4,
 "nbformat_minor": 5
}
