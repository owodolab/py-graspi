{
 "cells": [
  {
   "cell_type": "code",
   "execution_count": 1,
   "id": "466cbd68-75b4-48be-91eb-695f20f0ac8e",
   "metadata": {},
   "outputs": [
    {
     "name": "stdout",
     "output_type": "stream",
     "text": [
      "Requirement already satisfied: py-graspi in c:\\users\\kevin\\pycharmprojects\\demo_day\\.venv\\lib\\site-packages (0.1.0.0)\n",
      "Requirement already satisfied: igraph in c:\\users\\kevin\\pycharmprojects\\demo_day\\.venv\\lib\\site-packages (from py-graspi) (0.11.8)\n",
      "Requirement already satisfied: matplotlib in c:\\users\\kevin\\pycharmprojects\\demo_day\\.venv\\lib\\site-packages (from py-graspi) (3.9.3)\n",
      "Requirement already satisfied: numpy in c:\\users\\kevin\\pycharmprojects\\demo_day\\.venv\\lib\\site-packages (from py-graspi) (2.2.0)\n",
      "Requirement already satisfied: contourpy in c:\\users\\kevin\\pycharmprojects\\demo_day\\.venv\\lib\\site-packages (from py-graspi) (1.3.1)\n",
      "Requirement already satisfied: cycler in c:\\users\\kevin\\pycharmprojects\\demo_day\\.venv\\lib\\site-packages (from py-graspi) (0.12.1)\n",
      "Requirement already satisfied: fonttools in c:\\users\\kevin\\pycharmprojects\\demo_day\\.venv\\lib\\site-packages (from py-graspi) (4.55.2)\n",
      "Requirement already satisfied: kiwisolver in c:\\users\\kevin\\pycharmprojects\\demo_day\\.venv\\lib\\site-packages (from py-graspi) (1.4.7)\n",
      "Requirement already satisfied: packaging in c:\\users\\kevin\\pycharmprojects\\demo_day\\.venv\\lib\\site-packages (from py-graspi) (24.2)\n",
      "Requirement already satisfied: pillow in c:\\users\\kevin\\pycharmprojects\\demo_day\\.venv\\lib\\site-packages (from py-graspi) (11.0.0)\n",
      "Requirement already satisfied: psutil in c:\\users\\kevin\\pycharmprojects\\demo_day\\.venv\\lib\\site-packages (from py-graspi) (6.1.0)\n",
      "Requirement already satisfied: pyparsing in c:\\users\\kevin\\pycharmprojects\\demo_day\\.venv\\lib\\site-packages (from py-graspi) (3.2.0)\n",
      "Requirement already satisfied: python-dateutil in c:\\users\\kevin\\pycharmprojects\\demo_day\\.venv\\lib\\site-packages (from py-graspi) (2.9.0.post0)\n",
      "Requirement already satisfied: six in c:\\users\\kevin\\pycharmprojects\\demo_day\\.venv\\lib\\site-packages (from py-graspi) (1.17.0)\n",
      "Requirement already satisfied: texttable in c:\\users\\kevin\\pycharmprojects\\demo_day\\.venv\\lib\\site-packages (from py-graspi) (1.7.0)\n",
      "Requirement already satisfied: fpdf in c:\\users\\kevin\\pycharmprojects\\demo_day\\.venv\\lib\\site-packages (from py-graspi) (1.7.2)\n"
     ]
    },
    {
     "name": "stderr",
     "output_type": "stream",
     "text": [
      "\n",
      "[notice] A new release of pip is available: 23.2.1 -> 25.0\n",
      "[notice] To update, run: python.exe -m pip install --upgrade pip\n"
     ]
    }
   ],
   "source": [
    "!pip install py-graspi"
   ]
  },
  {
   "cell_type": "markdown",
   "id": "7ba25390-67b9-4f4c-8f76-e06d124557e8",
   "metadata": {},
   "source": [
    "The command line code pip install will install the py-graspi package which will download necessary python libraries needed for the functions within the package to work. In other hands, without this line of code not only will the functions not be avaliable to the user but even if you have a clone of the package it will ont run since the necessary libraries have not been installed. This line does both in one."
   ]
  },
  {
   "cell_type": "code",
   "execution_count": 2,
   "id": "48b7935a-cc9b-44de-86f9-128dd21d56cd",
   "metadata": {},
   "outputs": [],
   "source": [
    "#import py_graspi library\n",
    "import py_graspi as py\n",
    "#import following to be able to output image\n",
    "from PIL import Image"
   ]
  },
  {
   "cell_type": "markdown",
   "id": "8ff617c5-b158-4088-870f-b05a464bb847",
   "metadata": {},
   "source": [
    "You must then import the py-graspi program with the first impot statement so the system understands it wishes to utilize the py-graspi package. The \"as py\" isn't necessary but shortens the package name to just \"py\" for ease of use. \n",
    "The following import is only needed to be able to visualize the .png image in this notebook."
   ]
  },
  {
   "cell_type": "code",
   "execution_count": null,
   "id": "886814de-1a57-46bb-b779-cfee2566c902",
   "metadata": {},
   "outputs": [],
   "source": [
    "#Below is the pathname of an image to use for an example\n",
    "#images/data_0.5_2.2_001900.png\n",
    "#data/data_0.5_2.2_001900.txt\n",
    "\n",
    "filename = \"data/data_0.5_2.2_001900.txt\"\n",
    "\n",
    "#output image viualization\n",
    "img = Image.open(\"images/data_0.5_2.2_001900.png\")\n",
    "img"
   ]
  },
  {
   "cell_type": "markdown",
   "id": "21370a4e-e2f8-4b57-9fa2-7ef0a68fbe8a",
   "metadata": {},
   "source": [
    "An example file is given and stored in the variable _filename_. This will be used in place of a command line argument since the functions need a .txt input file with proper formatting to generate a graph for the given file.\n",
    "The _img_ variable simply stores the .png image file version of the already given .txt file. It utilizes the Image package to open it and then displays the image."
   ]
  },
  {
   "cell_type": "code",
   "execution_count": 6,
   "id": "e34dbf71-ae74-45b3-8971-144337738097",
   "metadata": {},
   "outputs": [],
   "source": [
    "#This function will create a graph based on any given txt file input\n",
    "(g, is_2D, black_vertices, white_vertices, black_green, black_interface_red, white_interface_blue,\n",
    "             dim, interface_edge_comp_paths, shortest_path_to_red, shortest_path_to_blue,\n",
    "             CT_n_D_adj_An, CT_n_A_adj_Ca)= py.generateGraphAdj(filename)"
   ]
  },
  {
   "cell_type": "markdown",
   "id": "3af4514d-7f9e-48c0-8e65-5f77346564c6",
   "metadata": {},
   "source": [
    "The generateGraphAdj(filename) function from the py-graspi package is used to create a graph for any proper formated .txt file. It returns the _g_ variable which is where the newly generated graph is stored, a _is\\_2D_ variable which stores if the graph is a 2-D or 3-D graph, and the other variables are used when calculating descriptors for the file. \n",
    "(Note the inclusion of \"py.\" before the function name which is needed to signal that you are reaching into the package for this given function."
   ]
  },
  {
   "cell_type": "code",
   "execution_count": 7,
   "id": "1a8bd329-eea4-4f20-a797-9dddae266472",
   "metadata": {},
   "outputs": [],
   "source": [
    "#This function will create a tuple holding in the name and value of all descriptors\n",
    "dict = py.descriptors(g, filename, black_vertices, white_vertices, black_green, black_interface_red, white_interface_blue,\n",
    "                dim, interface_edge_comp_paths, shortest_path_to_red, shortest_path_to_blue,\n",
    "                CT_n_D_adj_An, CT_n_A_adj_Ca)"
   ]
  },
  {
   "cell_type": "markdown",
   "id": "70e47845-3bd8-49c8-b43a-5efe235efab9",
   "metadata": {},
   "source": [
    "This decriptors() function is a very special function which, with all the given parameters which are gotten from the generateGraphAdj() function, will calculate and return a dictionary of the desriptors name and its numerical value for any given graph g."
   ]
  },
  {
   "cell_type": "code",
   "execution_count": 8,
   "id": "07788d68-9a26-469b-94f6-859accad7b1b",
   "metadata": {},
   "outputs": [],
   "source": [
    "#We will use the filename below to be the output txt file for the \n",
    "outputFile = \"example_descriptors.txt\"\n"
   ]
  },
  {
   "cell_type": "markdown",
   "id": "53845a38-c3f9-4c56-abdd-b4310988993f",
   "metadata": {},
   "source": [
    "We create an example _outputFile_ string variable which will have a .txt extension and will be used in this Notebook to copy the dictionary gotten from the descriptors() function into a .txt file."
   ]
  },
  {
   "cell_type": "code",
   "execution_count": 9,
   "id": "290a5ac0-2c00-4705-a601-13527bfe1872",
   "metadata": {},
   "outputs": [],
   "source": [
    "#Copy descriptor tuple into txt file\n",
    "with open(outputFile, \"w\") as f:\n",
    "    for key, value in dict.items():\n",
    "        f.write(f\"{key}: {value}\\n\")"
   ]
  },
  {
   "cell_type": "markdown",
   "id": "0bc023d3-f616-47a8-8485-54989f40e18c",
   "metadata": {},
   "source": [
    "These lines of code open up the _outputFile_ in WRITE mode and loops through the _dict_ dictionary while copying all it's data into the file."
   ]
  },
  {
   "cell_type": "code",
   "execution_count": 10,
   "id": "613d9e7e-8406-433f-a670-7293fe0447a7",
   "metadata": {},
   "outputs": [
    {
     "name": "stdout",
     "output_type": "stream",
     "text": [
      "STAT_n: 65536\n",
      "STAT_e: 1634\n",
      "STAT_n_D: 32713\n",
      "STAT_n_A: 32823\n",
      "STAT_CC_D: 2\n",
      "STAT_CC_A: 1\n",
      "STAT_CC_D_An: 1\n",
      "STAT_CC_A_Ca: 1\n",
      "ABS_wf_D: 0.31148777712164943\n",
      "ABS_f_D: 0.4991607666015625\n",
      "DISS_f10_D: 0.4296151377128359\n",
      "DISS_wf10_D: 0.2171188419480464\n",
      "CT_f_e_conn: 0.7821297429620563\n",
      "CT_f_conn_D_An: 0.8702656436279155\n",
      "CT_f_conn_A_Ca: 1.0\n",
      "CT_e_conn: 1278\n",
      "CT_e_D_An: 1278\n",
      "CT_e_A_Ca: 1638\n",
      "CT_n_D_adj_An: 512\n",
      "CT_n_A_adj_Ca: 512\n",
      "CT_f_D_tort1: 0.9691594365801398\n",
      "CT_f_A_tort1: 0.7340279681930354\n",
      "\n"
     ]
    }
   ],
   "source": [
    "#Output txt file, if error occurs this means txt file was not properly created\n",
    "with open(outputFile, 'r') as file:\n",
    "    content = file.read()\n",
    "    print(content)"
   ]
  },
  {
   "cell_type": "markdown",
   "id": "c807836c-4248-4fa9-9276-4ba7751d9a5c",
   "metadata": {},
   "source": [
    "Finally to make sure the descriptors were properly written to the file we will now open the same _outputFile_ in READ mode now and print out its contents and make sure we have the correct dictionary."
   ]
  },
  {
   "cell_type": "code",
   "execution_count": null,
   "id": "7faaf780-1ed2-4ee0-bb20-61ca2683fbff",
   "metadata": {},
   "outputs": [],
   "source": []
  }
 ],
 "metadata": {
  "kernelspec": {
   "display_name": "Python 3 (ipykernel)",
   "language": "python",
   "name": "python3"
  },
  "language_info": {
   "codemirror_mode": {
    "name": "ipython",
    "version": 3
   },
   "file_extension": ".py",
   "mimetype": "text/x-python",
   "name": "python",
   "nbconvert_exporter": "python",
   "pygments_lexer": "ipython3",
   "version": "3.12.6"
  }
 },
 "nbformat": 4,
 "nbformat_minor": 5
}
