{
 "cells": [
  {
   "cell_type": "code",
   "execution_count": 1,
   "id": "10fc111b-4a5d-4fd8-91b8-69bab096bf11",
   "metadata": {},
   "outputs": [],
   "source": [
    "import sys\n",
    "import os\n",
    "sys.path.append(os.path.abspath('../src'))"
   ]
  },
  {
   "cell_type": "raw",
   "id": "b801bf67-11de-458c-b77e-78d3ce4c053a",
   "metadata": {},
   "source": [
    "import descriptor_testing.py"
   ]
  },
  {
   "cell_type": "code",
   "execution_count": 2,
   "id": "3ebfed8b-6860-4d5c-addd-4ae28d07c251",
   "metadata": {
    "ExecuteTime": {
     "end_time": "2025-03-05T04:33:14.126272Z",
     "start_time": "2025-03-05T04:33:12.922436Z"
    }
   },
   "outputs": [
    {
     "name": "stdout",
     "output_type": "stream",
     "text": [
      "STAT_n 65536\n",
      "STAT_e 1634\n",
      "STAT_n_D 32713\n",
      "STAT_n_A 32823\n",
      "STAT_CC_D 2\n",
      "STAT_CC_A 1\n",
      "STAT_CC_D_An 1\n",
      "STAT_CC_A_Ca 1\n",
      "ABS_wf_D 0.31148777712164943\n",
      "ABS_f_D 0.4991607666015625\n",
      "DISS_f10_D 0.4296151377128359\n",
      "DISS_wf10_D 0.2171188419480464\n",
      "CT_f_e_conn 0.7821297429620563\n",
      "CT_f_conn_D_An 0.8702656436279155\n",
      "CT_f_conn_A_Ca 1.0\n",
      "CT_e_conn 1278\n",
      "CT_e_D_An 1278\n",
      "CT_e_A_Ca 1638\n",
      "CT_n_D_adj_An 512\n",
      "CT_n_A_adj_Ca 512\n",
      "CT_f_D_tort1 0.9691594365801398\n",
      "CT_f_A_tort1 0.7340279681930354\n"
     ]
    }
   ],
   "source": [
    "!python descriptor_testing.py ../data/data/data_0.5_2.2_001900.txt"
   ]
  },
  {
   "cell_type": "code",
   "execution_count": 3,
   "id": "bea3dc4e-cd99-4b9d-ac06-4ae7a0b9ecac",
   "metadata": {},
   "outputs": [
    {
     "name": "stdout",
     "output_type": "stream",
     "text": [
      "STAT_n 65536\n",
      "STAT_e 1280\n",
      "STAT_n_D 32927\n",
      "STAT_n_A 32609\n",
      "STAT_CC_D 1\n",
      "STAT_CC_A 2\n",
      "STAT_CC_D_An 1\n",
      "STAT_CC_A_Ca 1\n",
      "ABS_wf_D 0.31466602468453303\n",
      "ABS_f_D 0.5024261474609375\n",
      "DISS_f10_D 0.32414128223038846\n",
      "DISS_wf10_D 0.16571560440067673\n",
      "CT_f_e_conn 0.78125\n",
      "CT_f_conn_D_An 1.0\n",
      "CT_f_conn_A_Ca 0.8979116194915514\n",
      "CT_e_conn 1000\n",
      "CT_e_D_An 1284\n",
      "CT_e_A_Ca 1000\n",
      "CT_n_D_adj_An 512\n",
      "CT_n_A_adj_Ca 512\n",
      "CT_f_D_tort1 0.7177088711391867\n",
      "CT_f_A_tort1 0.9097677595628415\n"
     ]
    }
   ],
   "source": [
    "!python descriptor_testing.py ../data/data/data_0.5_2.6_004020.txt"
   ]
  },
  {
   "cell_type": "code",
   "execution_count": 4,
   "id": "6d164766-e273-4b93-a641-6b54d7f090cc",
   "metadata": {},
   "outputs": [
    {
     "name": "stdout",
     "output_type": "stream",
     "text": [
      "STAT_n 65536\n",
      "STAT_e 2260\n",
      "STAT_n_D 32818\n",
      "STAT_n_A 32718\n",
      "STAT_CC_D 2\n",
      "STAT_CC_A 2\n",
      "STAT_CC_D_An 1\n",
      "STAT_CC_A_Ca 1\n",
      "ABS_wf_D 0.3000417589060818\n",
      "ABS_f_D 0.500762939453125\n",
      "DISS_f10_D 0.5642939850082271\n",
      "DISS_wf10_D 0.28811720620141207\n",
      "CT_f_e_conn 0.7424778761061946\n",
      "CT_f_conn_D_An 0.8805228837832897\n",
      "CT_f_conn_A_Ca 0.9042423130998227\n",
      "CT_e_conn 1678\n",
      "CT_e_D_An 1934\n",
      "CT_e_A_Ca 2012\n",
      "CT_n_D_adj_An 512\n",
      "CT_n_A_adj_Ca 512\n",
      "CT_f_D_tort1 0.6753988303284078\n",
      "CT_f_A_tort1 0.588135879668751\n"
     ]
    }
   ],
   "source": [
    "!python descriptor_testing.py ../data/data/data_0.5_2.8_000380.txt"
   ]
  },
  {
   "cell_type": "code",
   "execution_count": 5,
   "id": "33704ac4-41a0-4e86-b5d8-4b18f9a21293",
   "metadata": {},
   "outputs": [
    {
     "name": "stdout",
     "output_type": "stream",
     "text": [
      "^C\n",
      "STAT_n 65536\n",
      "STAT_e 3628\n",
      "STAT_n_D 32832\n",
      "STAT_n_A 32704\n",
      "STAT_CC_D 4\n",
      "STAT_CC_A 4\n",
      "STAT_CC_D_An 1\n",
      "STAT_CC_A_Ca 1\n",
      "ABS_wf_D 0.3035009382059145\n",
      "ABS_f_D 0.5009765625\n",
      "DISS_f10_D 0.8113730506822612\n",
      "DISS_wf10_D 0.436719314846638\n",
      "CT_f_e_conn 0.3428886438809261\n",
      "CT_f_conn_D_An 0.8462780214424951\n",
      "CT_f_conn_A_Ca 0.611943493150685\n",
      "CT_e_conn 1244\n",
      "CT_e_D_An 2842\n",
      "CT_e_A_Ca 2054\n",
      "CT_n_D_adj_An 512\n",
      "CT_n_A_adj_Ca 512\n",
      "CT_f_D_tort1 0.3642612920640633\n",
      "CT_f_A_tort1 0.4631489531804327\n"
     ]
    }
   ],
   "source": [
    "!python descriptor_testing.py ../data/data/data_0.5_3.6_000540.txt"
   ]
  },
  {
   "cell_type": "code",
   "execution_count": 6,
   "id": "9b843b37-ec16-4e50-9635-7fd752de32e9",
   "metadata": {},
   "outputs": [
    {
     "name": "stdout",
     "output_type": "stream",
     "text": [
      "STAT_n 65536\n",
      "STAT_e 2458\n",
      "STAT_n_D 32748\n",
      "STAT_n_A 32788\n",
      "STAT_CC_D 1\n",
      "STAT_CC_A 3\n",
      "STAT_CC_D_An 1\n",
      "STAT_CC_A_Ca 1\n",
      "ABS_wf_D 0.2945634519758941\n",
      "ABS_f_D 0.49969482421875\n",
      "DISS_f10_D 0.6245266886527422\n",
      "DISS_wf10_D 0.319311293027808\n",
      "CT_f_e_conn 0.34906427990235966\n",
      "CT_f_conn_D_An 1.0\n",
      "CT_f_conn_A_Ca 0.3808100524582164\n",
      "CT_e_conn 858\n",
      "CT_e_D_An 2465\n",
      "CT_e_A_Ca 858\n",
      "CT_n_D_adj_An 512\n",
      "CT_n_A_adj_Ca 512\n",
      "CT_f_D_tort1 0.3357151581775986\n",
      "CT_f_A_tort1 0.8886753163543168\n"
     ]
    }
   ],
   "source": [
    "!python descriptor_testing.py ../data/data/data_0.5_3.8_001820.txt"
   ]
  },
  {
   "cell_type": "code",
   "execution_count": 7,
   "id": "7ba203f5-3797-4ebc-b303-7669e607a28c",
   "metadata": {},
   "outputs": [
    {
     "name": "stdout",
     "output_type": "stream",
     "text": [
      "^C\n",
      "STAT_n 65536\n",
      "STAT_e 2718\n",
      "STAT_n_D 30979\n",
      "STAT_n_A 34557\n",
      "STAT_CC_D 7\n",
      "STAT_CC_A 2\n",
      "STAT_CC_D_An 1\n",
      "STAT_CC_A_Ca 1\n",
      "ABS_wf_D 0.289437642232258\n",
      "ABS_f_D 0.4727020263671875\n",
      "DISS_f10_D 0.6579295651893218\n",
      "DISS_wf10_D 0.34369886584985676\n",
      "CT_f_e_conn 0.41869021339220014\n",
      "CT_f_conn_D_An 0.5464992414216082\n",
      "CT_f_conn_A_Ca 0.9760395867696848\n",
      "CT_e_conn 1138\n",
      "CT_e_D_An 1298\n",
      "CT_e_A_Ca 2586\n",
      "CT_n_D_adj_An 512\n",
      "CT_n_A_adj_Ca 512\n",
      "CT_f_D_tort1 0.6683402244536326\n",
      "CT_f_A_tort1 0.5629576921936612\n"
     ]
    }
   ],
   "source": [
    "!python descriptor_testing.py ../data/data/data_0.514_2.4_000220.txt"
   ]
  },
  {
   "cell_type": "code",
   "execution_count": 8,
   "id": "31cd4626-2200-4564-9755-df1bfa586593",
   "metadata": {},
   "outputs": [
    {
     "name": "stdout",
     "output_type": "stream",
     "text": [
      "^C\n"
     ]
    }
   ],
   "source": [
    "!python descriptor_testing.py ../data/data/data_0.514_2.6_000080.txt"
   ]
  },
  {
   "cell_type": "code",
   "execution_count": 9,
   "id": "74803262-9540-4e57-93f3-cddf8b4e7a82",
   "metadata": {},
   "outputs": [
    {
     "name": "stdout",
     "output_type": "stream",
     "text": [
      "^C\n"
     ]
    }
   ],
   "source": [
    "!python descriptor_testing.py ../data/data/data_0.514_2.6_000980.txt"
   ]
  },
  {
   "cell_type": "code",
   "execution_count": 10,
   "id": "787b9bf6-33a8-4e99-8415-35c79db62901",
   "metadata": {},
   "outputs": [
    {
     "name": "stdout",
     "output_type": "stream",
     "text": [
      "^C\n"
     ]
    }
   ],
   "source": [
    "!python descriptor_testing.py ../data/data/data_0.514_2.8_000200.txt"
   ]
  },
  {
   "cell_type": "code",
   "execution_count": 11,
   "id": "2ba0574e-093f-4982-b1b8-9bc4a1ca2fc1",
   "metadata": {},
   "outputs": [
    {
     "name": "stdout",
     "output_type": "stream",
     "text": [
      "^C\n"
     ]
    }
   ],
   "source": [
    "!python descriptor_testing.py ../data/data/data_0.514_2.8_005540.txt"
   ]
  },
  {
   "cell_type": "code",
   "execution_count": 12,
   "id": "a1f5b156-e4be-4d6e-8f3f-931d7fbb4250",
   "metadata": {},
   "outputs": [
    {
     "name": "stdout",
     "output_type": "stream",
     "text": [
      "^C\n"
     ]
    }
   ],
   "source": [
    "!python descriptor_testing.py ../data/data/data_0.514_3.4_000500.txt"
   ]
  },
  {
   "cell_type": "code",
   "execution_count": 13,
   "id": "f193b60a-3b66-4ce3-a5a1-54245906eb81",
   "metadata": {},
   "outputs": [
    {
     "name": "stdout",
     "output_type": "stream",
     "text": [
      "^C\n"
     ]
    }
   ],
   "source": [
    "!python descriptor_testing.py ../data/data/data_0.514_4.0_000040.txt"
   ]
  },
  {
   "cell_type": "code",
   "execution_count": 14,
   "id": "c3767060-6c9d-45e0-9804-85d521ed4a31",
   "metadata": {},
   "outputs": [
    {
     "name": "stdout",
     "output_type": "stream",
     "text": [
      "^C\n"
     ]
    }
   ],
   "source": [
    "!python descriptor_testing.py ../data/data/data_0.528_2.6_006300.txt"
   ]
  },
  {
   "cell_type": "code",
   "execution_count": 15,
   "id": "8b96ee81-f204-41b1-925a-958972f7ca4b",
   "metadata": {},
   "outputs": [
    {
     "name": "stdout",
     "output_type": "stream",
     "text": [
      "^C\n"
     ]
    }
   ],
   "source": [
    "!python descriptor_testing.py ../data/data/data_0.528_3.2_000880.txt"
   ]
  },
  {
   "cell_type": "code",
   "execution_count": 16,
   "id": "06ae1fa3-951f-4df4-a6bc-202667ee15c0",
   "metadata": {},
   "outputs": [
    {
     "name": "stdout",
     "output_type": "stream",
     "text": [
      "^C\n"
     ]
    }
   ],
   "source": [
    "!python descriptor_testing.py ../data/data/data_0.528_3.4_000140.txt"
   ]
  },
  {
   "cell_type": "code",
   "execution_count": 17,
   "id": "ee3b4695-99a8-4652-a6f3-ffae95e7d34e",
   "metadata": {},
   "outputs": [
    {
     "name": "stdout",
     "output_type": "stream",
     "text": [
      "^C\n"
     ]
    }
   ],
   "source": [
    "!python descriptor_testing.py ../data/data/data_0.528_3.8_000100.txt"
   ]
  },
  {
   "cell_type": "code",
   "execution_count": 18,
   "id": "3c970f35-5ff7-40c0-8795-09ea480c57b2",
   "metadata": {},
   "outputs": [
    {
     "name": "stdout",
     "output_type": "stream",
     "text": [
      "^C\n"
     ]
    }
   ],
   "source": [
    "!python descriptor_testing.py ../data/data/data_0.528_3.8_007080.txt"
   ]
  },
  {
   "cell_type": "code",
   "execution_count": 19,
   "id": "0511c0a0-87af-4dfb-b685-2a5e0dfb8ade",
   "metadata": {},
   "outputs": [
    {
     "name": "stdout",
     "output_type": "stream",
     "text": [
      "^C\n"
     ]
    }
   ],
   "source": [
    "!python descriptor_testing.py ../data/data/data_0.528_4.0_001100.txt"
   ]
  },
  {
   "cell_type": "code",
   "execution_count": 20,
   "id": "5bf6d807-1839-421d-a109-35abf9f4a9c8",
   "metadata": {},
   "outputs": [
    {
     "name": "stdout",
     "output_type": "stream",
     "text": [
      "^C\n"
     ]
    }
   ],
   "source": [
    "!python descriptor_testing.py ../data/data/data_0.543_2.6_000060.txt"
   ]
  },
  {
   "cell_type": "code",
   "execution_count": 21,
   "id": "7b37b599-ccc7-41fc-8809-a70832778498",
   "metadata": {},
   "outputs": [
    {
     "name": "stdout",
     "output_type": "stream",
     "text": [
      "^C\n"
     ]
    }
   ],
   "source": [
    "!python descriptor_testing.py ../data/data/data_0.543_2.8_006140.txt"
   ]
  },
  {
   "cell_type": "code",
   "execution_count": 22,
   "id": "7a4624c6-9e65-44af-8bbb-7dda187d89f5",
   "metadata": {},
   "outputs": [
    {
     "name": "stdout",
     "output_type": "stream",
     "text": [
      "^C\n"
     ]
    }
   ],
   "source": [
    "!python descriptor_testing.py ../data/data/data_0.543_3.4_001960.txt"
   ]
  },
  {
   "cell_type": "code",
   "execution_count": 23,
   "id": "582c5db1-93d9-4e27-81fc-6190bcecea67",
   "metadata": {},
   "outputs": [
    {
     "name": "stdout",
     "output_type": "stream",
     "text": [
      "^C\n"
     ]
    }
   ],
   "source": [
    "!python descriptor_testing.py ../data/data/data_0.543_4.0_000080.txt"
   ]
  },
  {
   "cell_type": "code",
   "execution_count": 24,
   "id": "dad6f936-18fb-437e-931e-e20a5f889bdc",
   "metadata": {},
   "outputs": [
    {
     "name": "stdout",
     "output_type": "stream",
     "text": [
      "^C\n"
     ]
    }
   ],
   "source": [
    "!python descriptor_testing.py ../data/data/data_0.558_2.4_002420.txt"
   ]
  },
  {
   "cell_type": "code",
   "execution_count": 25,
   "id": "a57f47b2-a72d-48d9-a5b1-0ef9f9ae064c",
   "metadata": {},
   "outputs": [
    {
     "name": "stdout",
     "output_type": "stream",
     "text": [
      "^C\n"
     ]
    }
   ],
   "source": [
    "!python descriptor_testing.py ../data/data/data_0.558_2.6_000100.txt"
   ]
  },
  {
   "cell_type": "code",
   "execution_count": 26,
   "id": "a3a00b59-02e1-4a18-ba40-1ca6d4d2cbcf",
   "metadata": {},
   "outputs": [
    {
     "name": "stdout",
     "output_type": "stream",
     "text": [
      "^C\n"
     ]
    }
   ],
   "source": [
    "!python descriptor_testing.py ../data/data/data_0.558_3.2_000400.txt"
   ]
  },
  {
   "cell_type": "code",
   "execution_count": 27,
   "id": "11eef338-2135-46a0-9ec0-2d23d477c1d0",
   "metadata": {},
   "outputs": [
    {
     "name": "stdout",
     "output_type": "stream",
     "text": [
      "^C\n"
     ]
    }
   ],
   "source": [
    "!python descriptor_testing.py ../data/data/data_0.558_3.4_000040.txt"
   ]
  },
  {
   "cell_type": "code",
   "execution_count": 28,
   "id": "3bf2a6a4-e849-4dea-9b55-4402847091b0",
   "metadata": {},
   "outputs": [
    {
     "name": "stdout",
     "output_type": "stream",
     "text": [
      "^C\n"
     ]
    }
   ],
   "source": [
    "!python descriptor_testing.py ../data/data/data_0.558_3.6_000420.txt"
   ]
  },
  {
   "cell_type": "code",
   "execution_count": 29,
   "id": "282b59cd-c9eb-49bc-86f1-c145a819f100",
   "metadata": {},
   "outputs": [
    {
     "name": "stderr",
     "output_type": "stream",
     "text": [
      "\n",
      "KeyboardInterrupt\n",
      "\n"
     ]
    }
   ],
   "source": [
    "!python descriptor_testing.py ../data/data/data_0.572_3.8_006980.txt"
   ]
  },
  {
   "cell_type": "code",
   "execution_count": null,
   "id": "d7366baf-fdb5-488e-bee2-6cf6cb6bd96d",
   "metadata": {},
   "outputs": [],
   "source": [
    "!python descriptor_testing.py ../data/data/data_0.586_2.6_000220.txt"
   ]
  },
  {
   "cell_type": "code",
   "execution_count": null,
   "id": "055f7b03-0f66-45cf-bfad-f3dbbcf8dfbd",
   "metadata": {},
   "outputs": [],
   "source": [
    "!python descriptor_testing.py ../data/data/data_0.586_2.8_000280.txt"
   ]
  },
  {
   "cell_type": "code",
   "execution_count": null,
   "id": "cee46525-fc67-4f67-b713-465b8fa2f26b",
   "metadata": {},
   "outputs": [],
   "source": [
    "!python descriptor_testing.py ../data/data/data_0.586_3.2_003200.txt"
   ]
  },
  {
   "cell_type": "code",
   "execution_count": null,
   "id": "4c347a4d-0b98-495c-be8b-7cd8a73a8442",
   "metadata": {},
   "outputs": [],
   "source": [
    "!python descriptor_testing.py ../data/data/data_0.586_3.6_007220.txt"
   ]
  },
  {
   "cell_type": "code",
   "execution_count": null,
   "id": "b21913dc-465d-446c-8fb1-b7801c62a938",
   "metadata": {},
   "outputs": [],
   "source": [
    "!python descriptor_testing.py ../data/data/data_0.586_4.0_006740.txt"
   ]
  }
 ],
 "metadata": {
  "kernelspec": {
   "display_name": "Python 3 (ipykernel)",
   "language": "python",
   "name": "python3"
  },
  "language_info": {
   "codemirror_mode": {
    "name": "ipython",
    "version": 3
   },
   "file_extension": ".py",
   "mimetype": "text/x-python",
   "name": "python",
   "nbconvert_exporter": "python",
   "pygments_lexer": "ipython3",
   "version": "3.12.6"
  }
 },
 "nbformat": 4,
 "nbformat_minor": 5
}
