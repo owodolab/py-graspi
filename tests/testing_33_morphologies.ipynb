{
 "cells": [
  {
   "cell_type": "code",
   "execution_count": 1,
   "id": "b9b4373e-55a6-42ea-b155-f0b607b7f935",
   "metadata": {},
   "outputs": [],
   "source": [
    "import sys\n",
    "import os\n",
    "sys.path.append(os.path.abspath('../src'))\n",
    "sys.path.append(os.path.abspath('../tools/tortuosity'))"
   ]
  },
  {
   "cell_type": "code",
   "execution_count": 2,
   "id": "72dbc1c0-516b-4380-b1e6-a0711186c249",
   "metadata": {
    "jupyter": {
     "is_executing": true
    }
   },
   "outputs": [],
   "source": [
    "import src.igraph as ig\n",
    "import src.descriptors as ds\n",
    "import os\n",
    "import fpdf\n",
    "import numpy as np\n",
    "from PIL import Image, ImageOps\n",
    "import webbrowser\n",
    "import argparse\n",
    "import matplotlib.pyplot as plt\n",
    "import math\n",
    "import tools.tortuosity.tortuosity_histogram as t"
   ]
  },
  {
   "cell_type": "code",
   "execution_count": 3,
   "id": "c953d35e-4634-4ee6-8177-08c36ab6ff36",
   "metadata": {
    "ExecuteTime": {
     "end_time": "2025-01-31T04:35:51.574588Z",
     "start_time": "2025-01-31T04:35:51.567656Z"
    }
   },
   "outputs": [],
   "source": [
    "import subprocess\n",
    "from IPython.display import display, HTML"
   ]
  },
  {
   "cell_type": "code",
   "execution_count": 4,
   "id": "dec4b34f-3c01-4e13-96dd-6cee0e7a1686",
   "metadata": {
    "ExecuteTime": {
     "end_time": "2025-03-05T17:49:49.121167Z",
     "start_time": "2025-03-05T17:49:41.935986Z"
    }
   },
   "outputs": [
    {
     "name": "stdout",
     "output_type": "stream",
     "text": [
      "Generating Text Files\n",
      "Executing data_0.514_2.4_000220\n",
      "data_0.514_2.4_000220 Graph Generated\n",
      "data_0.514_2.4_000220 Descriptors Generated\n",
      "data_0.514_2.4_000220 Text File Generated\n",
      "Executing data_0.514_2.6_000080\n",
      "data_0.514_2.6_000080 Graph Generated\n",
      "data_0.514_2.6_000080 Descriptors Generated\n",
      "data_0.514_2.6_000080 Text File Generated\n",
      "Executing data_0.514_2.6_000980\n",
      "data_0.514_2.6_000980 Graph Generated\n",
      "data_0.514_2.6_000980 Descriptors Generated\n",
      "data_0.514_2.6_000980 Text File Generated\n",
      "Executing data_0.514_2.8_000200\n",
      "data_0.514_2.8_000200 Graph Generated\n",
      "data_0.514_2.8_000200 Descriptors Generated\n",
      "data_0.514_2.8_000200 Text File Generated\n",
      "Executing data_0.514_2.8_005540\n",
      "data_0.514_2.8_005540 Graph Generated\n",
      "data_0.514_2.8_005540 Descriptors Generated\n",
      "data_0.514_2.8_005540 Text File Generated\n",
      "Executing data_0.514_3.4_000500\n",
      "data_0.514_3.4_000500 Graph Generated\n",
      "data_0.514_3.4_000500 Descriptors Generated\n",
      "data_0.514_3.4_000500 Text File Generated\n",
      "Executing data_0.514_4.0_000040\n",
      "data_0.514_4.0_000040 Graph Generated\n",
      "data_0.514_4.0_000040 Descriptors Generated\n",
      "data_0.514_4.0_000040 Text File Generated\n",
      "Executing data_0.528_2.6_006300\n",
      "data_0.528_2.6_006300 Graph Generated\n",
      "data_0.528_2.6_006300 Descriptors Generated\n",
      "data_0.528_2.6_006300 Text File Generated\n",
      "Executing data_0.528_3.2_000880\n",
      "data_0.528_3.2_000880 Graph Generated\n",
      "data_0.528_3.2_000880 Descriptors Generated\n",
      "data_0.528_3.2_000880 Text File Generated\n",
      "Executing data_0.528_3.4_000140\n",
      "data_0.528_3.4_000140 Graph Generated\n",
      "data_0.528_3.4_000140 Descriptors Generated\n",
      "data_0.528_3.4_000140 Text File Generated\n",
      "Executing data_0.528_3.8_000100\n",
      "data_0.528_3.8_000100 Graph Generated\n",
      "data_0.528_3.8_000100 Descriptors Generated\n",
      "data_0.528_3.8_000100 Text File Generated\n",
      "Executing data_0.528_3.8_007080\n",
      "data_0.528_3.8_007080 Graph Generated\n",
      "data_0.528_3.8_007080 Descriptors Generated\n",
      "data_0.528_3.8_007080 Text File Generated\n",
      "Executing data_0.528_4.0_001100\n",
      "data_0.528_4.0_001100 Graph Generated\n",
      "data_0.528_4.0_001100 Descriptors Generated\n",
      "data_0.528_4.0_001100 Text File Generated\n",
      "Executing data_0.543_2.6_000060\n",
      "data_0.543_2.6_000060 Graph Generated\n",
      "data_0.543_2.6_000060 Descriptors Generated\n",
      "data_0.543_2.6_000060 Text File Generated\n",
      "Executing data_0.543_2.8_006140\n",
      "data_0.543_2.8_006140 Graph Generated\n",
      "data_0.543_2.8_006140 Descriptors Generated\n",
      "data_0.543_2.8_006140 Text File Generated\n",
      "Executing data_0.543_3.4_001960\n",
      "data_0.543_3.4_001960 Graph Generated\n",
      "data_0.543_3.4_001960 Descriptors Generated\n",
      "data_0.543_3.4_001960 Text File Generated\n",
      "Executing data_0.543_4.0_000080\n",
      "data_0.543_4.0_000080 Graph Generated\n",
      "data_0.543_4.0_000080 Descriptors Generated\n",
      "data_0.543_4.0_000080 Text File Generated\n",
      "Executing data_0.558_2.4_002420\n",
      "data_0.558_2.4_002420 Graph Generated\n",
      "data_0.558_2.4_002420 Descriptors Generated\n",
      "data_0.558_2.4_002420 Text File Generated\n",
      "Executing data_0.558_2.6_000100\n",
      "data_0.558_2.6_000100 Graph Generated\n",
      "data_0.558_2.6_000100 Descriptors Generated\n",
      "data_0.558_2.6_000100 Text File Generated\n",
      "Executing data_0.558_3.2_000400\n",
      "data_0.558_3.2_000400 Graph Generated\n",
      "data_0.558_3.2_000400 Descriptors Generated\n",
      "data_0.558_3.2_000400 Text File Generated\n",
      "Executing data_0.558_3.4_000040\n",
      "data_0.558_3.4_000040 Graph Generated\n",
      "data_0.558_3.4_000040 Descriptors Generated\n",
      "data_0.558_3.4_000040 Text File Generated\n",
      "Executing data_0.558_3.6_000420\n",
      "data_0.558_3.6_000420 Graph Generated\n",
      "data_0.558_3.6_000420 Descriptors Generated\n",
      "data_0.558_3.6_000420 Text File Generated\n",
      "Executing data_0.572_3.8_006980\n",
      "data_0.572_3.8_006980 Graph Generated\n",
      "data_0.572_3.8_006980 Descriptors Generated\n",
      "data_0.572_3.8_006980 Text File Generated\n",
      "Executing data_0.586_2.6_000220\n",
      "data_0.586_2.6_000220 Graph Generated\n",
      "data_0.586_2.6_000220 Descriptors Generated\n",
      "data_0.586_2.6_000220 Text File Generated\n",
      "Executing data_0.586_2.8_000280\n",
      "data_0.586_2.8_000280 Graph Generated\n",
      "data_0.586_2.8_000280 Descriptors Generated\n",
      "data_0.586_2.8_000280 Text File Generated\n",
      "Executing data_0.586_3.2_003200\n",
      "data_0.586_3.2_003200 Graph Generated\n",
      "data_0.586_3.2_003200 Descriptors Generated\n",
      "data_0.586_3.2_003200 Text File Generated\n",
      "Executing data_0.586_3.6_007220\n",
      "data_0.586_3.6_007220 Graph Generated\n",
      "data_0.586_3.6_007220 Descriptors Generated\n",
      "data_0.586_3.6_007220 Text File Generated\n",
      "Executing data_0.586_4.0_006740\n",
      "data_0.586_4.0_006740 Graph Generated\n",
      "data_0.586_4.0_006740 Descriptors Generated\n",
      "data_0.586_4.0_006740 Text File Generated\n",
      "Executing data_0.5_2.2_001900\n",
      "data_0.5_2.2_001900 Graph Generated\n",
      "data_0.5_2.2_001900 Descriptors Generated\n",
      "data_0.5_2.2_001900 Text File Generated\n",
      "Executing data_0.5_2.6_004020\n",
      "data_0.5_2.6_004020 Graph Generated\n",
      "data_0.5_2.6_004020 Descriptors Generated\n",
      "data_0.5_2.6_004020 Text File Generated\n",
      "Executing data_0.5_2.8_000380\n",
      "data_0.5_2.8_000380 Graph Generated\n",
      "data_0.5_2.8_000380 Descriptors Generated\n",
      "data_0.5_2.8_000380 Text File Generated\n",
      "Executing data_0.5_3.6_000540\n",
      "data_0.5_3.6_000540 Graph Generated\n",
      "data_0.5_3.6_000540 Descriptors Generated\n",
      "data_0.5_3.6_000540 Text File Generated\n",
      "Executing data_0.5_3.8_001820\n",
      "data_0.5_3.8_001820 Graph Generated\n",
      "data_0.5_3.8_001820 Descriptors Generated\n",
      "data_0.5_3.8_001820 Text File Generated\n",
      "Text Files Generated\n"
     ]
    }
   ],
   "source": [
    "%run tests.py \"txt\""
   ]
  },
  {
   "cell_type": "code",
   "execution_count": 5,
   "id": "9bb2c79a-3b94-46b9-8efe-bf5362517878",
   "metadata": {
    "ExecuteTime": {
     "start_time": "2025-01-31T16:53:38.261933Z"
    },
    "jupyter": {
     "is_executing": true
    }
   },
   "outputs": [
    {
     "name": "stdout",
     "output_type": "stream",
     "text": [
      "Generating PDF\n",
      "Generating Text Files\n",
      "Executing data_0.514_2.4_000220\n",
      "data_0.514_2.4_000220 Graph Generated\n",
      "data_0.514_2.4_000220 PDF Generated\n",
      "Executing data_0.514_2.6_000080\n",
      "data_0.514_2.6_000080 Graph Generated\n",
      "data_0.514_2.6_000080 PDF Generated\n",
      "Executing data_0.514_2.6_000980\n",
      "data_0.514_2.6_000980 Graph Generated\n",
      "data_0.514_2.6_000980 PDF Generated\n",
      "Executing data_0.514_2.8_000200\n",
      "data_0.514_2.8_000200 Graph Generated\n",
      "data_0.514_2.8_000200 PDF Generated\n",
      "Executing data_0.514_2.8_005540\n",
      "data_0.514_2.8_005540 Graph Generated\n",
      "data_0.514_2.8_005540 PDF Generated\n",
      "Executing data_0.514_3.4_000500\n",
      "data_0.514_3.4_000500 Graph Generated\n",
      "data_0.514_3.4_000500 PDF Generated\n",
      "Executing data_0.514_4.0_000040\n",
      "data_0.514_4.0_000040 Graph Generated\n",
      "data_0.514_4.0_000040 PDF Generated\n",
      "Executing data_0.528_2.6_006300\n",
      "data_0.528_2.6_006300 Graph Generated\n",
      "data_0.528_2.6_006300 PDF Generated\n",
      "Executing data_0.528_3.2_000880\n",
      "data_0.528_3.2_000880 Graph Generated\n",
      "data_0.528_3.2_000880 PDF Generated\n",
      "Executing data_0.528_3.4_000140\n",
      "data_0.528_3.4_000140 Graph Generated\n",
      "data_0.528_3.4_000140 PDF Generated\n",
      "Executing data_0.528_3.8_000100\n",
      "data_0.528_3.8_000100 Graph Generated\n",
      "data_0.528_3.8_000100 PDF Generated\n",
      "Executing data_0.528_3.8_007080\n",
      "data_0.528_3.8_007080 Graph Generated\n",
      "data_0.528_3.8_007080 PDF Generated\n",
      "Executing data_0.528_4.0_001100\n",
      "data_0.528_4.0_001100 Graph Generated\n",
      "data_0.528_4.0_001100 PDF Generated\n",
      "Executing data_0.543_2.6_000060\n",
      "data_0.543_2.6_000060 Graph Generated\n",
      "data_0.543_2.6_000060 PDF Generated\n",
      "Executing data_0.543_2.8_006140\n",
      "data_0.543_2.8_006140 Graph Generated\n",
      "data_0.543_2.8_006140 PDF Generated\n",
      "Executing data_0.543_3.4_001960\n",
      "data_0.543_3.4_001960 Graph Generated\n",
      "data_0.543_3.4_001960 PDF Generated\n",
      "Executing data_0.543_4.0_000080\n",
      "data_0.543_4.0_000080 Graph Generated\n",
      "data_0.543_4.0_000080 PDF Generated\n",
      "Executing data_0.558_2.4_002420\n",
      "data_0.558_2.4_002420 Graph Generated\n",
      "data_0.558_2.4_002420 PDF Generated\n",
      "Executing data_0.558_2.6_000100\n",
      "data_0.558_2.6_000100 Graph Generated\n",
      "data_0.558_2.6_000100 PDF Generated\n",
      "Executing data_0.558_3.2_000400\n",
      "data_0.558_3.2_000400 Graph Generated\n",
      "data_0.558_3.2_000400 PDF Generated\n",
      "Executing data_0.558_3.4_000040\n",
      "data_0.558_3.4_000040 Graph Generated\n",
      "data_0.558_3.4_000040 PDF Generated\n",
      "Executing data_0.558_3.6_000420\n",
      "data_0.558_3.6_000420 Graph Generated\n",
      "data_0.558_3.6_000420 PDF Generated\n",
      "Executing data_0.572_3.8_006980\n",
      "data_0.572_3.8_006980 Graph Generated\n",
      "data_0.572_3.8_006980 PDF Generated\n",
      "Executing data_0.586_2.6_000220\n",
      "data_0.586_2.6_000220 Graph Generated\n",
      "data_0.586_2.6_000220 PDF Generated\n",
      "Executing data_0.586_2.8_000280\n",
      "data_0.586_2.8_000280 Graph Generated\n",
      "data_0.586_2.8_000280 PDF Generated\n",
      "Executing data_0.586_3.2_003200\n",
      "data_0.586_3.2_003200 Graph Generated\n",
      "data_0.586_3.2_003200 PDF Generated\n",
      "Executing data_0.586_3.6_007220\n",
      "data_0.586_3.6_007220 Graph Generated\n",
      "data_0.586_3.6_007220 PDF Generated\n",
      "Executing data_0.586_4.0_006740\n",
      "data_0.586_4.0_006740 Graph Generated\n",
      "data_0.586_4.0_006740 PDF Generated\n",
      "Executing data_0.5_2.2_001900\n",
      "data_0.5_2.2_001900 Graph Generated\n",
      "data_0.5_2.2_001900 PDF Generated\n",
      "Executing data_0.5_2.6_004020\n",
      "data_0.5_2.6_004020 Graph Generated\n",
      "data_0.5_2.6_004020 PDF Generated\n",
      "Executing data_0.5_2.8_000380\n",
      "data_0.5_2.8_000380 Graph Generated\n",
      "data_0.5_2.8_000380 PDF Generated\n",
      "Executing data_0.5_3.6_000540\n",
      "data_0.5_3.6_000540 Graph Generated\n",
      "data_0.5_3.6_000540 PDF Generated\n",
      "Executing data_0.5_3.8_001820\n",
      "data_0.5_3.8_001820 Graph Generated\n",
      "data_0.5_3.8_001820 PDF Generated\n",
      "Text Files Generated\n",
      "PDF Generated\n"
     ]
    }
   ],
   "source": [
    "%run tests.py \"pdf\""
   ]
  },
  {
   "cell_type": "code",
   "execution_count": 6,
   "id": "786dec4e-af36-48cf-8bb8-38d555a49015",
   "metadata": {
    "ExecuteTime": {
     "end_time": "2025-01-31T04:35:37.683361Z",
     "start_time": "2025-01-31T04:35:37.415845Z"
    },
    "scrolled": true
   },
   "outputs": [
    {
     "data": {
      "text/html": [
       "\n",
       "<iframe src=\"test_results.pdf\" width=\"1000\" height=\"800\">\n",
       "</iframe>\n"
      ],
      "text/plain": [
       "<IPython.core.display.HTML object>"
      ]
     },
     "metadata": {},
     "output_type": "display_data"
    }
   ],
   "source": [
    "pdf_html = \"\"\"\n",
    "<iframe src=\"test_results.pdf\" width=\"1000\" height=\"800\">\n",
    "</iframe>\n",
    "\"\"\"\n",
    "display(HTML(pdf_html))"
   ]
  },
  {
   "cell_type": "code",
   "execution_count": null,
   "id": "208279dd-97b0-4f15-968d-31f3a3306882",
   "metadata": {},
   "outputs": [],
   "source": []
  }
 ],
 "metadata": {
  "kernelspec": {
   "display_name": "Python 3 (ipykernel)",
   "language": "python",
   "name": "python3"
  },
  "language_info": {
   "codemirror_mode": {
    "name": "ipython",
    "version": 3
   },
   "file_extension": ".py",
   "mimetype": "text/x-python",
   "name": "python",
   "nbconvert_exporter": "python",
   "pygments_lexer": "ipython3",
   "version": "3.12.6"
  }
 },
 "nbformat": 4,
 "nbformat_minor": 5
}
