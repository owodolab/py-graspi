{
 "cells": [
  {
   "cell_type": "code",
   "execution_count": 1,
   "id": "b9b4373e-55a6-42ea-b155-f0b607b7f935",
   "metadata": {},
   "outputs": [],
   "source": [
    "import sys\n",
    "import os\n",
    "sys.path.append(os.path.abspath('../src'))\n",
    "sys.path.append(os.path.abspath('../tools/tortuosity'))"
   ]
  },
  {
   "cell_type": "code",
   "execution_count": 2,
   "id": "72dbc1c0-516b-4380-b1e6-a0711186c249",
   "metadata": {
    "jupyter": {
     "is_executing": true
    }
   },
   "outputs": [],
   "source": [
    "import src.igraph_testing as ig\n",
    "import src.descriptors as ds\n",
    "import os\n",
    "import fpdf\n",
    "import numpy as np\n",
    "from PIL import Image, ImageOps\n",
    "import webbrowser\n",
    "import argparse\n",
    "import matplotlib.pyplot as plt\n",
    "import math\n",
    "import tools.tortuosity.tortuosity_histogram as t"
   ]
  },
  {
   "cell_type": "code",
   "execution_count": 3,
   "id": "c953d35e-4634-4ee6-8177-08c36ab6ff36",
   "metadata": {
    "ExecuteTime": {
     "end_time": "2025-01-31T04:35:51.574588Z",
     "start_time": "2025-01-31T04:35:51.567656Z"
    }
   },
   "outputs": [],
   "source": [
    "import subprocess\n",
    "from IPython.display import display, HTML"
   ]
  },
  {
   "cell_type": "code",
   "execution_count": 4,
   "id": "dec4b34f-3c01-4e13-96dd-6cee0e7a1686",
   "metadata": {
    "ExecuteTime": {
     "end_time": "2025-03-05T17:49:49.121167Z",
     "start_time": "2025-03-05T17:49:41.935986Z"
    }
   },
   "outputs": [
    {
     "name": "stdout",
     "output_type": "stream",
     "text": [
      "Generating Text Files\n",
      "Executing data_0.514_2.4_000220\n",
      "data_0.514_2.4_000220 Graph Generated\n",
      "data_0.514_2.4_000220 Descriptors Generated\n",
      "data_0.514_2.4_000220 Text File Generated\n",
      "Executing data_0.514_2.6_000080\n",
      "data_0.514_2.6_000080 Graph Generated\n",
      "data_0.514_2.6_000080 Descriptors Generated\n",
      "data_0.514_2.6_000080 Text File Generated\n",
      "Executing data_0.514_2.6_000980\n",
      "data_0.514_2.6_000980 Graph Generated\n",
      "data_0.514_2.6_000980 Descriptors Generated\n",
      "data_0.514_2.6_000980 Text File Generated\n",
      "Executing data_0.514_2.8_000200\n",
      "data_0.514_2.8_000200 Graph Generated\n",
      "data_0.514_2.8_000200 Descriptors Generated\n",
      "data_0.514_2.8_000200 Text File Generated\n",
      "Executing data_0.514_2.8_005540\n",
      "data_0.514_2.8_005540 Graph Generated\n",
      "data_0.514_2.8_005540 Descriptors Generated\n",
      "data_0.514_2.8_005540 Text File Generated\n",
      "Executing data_0.514_3.4_000500\n",
      "data_0.514_3.4_000500 Graph Generated\n",
      "data_0.514_3.4_000500 Descriptors Generated\n",
      "data_0.514_3.4_000500 Text File Generated\n",
      "Executing data_0.514_4.0_000040\n",
      "data_0.514_4.0_000040 Graph Generated\n",
      "data_0.514_4.0_000040 Descriptors Generated\n",
      "data_0.514_4.0_000040 Text File Generated\n",
      "Executing data_0.528_2.6_006300\n",
      "data_0.528_2.6_006300 Graph Generated\n",
      "data_0.528_2.6_006300 Descriptors Generated\n",
      "data_0.528_2.6_006300 Text File Generated\n",
      "Executing data_0.528_3.2_000880\n",
      "data_0.528_3.2_000880 Graph Generated\n",
      "data_0.528_3.2_000880 Descriptors Generated\n",
      "data_0.528_3.2_000880 Text File Generated\n",
      "Executing data_0.528_3.4_000140\n",
      "data_0.528_3.4_000140 Graph Generated\n",
      "data_0.528_3.4_000140 Descriptors Generated\n",
      "data_0.528_3.4_000140 Text File Generated\n",
      "Executing data_0.528_3.8_000100\n",
      "data_0.528_3.8_000100 Graph Generated\n",
      "data_0.528_3.8_000100 Descriptors Generated\n",
      "data_0.528_3.8_000100 Text File Generated\n",
      "Executing data_0.528_3.8_007080\n",
      "data_0.528_3.8_007080 Graph Generated\n",
      "data_0.528_3.8_007080 Descriptors Generated\n",
      "data_0.528_3.8_007080 Text File Generated\n",
      "Executing data_0.528_4.0_001100\n",
      "data_0.528_4.0_001100 Graph Generated\n",
      "data_0.528_4.0_001100 Descriptors Generated\n",
      "data_0.528_4.0_001100 Text File Generated\n",
      "Executing data_0.543_2.6_000060\n",
      "data_0.543_2.6_000060 Graph Generated\n",
      "data_0.543_2.6_000060 Descriptors Generated\n",
      "data_0.543_2.6_000060 Text File Generated\n",
      "Executing data_0.543_2.8_006140\n",
      "data_0.543_2.8_006140 Graph Generated\n",
      "data_0.543_2.8_006140 Descriptors Generated\n",
      "data_0.543_2.8_006140 Text File Generated\n",
      "Executing data_0.543_3.4_001960\n",
      "data_0.543_3.4_001960 Graph Generated\n",
      "data_0.543_3.4_001960 Descriptors Generated\n",
      "data_0.543_3.4_001960 Text File Generated\n",
      "Executing data_0.543_4.0_000080\n",
      "data_0.543_4.0_000080 Graph Generated\n",
      "data_0.543_4.0_000080 Descriptors Generated\n",
      "data_0.543_4.0_000080 Text File Generated\n",
      "Executing data_0.558_2.4_002420\n",
      "data_0.558_2.4_002420 Graph Generated\n",
      "data_0.558_2.4_002420 Descriptors Generated\n",
      "data_0.558_2.4_002420 Text File Generated\n",
      "Executing data_0.558_2.6_000100\n",
      "data_0.558_2.6_000100 Graph Generated\n",
      "data_0.558_2.6_000100 Descriptors Generated\n",
      "data_0.558_2.6_000100 Text File Generated\n",
      "Executing data_0.558_3.2_000400\n",
      "data_0.558_3.2_000400 Graph Generated\n",
      "data_0.558_3.2_000400 Descriptors Generated\n",
      "data_0.558_3.2_000400 Text File Generated\n",
      "Executing data_0.558_3.4_000040\n",
      "data_0.558_3.4_000040 Graph Generated\n",
      "data_0.558_3.4_000040 Descriptors Generated\n",
      "data_0.558_3.4_000040 Text File Generated\n",
      "Executing data_0.558_3.6_000420\n",
      "data_0.558_3.6_000420 Graph Generated\n",
      "data_0.558_3.6_000420 Descriptors Generated\n",
      "data_0.558_3.6_000420 Text File Generated\n",
      "Executing data_0.572_3.8_006980\n",
      "data_0.572_3.8_006980 Graph Generated\n",
      "data_0.572_3.8_006980 Descriptors Generated\n",
      "data_0.572_3.8_006980 Text File Generated\n",
      "Executing data_0.586_2.6_000220\n",
      "data_0.586_2.6_000220 Graph Generated\n",
      "data_0.586_2.6_000220 Descriptors Generated\n",
      "data_0.586_2.6_000220 Text File Generated\n",
      "Executing data_0.586_2.8_000280\n",
      "data_0.586_2.8_000280 Graph Generated\n",
      "data_0.586_2.8_000280 Descriptors Generated\n",
      "data_0.586_2.8_000280 Text File Generated\n",
      "Executing data_0.586_3.2_003200\n",
      "data_0.586_3.2_003200 Graph Generated\n",
      "data_0.586_3.2_003200 Descriptors Generated\n",
      "data_0.586_3.2_003200 Text File Generated\n",
      "Executing data_0.586_3.6_007220\n",
      "data_0.586_3.6_007220 Graph Generated\n",
      "data_0.586_3.6_007220 Descriptors Generated\n",
      "data_0.586_3.6_007220 Text File Generated\n",
      "Executing data_0.586_4.0_006740\n",
      "data_0.586_4.0_006740 Graph Generated\n",
      "data_0.586_4.0_006740 Descriptors Generated\n",
      "data_0.586_4.0_006740 Text File Generated\n",
      "Executing data_0.5_2.2_001900\n",
      "data_0.5_2.2_001900 Graph Generated\n",
      "data_0.5_2.2_001900 Descriptors Generated\n",
      "data_0.5_2.2_001900 Text File Generated\n",
      "Executing data_0.5_2.6_004020\n",
      "data_0.5_2.6_004020 Graph Generated\n",
      "data_0.5_2.6_004020 Descriptors Generated\n",
      "data_0.5_2.6_004020 Text File Generated\n",
      "Executing data_0.5_2.8_000380\n",
      "data_0.5_2.8_000380 Graph Generated\n",
      "data_0.5_2.8_000380 Descriptors Generated\n",
      "data_0.5_2.8_000380 Text File Generated\n",
      "Executing data_0.5_3.6_000540\n",
      "data_0.5_3.6_000540 Graph Generated\n",
      "data_0.5_3.6_000540 Descriptors Generated\n",
      "data_0.5_3.6_000540 Text File Generated\n",
      "Executing data_0.5_3.8_001820\n",
      "data_0.5_3.8_001820 Graph Generated\n",
      "data_0.5_3.8_001820 Descriptors Generated\n",
      "data_0.5_3.8_001820 Text File Generated\n",
      "Text Files Generated\n"
     ]
    }
   ],
   "source": [
    "%run tests.py \"txt\""
   ]
  },
  {
   "cell_type": "code",
   "execution_count": 4,
   "id": "9bb2c79a-3b94-46b9-8efe-bf5362517878",
   "metadata": {
    "ExecuteTime": {
     "start_time": "2025-01-31T16:53:38.261933Z"
    },
    "jupyter": {
     "is_executing": true
    }
   },
   "outputs": [
    {
     "name": "stdout",
     "output_type": "stream",
     "text": [
      "Generating PDF\n",
      "Generating Text Files\n",
      "Executing data_0.514_2.4_000220\n",
      "data_0.514_2.4_000220 Graph Generated\n"
     ]
    },
    {
     "ename": "FileNotFoundError",
     "evalue": "[Errno 2] No such file or directory: 'C:\\\\Users\\\\kevin\\\\PycharmProjects\\\\Sprint2Test\\\\py-graspi\\\\tests/py_graspi/data/data_ta_0.514_2.4_000220_IdTortuosityBlackToRed.txt'",
     "output_type": "error",
     "traceback": [
      "\u001b[31m---------------------------------------------------------------------------\u001b[39m",
      "\u001b[31mFileNotFoundError\u001b[39m                         Traceback (most recent call last)",
      "\u001b[36mFile \u001b[39m\u001b[32m~\\PycharmProjects\\Sprint2Test\\py-graspi\\tests\\tests.py:207\u001b[39m\n\u001b[32m    204\u001b[39m         webbrowser.open_new_tab(\u001b[33mf\u001b[39m\u001b[33m\"\u001b[39m\u001b[38;5;132;01m{\u001b[39;00mcurrent_dir\u001b[38;5;132;01m}\u001b[39;00m\u001b[33m/py_graspi/test_results.pdf\u001b[39m\u001b[33m\"\u001b[39m)\n\u001b[32m    206\u001b[39m \u001b[38;5;28;01mif\u001b[39;00m \u001b[34m__name__\u001b[39m == \u001b[33m\"\u001b[39m\u001b[33m__main__\u001b[39m\u001b[33m\"\u001b[39m:\n\u001b[32m--> \u001b[39m\u001b[32m207\u001b[39m     \u001b[43mmain\u001b[49m\u001b[43m(\u001b[49m\u001b[43m)\u001b[49m\n",
      "\u001b[36mFile \u001b[39m\u001b[32m~\\PycharmProjects\\Sprint2Test\\py-graspi\\tests\\tests.py:186\u001b[39m, in \u001b[36mmain\u001b[39m\u001b[34m()\u001b[39m\n\u001b[32m    181\u001b[39m     pdf.image(hist6, x=\u001b[32m142\u001b[39m, y=\u001b[32m110\u001b[39m, w=\u001b[32m60\u001b[39m)\n\u001b[32m    183\u001b[39m \u001b[38;5;250m\u001b[39m\u001b[33;03m\"\"\"\u001b[39;00m\n\u001b[32m    184\u001b[39m \u001b[33;03mGenerates the heat map of tortuosity between black and red, and white to blue\u001b[39;00m\n\u001b[32m    185\u001b[39m \u001b[33;03m\"\"\"\u001b[39;00m\n\u001b[32m--> \u001b[39m\u001b[32m186\u001b[39m heat1 = \u001b[43mt\u001b[49m\u001b[43m.\u001b[49m\u001b[43mfind_BTR_tortuosity\u001b[49m\u001b[43m(\u001b[49m\u001b[43mg\u001b[49m\u001b[43m,\u001b[49m\u001b[43m \u001b[49m\u001b[43mis_2D\u001b[49m\u001b[43m,\u001b[49m\u001b[43m \u001b[49m\u001b[33;43m\"\u001b[39;49m\u001b[33;43m../\u001b[39;49m\u001b[33;43m\"\u001b[39;49m\u001b[43m \u001b[49m\u001b[43m+\u001b[49m\u001b[43mtest_file\u001b[49m\u001b[43m \u001b[49m\u001b[43m+\u001b[49m\u001b[43m \u001b[49m\u001b[33;43m\"\u001b[39;49m\u001b[33;43m.txt\u001b[39;49m\u001b[33;43m\"\u001b[39;49m\u001b[43m,\u001b[49m\u001b[43m \u001b[49m\u001b[43mhist_path\u001b[49m\u001b[43m \u001b[49m\u001b[43m+\u001b[49m\u001b[43m \u001b[49m\u001b[43mtest_file\u001b[49m\u001b[43m \u001b[49m\u001b[43m+\u001b[49m\u001b[43m \u001b[49m\u001b[33;43m\"\u001b[39;49m\u001b[33;43m7.png\u001b[39;49m\u001b[33;43m\"\u001b[39;49m\u001b[43m,\u001b[49m\u001b[43m \u001b[49m\u001b[33;43m\"\u001b[39;49m\u001b[33;43mTortuosity of D-paths to An\u001b[39;49m\u001b[33;43m\"\u001b[39;49m\u001b[43m)\u001b[49m\n\u001b[32m    187\u001b[39m pdf.image(hist_path + test_file + \u001b[33m\"\u001b[39m\u001b[33m7.png\u001b[39m\u001b[33m\"\u001b[39m, x=\u001b[32m80\u001b[39m, y=\u001b[32m160\u001b[39m, w=\u001b[32m60\u001b[39m)\n\u001b[32m    189\u001b[39m heat2 = t.find_WTB_tortuosity(g, is_2D, \u001b[33m\"\u001b[39m\u001b[33m../\u001b[39m\u001b[33m\"\u001b[39m + test_file + \u001b[33m\"\u001b[39m\u001b[33m.txt\u001b[39m\u001b[33m\"\u001b[39m, hist_path + test_file + \u001b[33m\"\u001b[39m\u001b[33m8.png\u001b[39m\u001b[33m\"\u001b[39m,\u001b[33m\"\u001b[39m\u001b[33mTortuosity of A-paths to Ca\u001b[39m\u001b[33m\"\u001b[39m)\n",
      "\u001b[36mFile \u001b[39m\u001b[32m~\\PycharmProjects\\Sprint2Test\\.venv\\Lib\\site-packages\\tools\\tortuosity\\tortuosity_histogram.py:39\u001b[39m, in \u001b[36mfind_BTR_tortuosity\u001b[39m\u001b[34m(g, is_2d, filename, output, title)\u001b[39m\n\u001b[32m     37\u001b[39m blackToRedList = []\n\u001b[32m     38\u001b[39m filteredGraph = filterGraph(g)\n\u001b[32m---> \u001b[39m\u001b[32m39\u001b[39m idOfPixelIn1DArray, tort = \u001b[43mread_BTR_file_and_extract_numbers\u001b[49m\u001b[43m(\u001b[49m\u001b[43mfilename\u001b[49m\u001b[43m)\u001b[49m\n\u001b[32m     40\u001b[39m \u001b[38;5;66;03m#Calculate vertex frequencies\u001b[39;00m\n\u001b[32m     41\u001b[39m vertex_frequency = [\u001b[32m0\u001b[39m] * numVertices\n",
      "\u001b[36mFile \u001b[39m\u001b[32m~\\PycharmProjects\\Sprint2Test\\.venv\\Lib\\site-packages\\tools\\tortuosity\\tortuosity_histogram.py:89\u001b[39m, in \u001b[36mread_BTR_file_and_extract_numbers\u001b[39m\u001b[34m(base_filename)\u001b[39m\n\u001b[32m     87\u001b[39m tort = []\n\u001b[32m     88\u001b[39m \u001b[38;5;66;03m# Open the file in read mode\u001b[39;00m\n\u001b[32m---> \u001b[39m\u001b[32m89\u001b[39m \u001b[38;5;28;01mwith\u001b[39;00m \u001b[38;5;28;43mopen\u001b[39;49m\u001b[43m(\u001b[49m\u001b[43mfile_path\u001b[49m\u001b[43m,\u001b[49m\u001b[43m \u001b[49m\u001b[33;43m\"\u001b[39;49m\u001b[33;43mr\u001b[39;49m\u001b[33;43m\"\u001b[39;49m\u001b[43m)\u001b[49m \u001b[38;5;28;01mas\u001b[39;00m file:\n\u001b[32m     90\u001b[39m     \u001b[38;5;66;03m# Read each line in the file\u001b[39;00m\n\u001b[32m     91\u001b[39m     \u001b[38;5;28;01mfor\u001b[39;00m line \u001b[38;5;129;01min\u001b[39;00m file:\n\u001b[32m     92\u001b[39m         \u001b[38;5;66;03m# Split the line into a list of strings\u001b[39;00m\n\u001b[32m     93\u001b[39m         parts = line.split()\n",
      "\u001b[31mFileNotFoundError\u001b[39m: [Errno 2] No such file or directory: 'C:\\\\Users\\\\kevin\\\\PycharmProjects\\\\Sprint2Test\\\\py-graspi\\\\tests/py_graspi/data/data_ta_0.514_2.4_000220_IdTortuosityBlackToRed.txt'"
     ]
    }
   ],
   "source": [
    "%run tests.py \"pdf\""
   ]
  },
  {
   "cell_type": "code",
   "execution_count": 6,
   "id": "786dec4e-af36-48cf-8bb8-38d555a49015",
   "metadata": {
    "ExecuteTime": {
     "end_time": "2025-01-31T04:35:37.683361Z",
     "start_time": "2025-01-31T04:35:37.415845Z"
    },
    "collapsed": true,
    "jupyter": {
     "outputs_hidden": true
    }
   },
   "outputs": [
    {
     "data": {
      "text/html": [
       "\n",
       "<iframe src=\"test_results.pdf\" width=\"1000\" height=\"800\">\n",
       "</iframe>\n"
      ],
      "text/plain": [
       "<IPython.core.display.HTML object>"
      ]
     },
     "metadata": {},
     "output_type": "display_data"
    }
   ],
   "source": [
    "pdf_html = \"\"\"\n",
    "<iframe src=\"test_results.pdf\" width=\"1000\" height=\"800\">\n",
    "</iframe>\n",
    "\"\"\"\n",
    "display(HTML(pdf_html))"
   ]
  },
  {
   "cell_type": "code",
   "execution_count": null,
   "id": "208279dd-97b0-4f15-968d-31f3a3306882",
   "metadata": {},
   "outputs": [],
   "source": []
  }
 ],
 "metadata": {
  "kernelspec": {
   "display_name": "Python 3 (ipykernel)",
   "language": "python",
   "name": "python3"
  },
  "language_info": {
   "codemirror_mode": {
    "name": "ipython",
    "version": 3
   },
   "file_extension": ".py",
   "mimetype": "text/x-python",
   "name": "python",
   "nbconvert_exporter": "python",
   "pygments_lexer": "ipython3",
   "version": "3.12.6"
  }
 },
 "nbformat": 4,
 "nbformat_minor": 5
}
