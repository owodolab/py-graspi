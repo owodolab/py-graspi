{
 "cells": [
  {
   "cell_type": "markdown",
   "metadata": {},
   "source": [
    "# Import graspi_igraph\n",
    "\n",
    "Ensure that you are only using python versions higher than 3.7\n",
    "- Python version can be checked by running *python --version* in the terminal\n",
    "- it can also be checked on notebook via *!pip --version* in the code section of the notebook"
   ]
  },
  {
   "cell_type": "code",
   "execution_count": 1,
   "metadata": {},
   "outputs": [],
   "source": [
    "import time"
   ]
  },
  {
   "cell_type": "code",
   "execution_count": 2,
   "metadata": {},
   "outputs": [],
   "source": [
    "import sys\n",
    "import os\n",
    "sys.path.append(os.path.abspath('..'))\n"
   ]
  },
  {
   "cell_type": "markdown",
   "metadata": {},
   "source": [
    "# Helper Functions\n",
    "---\n"
   ]
  },
  {
   "cell_type": "code",
   "execution_count": 3,
   "metadata": {},
   "outputs": [],
   "source": [
    "###########################################################################################\n",
    "# function that makes csv file of dictionary \n",
    "###########################################################################################\n",
    "import csv\n",
    "\n",
    "def save_dict_to_csv(data_dict, file_name):\n",
    "    \"\"\"\n",
    "    Saves a given dictionary as a CSV file.\n",
    "    :param data_dict: Dictionary to be saved (keys are filenames, values are nested dictionaries with data)\n",
    "    :param file_name: Name of the CSV file to be saved (e.g., 'output.csv')\n",
    "    \"\"\"\n",
    "    # Extract headers from the first key\n",
    "    headers = [\"Test File\"]  # First column is the file name\n",
    "    if data_dict:\n",
    "        sample_key = next(iter(data_dict))\n",
    "        headers.extend(data_dict[sample_key].keys())\n",
    "    \n",
    "    # Write to CSV file\n",
    "    with open(file_name, mode='w', newline='', encoding='utf-8') as file:\n",
    "        writer = csv.writer(file)\n",
    "        writer.writerow(headers)  # Write headers\n",
    "        \n",
    "        for key, values in data_dict.items():\n",
    "            row = [key] + [values.get(h, None) for h in headers[1:]]\n",
    "            writer.writerow(row)  # Write data rows\n",
    "    \n",
    "    print(f\"CSV file '{file_name}' has been successfully saved.\")\n"
   ]
  },
  {
   "cell_type": "markdown",
   "metadata": {},
   "source": [
    "## Visualization function call\n",
    "---\n",
    "change the file name if you want to visualize other result\n"
   ]
  },
  {
   "cell_type": "code",
   "execution_count": 4,
   "metadata": {},
   "outputs": [
    {
     "name": "stdout",
     "output_type": "stream",
     "text": [
      "Requirement already satisfied: pandas in /Users/hwi/Develop/ClassSrc/CSE302/py-graspi/.venv/lib/python3.11/site-packages (2.2.3)\n",
      "Requirement already satisfied: numpy>=1.23.2 in /Users/hwi/Develop/ClassSrc/CSE302/py-graspi/.venv/lib/python3.11/site-packages (from pandas) (2.2.2)\n",
      "Requirement already satisfied: python-dateutil>=2.8.2 in /Users/hwi/Develop/ClassSrc/CSE302/py-graspi/.venv/lib/python3.11/site-packages (from pandas) (2.9.0.post0)\n",
      "Requirement already satisfied: pytz>=2020.1 in /Users/hwi/Develop/ClassSrc/CSE302/py-graspi/.venv/lib/python3.11/site-packages (from pandas) (2025.1)\n",
      "Requirement already satisfied: tzdata>=2022.7 in /Users/hwi/Develop/ClassSrc/CSE302/py-graspi/.venv/lib/python3.11/site-packages (from pandas) (2025.1)\n",
      "Requirement already satisfied: six>=1.5 in /Users/hwi/Develop/ClassSrc/CSE302/py-graspi/.venv/lib/python3.11/site-packages (from python-dateutil>=2.8.2->pandas) (1.17.0)\n",
      "\n",
      "\u001b[1m[\u001b[0m\u001b[34;49mnotice\u001b[0m\u001b[1;39;49m]\u001b[0m\u001b[39;49m A new release of pip is available: \u001b[0m\u001b[31;49m25.0\u001b[0m\u001b[39;49m -> \u001b[0m\u001b[32;49m25.0.1\u001b[0m\n",
      "\u001b[1m[\u001b[0m\u001b[34;49mnotice\u001b[0m\u001b[1;39;49m]\u001b[0m\u001b[39;49m To update, run: \u001b[0m\u001b[32;49mpip install --upgrade pip\u001b[0m\n",
      "Requirement already satisfied: matplotlib in /Users/hwi/Develop/ClassSrc/CSE302/py-graspi/.venv/lib/python3.11/site-packages (3.10.0)\n",
      "Requirement already satisfied: contourpy>=1.0.1 in /Users/hwi/Develop/ClassSrc/CSE302/py-graspi/.venv/lib/python3.11/site-packages (from matplotlib) (1.3.1)\n",
      "Requirement already satisfied: cycler>=0.10 in /Users/hwi/Develop/ClassSrc/CSE302/py-graspi/.venv/lib/python3.11/site-packages (from matplotlib) (0.12.1)\n",
      "Requirement already satisfied: fonttools>=4.22.0 in /Users/hwi/Develop/ClassSrc/CSE302/py-graspi/.venv/lib/python3.11/site-packages (from matplotlib) (4.55.8)\n",
      "Requirement already satisfied: kiwisolver>=1.3.1 in /Users/hwi/Develop/ClassSrc/CSE302/py-graspi/.venv/lib/python3.11/site-packages (from matplotlib) (1.4.8)\n",
      "Requirement already satisfied: numpy>=1.23 in /Users/hwi/Develop/ClassSrc/CSE302/py-graspi/.venv/lib/python3.11/site-packages (from matplotlib) (2.2.2)\n",
      "Requirement already satisfied: packaging>=20.0 in /Users/hwi/Develop/ClassSrc/CSE302/py-graspi/.venv/lib/python3.11/site-packages (from matplotlib) (24.2)\n",
      "Requirement already satisfied: pillow>=8 in /Users/hwi/Develop/ClassSrc/CSE302/py-graspi/.venv/lib/python3.11/site-packages (from matplotlib) (11.1.0)\n",
      "Requirement already satisfied: pyparsing>=2.3.1 in /Users/hwi/Develop/ClassSrc/CSE302/py-graspi/.venv/lib/python3.11/site-packages (from matplotlib) (3.2.1)\n",
      "Requirement already satisfied: python-dateutil>=2.7 in /Users/hwi/Develop/ClassSrc/CSE302/py-graspi/.venv/lib/python3.11/site-packages (from matplotlib) (2.9.0.post0)\n",
      "Requirement already satisfied: six>=1.5 in /Users/hwi/Develop/ClassSrc/CSE302/py-graspi/.venv/lib/python3.11/site-packages (from python-dateutil>=2.7->matplotlib) (1.17.0)\n",
      "\n",
      "\u001b[1m[\u001b[0m\u001b[34;49mnotice\u001b[0m\u001b[1;39;49m]\u001b[0m\u001b[39;49m A new release of pip is available: \u001b[0m\u001b[31;49m25.0\u001b[0m\u001b[39;49m -> \u001b[0m\u001b[32;49m25.0.1\u001b[0m\n",
      "\u001b[1m[\u001b[0m\u001b[34;49mnotice\u001b[0m\u001b[1;39;49m]\u001b[0m\u001b[39;49m To update, run: \u001b[0m\u001b[32;49mpip install --upgrade pip\u001b[0m\n",
      "Requirement already satisfied: igraph in /Users/hwi/Develop/ClassSrc/CSE302/py-graspi/.venv/lib/python3.11/site-packages (0.11.8)\n",
      "Requirement already satisfied: texttable>=1.6.2 in /Users/hwi/Develop/ClassSrc/CSE302/py-graspi/.venv/lib/python3.11/site-packages (from igraph) (1.7.0)\n",
      "\n",
      "\u001b[1m[\u001b[0m\u001b[34;49mnotice\u001b[0m\u001b[1;39;49m]\u001b[0m\u001b[39;49m A new release of pip is available: \u001b[0m\u001b[31;49m25.0\u001b[0m\u001b[39;49m -> \u001b[0m\u001b[32;49m25.0.1\u001b[0m\n",
      "\u001b[1m[\u001b[0m\u001b[34;49mnotice\u001b[0m\u001b[1;39;49m]\u001b[0m\u001b[39;49m To update, run: \u001b[0m\u001b[32;49mpip install --upgrade pip\u001b[0m\n"
     ]
    }
   ],
   "source": [
    "!pip install pandas\n",
    "!pip install matplotlib\n",
    "!pip install igraph\n",
    "import testing_helper as tst"
   ]
  },
  {
   "cell_type": "markdown",
   "metadata": {},
   "source": [
    "\n",
    "## Testing Code\n",
    "---\n",
    "Doing different igraph file test & generating CSV file(for comparing performance)"
   ]
  },
  {
   "cell_type": "markdown",
   "metadata": {},
   "source": [
    "### Testing :: hwi_igraph_testing_main.py (modified green vertex connection)"
   ]
  },
  {
   "cell_type": "code",
   "execution_count": null,
   "metadata": {},
   "outputs": [
    {
     "name": "stdout",
     "output_type": "stream",
     "text": [
      "data_0.5_2.2_001900 Results\n",
      "STAT_n passed\n",
      "STAT_e passed\n",
      "STAT_n_D passed\n",
      "STAT_n_A passed\n",
      "STAT_CC_D passed\n",
      "STAT_CC_A passed\n",
      "STAT_CC_D_An passed\n",
      "STAT_CC_A_Ca passed\n",
      "ABS_wf_D failed - 0.31148777712164943 is not the same as expected 0.308388\n",
      "ABS_f_D passed\n",
      "DISS_wf10_D failed - 0.2166226885998765 is not the same as expected 0.219256\n",
      "DISS_f10_D failed - 0.4269250756579953 is not the same as expected 0.428209\n",
      "CT_f_e_conn passed\n",
      "CT_f_conn_D_An passed\n",
      "CT_f_conn_A_Ca passed\n",
      "CT_e_conn passed\n",
      "CT_e_D_An failed - 1174 is not the same as expected 1278\n",
      "CT_e_A_Ca failed - 1489 is not the same as expected 1638\n",
      "CT_f_D_tort1 passed\n",
      "CT_f_A_tort1 passed\n",
      "Total time to calculate graph: 28.977535009384155 second(s)\n",
      "Total time to calculate descriptors: 14.714087963104248 second(s)\n",
      "Peak memory usage for graph generation: 59128764 bytes\n",
      "Peak memory usage for descriptor calculation: 0 bytes\n",
      "{'STAT_n': 65536, 'STAT_e': 1634, 'STAT_n_D': 32713, 'STAT_n_A': 32823, 'STAT_CC_D': 2, 'STAT_CC_A': 1, 'STAT_CC_D_An': 1, 'STAT_CC_A_Ca': 1, 'ABS_wf_D': 0.31148777712164943, 'ABS_f_D': 0.4991607666015625, 'DISS_f10_D': 0.4269250756579953, 'DISS_wf10_D': 0.2166226885998765, 'CT_f_e_conn': 0.7821297429620563, 'CT_f_conn_D_An': 0.8702656436279155, 'CT_f_conn_A_Ca': 1.0, 'CT_e_conn': 1278, 'CT_e_D_An': 1174, 'CT_e_A_Ca': 1489, 'CT_n_D_adj_An': 512, 'CT_n_A_adj_Ca': 512, 'CT_f_D_tort1': 0.9691594365801398, 'CT_f_A_tort1': 0.7340279681930354}\n",
      "\n"
     ]
    },
    {
     "ename": "KeyboardInterrupt",
     "evalue": "",
     "output_type": "error",
     "traceback": [
      "\u001b[0;31m---------------------------------------------------------------------------\u001b[0m",
      "\u001b[0;31mKeyboardInterrupt\u001b[0m                         Traceback (most recent call last)",
      "Cell \u001b[0;32mIn[8], line 31\u001b[0m\n\u001b[1;32m     29\u001b[0m tracemalloc\u001b[38;5;241m.\u001b[39mstart()\n\u001b[1;32m     30\u001b[0m graph_start \u001b[38;5;241m=\u001b[39m time\u001b[38;5;241m.\u001b[39mtime()\n\u001b[0;32m---> 31\u001b[0m g_data \u001b[38;5;241m=\u001b[39m \u001b[43mig\u001b[49m\u001b[38;5;241;43m.\u001b[39;49m\u001b[43mgenerateGraph\u001b[49m\u001b[43m(\u001b[49m\u001b[43mdata_path\u001b[49m\u001b[38;5;241;43m+\u001b[39;49m\u001b[43mtest_file\u001b[49m\u001b[38;5;241;43m+\u001b[39;49m\u001b[38;5;124;43m\"\u001b[39;49m\u001b[38;5;124;43m.txt\u001b[39;49m\u001b[38;5;124;43m\"\u001b[39;49m\u001b[43m)\u001b[49m    \n\u001b[1;32m     32\u001b[0m mem_graph \u001b[38;5;241m=\u001b[39m tracemalloc\u001b[38;5;241m.\u001b[39mget_traced_memory()\n\u001b[1;32m     33\u001b[0m graph_end \u001b[38;5;241m=\u001b[39m time\u001b[38;5;241m.\u001b[39mtime()\n",
      "File \u001b[0;32m~/Develop/ClassSrc/CSE302/py-graspi/src/graph.py:61\u001b[0m, in \u001b[0;36mgenerateGraph\u001b[0;34m(file)\u001b[0m\n\u001b[1;32m     50\u001b[0m \u001b[38;5;250m\u001b[39m\u001b[38;5;124;03m\"\"\"\u001b[39;00m\n\u001b[1;32m     51\u001b[0m \u001b[38;5;124;03m    This function takes in graph data and determines if it’s in .txt or .graphe format in order to represent the graph using an adjacency list and the correct dimensionality.\u001b[39;00m\n\u001b[1;32m     52\u001b[0m \n\u001b[0;32m   (...)\u001b[0m\n\u001b[1;32m     58\u001b[0m \u001b[38;5;124;03m    See “generateGraphAdj” if in .txt, or “generateGraphGraphe” if in .graphe.\u001b[39;00m\n\u001b[1;32m     59\u001b[0m \u001b[38;5;124;03m\"\"\"\u001b[39;00m\n\u001b[1;32m     60\u001b[0m \u001b[38;5;28;01mif\u001b[39;00m os\u001b[38;5;241m.\u001b[39mpath\u001b[38;5;241m.\u001b[39msplitext(file)[\u001b[38;5;241m1\u001b[39m] \u001b[38;5;241m==\u001b[39m \u001b[38;5;124m\"\u001b[39m\u001b[38;5;124m.txt\u001b[39m\u001b[38;5;124m\"\u001b[39m:\n\u001b[0;32m---> 61\u001b[0m     \u001b[38;5;28;01mreturn\u001b[39;00m \u001b[43mgenerateGraphAdj\u001b[49m\u001b[43m(\u001b[49m\u001b[43mfile\u001b[49m\u001b[43m)\u001b[49m\n\u001b[1;32m     62\u001b[0m \u001b[38;5;28;01melse\u001b[39;00m:\n\u001b[1;32m     63\u001b[0m     \u001b[38;5;28;01mreturn\u001b[39;00m generateGraphGraphe(file)\n",
      "File \u001b[0;32m~/Develop/ClassSrc/CSE302/py-graspi/src/graph.py:118\u001b[0m, in \u001b[0;36mgenerateGraphAdj\u001b[0;34m(file)\u001b[0m\n\u001b[1;32m    106\u001b[0m \u001b[38;5;66;03m# shortest_start = time.time()\u001b[39;00m\n\u001b[1;32m    107\u001b[0m \n\u001b[1;32m    108\u001b[0m \u001b[38;5;66;03m# shortest_end = time.time()     \u001b[39;00m\n\u001b[0;32m   (...)\u001b[0m\n\u001b[1;32m    112\u001b[0m \n\u001b[1;32m    113\u001b[0m \u001b[38;5;66;03m# print(\"shortest time : \", shortest_time)    \u001b[39;00m\n\u001b[1;32m    115\u001b[0m others_start \u001b[38;5;241m=\u001b[39m time\u001b[38;5;241m.\u001b[39mtime()    \n\u001b[0;32m--> 118\u001b[0m fg_blue, fg_red \u001b[38;5;241m=\u001b[39m \u001b[43mfilterGraph_blue_red\u001b[49m\u001b[43m(\u001b[49m\u001b[43mg\u001b[49m\u001b[43m)\u001b[49m\n\u001b[1;32m    119\u001b[0m redComponent \u001b[38;5;241m=\u001b[39m \u001b[38;5;28mset\u001b[39m(fg_red\u001b[38;5;241m.\u001b[39msubcomponent(graph_data\u001b[38;5;241m.\u001b[39mredVertex, mode\u001b[38;5;241m=\u001b[39m\u001b[38;5;124m\"\u001b[39m\u001b[38;5;124mALL\u001b[39m\u001b[38;5;124m\"\u001b[39m))\n\u001b[1;32m    120\u001b[0m blueComponent \u001b[38;5;241m=\u001b[39m \u001b[38;5;28mset\u001b[39m(fg_blue\u001b[38;5;241m.\u001b[39msubcomponent(graph_data\u001b[38;5;241m.\u001b[39mblueVertex, mode\u001b[38;5;241m=\u001b[39m\u001b[38;5;124m\"\u001b[39m\u001b[38;5;124mALL\u001b[39m\u001b[38;5;124m\"\u001b[39m))\n",
      "File \u001b[0;32m~/Develop/ClassSrc/CSE302/py-graspi/src/graph.py:925\u001b[0m, in \u001b[0;36mfilterGraph_blue_red\u001b[0;34m(graph)\u001b[0m\n\u001b[1;32m    922\u001b[0m     keptWeights_blue\u001b[38;5;241m.\u001b[39mappend(graph\u001b[38;5;241m.\u001b[39mes[graph\u001b[38;5;241m.\u001b[39mget_eid(currentNode, toNode)][\u001b[38;5;124m'\u001b[39m\u001b[38;5;124mweight\u001b[39m\u001b[38;5;124m'\u001b[39m])\n\u001b[1;32m    923\u001b[0m     keptWeights_red\u001b[38;5;241m.\u001b[39mappend(graph\u001b[38;5;241m.\u001b[39mes[graph\u001b[38;5;241m.\u001b[39mget_eid(currentNode, toNode)][\u001b[38;5;124m'\u001b[39m\u001b[38;5;124mweight\u001b[39m\u001b[38;5;124m'\u001b[39m])\n\u001b[0;32m--> 925\u001b[0m \u001b[38;5;28;01mif\u001b[39;00m ((\u001b[43mgraph\u001b[49m\u001b[38;5;241;43m.\u001b[39;49m\u001b[43mvs\u001b[49m[currentNode][\u001b[38;5;124m'\u001b[39m\u001b[38;5;124mcolor\u001b[39m\u001b[38;5;124m'\u001b[39m] \u001b[38;5;241m==\u001b[39m \u001b[38;5;124m'\u001b[39m\u001b[38;5;124mblue\u001b[39m\u001b[38;5;124m'\u001b[39m) \u001b[38;5;129;01mor\u001b[39;00m (graph\u001b[38;5;241m.\u001b[39mvs[toNode][\u001b[38;5;124m'\u001b[39m\u001b[38;5;124mcolor\u001b[39m\u001b[38;5;124m'\u001b[39m] \u001b[38;5;241m==\u001b[39m \u001b[38;5;124m'\u001b[39m\u001b[38;5;124mblue\u001b[39m\u001b[38;5;124m'\u001b[39m)):\n\u001b[1;32m    926\u001b[0m     keptEdges_blue\u001b[38;5;241m.\u001b[39mappend(edge)\n\u001b[1;32m    927\u001b[0m     keptWeights_blue\u001b[38;5;241m.\u001b[39mappend(graph\u001b[38;5;241m.\u001b[39mes[graph\u001b[38;5;241m.\u001b[39mget_eid(currentNode, toNode)][\u001b[38;5;124m'\u001b[39m\u001b[38;5;124mweight\u001b[39m\u001b[38;5;124m'\u001b[39m])\n",
      "File \u001b[0;32m~/Develop/ClassSrc/CSE302/py-graspi/.venv/lib/python3.11/site-packages/igraph/__init__.py:585\u001b[0m, in \u001b[0;36mGraph.vs\u001b[0;34m(self)\u001b[0m\n\u001b[1;32m    581\u001b[0m     \u001b[38;5;28;01mreturn\u001b[39;00m \u001b[38;5;124m\"\u001b[39m\u001b[38;5;124mweight\u001b[39m\u001b[38;5;124m\"\u001b[39m \u001b[38;5;129;01min\u001b[39;00m \u001b[38;5;28mself\u001b[39m\u001b[38;5;241m.\u001b[39medge_attributes()\n\u001b[1;32m    583\u001b[0m \u001b[38;5;66;03m#############################################\u001b[39;00m\n\u001b[1;32m    584\u001b[0m \u001b[38;5;66;03m# Vertex and edge sequence\u001b[39;00m\n\u001b[0;32m--> 585\u001b[0m \u001b[38;5;129m@property\u001b[39m\n\u001b[1;32m    586\u001b[0m \u001b[38;5;28;01mdef\u001b[39;00m\u001b[38;5;250m \u001b[39m\u001b[38;5;21mvs\u001b[39m(\u001b[38;5;28mself\u001b[39m):\n\u001b[1;32m    587\u001b[0m \u001b[38;5;250m    \u001b[39m\u001b[38;5;124;03m\"\"\"The vertex sequence of the graph\"\"\"\u001b[39;00m\n\u001b[1;32m    588\u001b[0m     \u001b[38;5;28;01mreturn\u001b[39;00m VertexSeq(\u001b[38;5;28mself\u001b[39m)\n",
      "\u001b[0;31mKeyboardInterrupt\u001b[0m: "
     ]
    }
   ],
   "source": [
    "import src.graph as ig\n",
    "import src.original_graph as ig2\n",
    "import src.descriptors as ds\n",
    "import os\n",
    "import time\n",
    "import matplotlib.pyplot as plt\n",
    "import tracemalloc\n",
    "import src.graph_data_class as gc\n",
    "import importlib\n",
    "\n",
    "importlib.reload(ig)  # 강제 리로드\n",
    "importlib.reload(ig2)  # 강제 리로드\n",
    "importlib.reload(ds)  # 강제 리로드\n",
    "\n",
    "\n",
    "current_dir = os.getcwd()\n",
    "data_path = f\"../data/data/\"\n",
    "descriptors_path = f\"../data/descriptors/\"\n",
    "result_path = f\"./results/\"\n",
    "test_files = [os.path.splitext(file)[0] for file in os.listdir(data_path)]\n",
    "epsilon=1e-5\n",
    "\n",
    "times = []\n",
    "mems = []\n",
    "time_mem_stats = {}\n",
    "\n",
    "for test_file in test_files:\n",
    "    import time\n",
    "    tracemalloc.start()\n",
    "    graph_start = time.time()\n",
    "    g_data = ig.generateGraph(data_path+test_file+\".txt\")    \n",
    "    mem_graph = tracemalloc.get_traced_memory()\n",
    "    graph_end = time.time()\n",
    "    tracemalloc.stop()\n",
    "    graph_mem = mem_graph[1]-mem_graph[0]  \n",
    "    \n",
    "    tracemalloc.start()\n",
    "    desc_start = time.time()\n",
    "    stats = ds.descriptors(g_data, test_file+\".txt\")\n",
    "    mem_desc = tracemalloc.get_traced_memory()\n",
    "    desc_end = time.time()\n",
    "    tracemalloc.stop()\n",
    "    descriptor_time = desc_end - desc_start\n",
    "    descriptor_mem = mem_desc[1]-mem_desc[0]\n",
    "    #ig.visual2D(g, 'graph')\n",
    "\n",
    "    print(f\"{test_file} Results\")\n",
    "\n",
    "    try:\n",
    "        with open(descriptors_path + \"descriptors.\" + test_file + \".log\") as f:\n",
    "            for line in f:\n",
    "                stat = line.strip().split(\" \")\n",
    "                try:\n",
    "                    # if stats.get(stat[0], -1) == int(stat[1]):\n",
    "                    if abs(stats.get(stat[0], -1) - float(stat[1])) < epsilon:\n",
    "                        print(f\"{stat[0]} passed\")\n",
    "                    elif stats.get(stat[0], -1) != -1 and stats.get(stat[0], -1) != int(stat[1]):\n",
    "                        print(f\"{stat[0]} failed - {stats.get(stat[0])} is not the same as expected {stat[1]}\")\n",
    "                except ValueError:\n",
    "                    if abs(stats.get(stat[0], -1) - float(stat[1])) < epsilon:\n",
    "                        print(f\"{stat[0]} passed\")\n",
    "                    elif stats.get(stat[0], -1) != -1 and stats.get(stat[0], -1) != float(stat[1]):\n",
    "                        print(f\"{stat[0]} failed - {stats.get(stat[0])} is not the same as expected {stat[1]}\")\n",
    "\n",
    "\n",
    "    except FileNotFoundError:\n",
    "        print(f\"File not found: {descriptors_path + 'descriptors.' + test_file + '.log'}\")\n",
    "        for key in stats:\n",
    "            print(f\"new {key}: {stats[key]}\")\n",
    "            print(f\"prev {key}: {stats[key]}\")                     \n",
    "\n",
    "    times.append(descriptor_time)\n",
    "    mems.append(descriptor_mem)\n",
    "\n",
    "    graph_time = graph_end-graph_start\n",
    "    print(f\"Total time to calculate graph: {graph_time} second(s)\")\n",
    "    print(f\"Total time to calculate descriptors: {descriptor_time} second(s)\")\n",
    "    print(f\"Peak memory usage for graph generation: {graph_mem} bytes\")\n",
    "    print(f\"Peak memory usage for descriptor calculation: {descriptor_mem} bytes\")\n",
    "    print(stats)\n",
    "    print(\"\")\n",
    "    time_mem_stats[test_file] = {\"graph_time\": graph_time, \"descriptor_time\": descriptor_time,  \"graph_mem\":graph_mem, \"descriptor_mem\": descriptor_mem}\n",
    "\n"
   ]
  },
  {
   "cell_type": "code",
   "execution_count": null,
   "metadata": {},
   "outputs": [],
   "source": [
    "# change file name \n",
    "save_dict_to_csv(time_mem_stats, \"performance/stats_new_green_method.csv\")"
   ]
  },
  {
   "cell_type": "code",
   "execution_count": null,
   "metadata": {},
   "outputs": [],
   "source": []
  }
 ],
 "metadata": {
  "kernelspec": {
   "display_name": ".venv",
   "language": "python",
   "name": "python3"
  },
  "language_info": {
   "codemirror_mode": {
    "name": "ipython",
    "version": 3
   },
   "file_extension": ".py",
   "mimetype": "text/x-python",
   "name": "python",
   "nbconvert_exporter": "python",
   "pygments_lexer": "ipython3",
   "version": "3.11.5"
  }
 },
 "nbformat": 4,
 "nbformat_minor": 4
}
