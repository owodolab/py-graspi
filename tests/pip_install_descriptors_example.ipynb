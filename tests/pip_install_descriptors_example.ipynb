{
 "cells": [
  {
   "cell_type": "markdown",
   "id": "2e540f54-9521-42ba-b0d3-42ecf68709fc",
   "metadata": {},
   "source": [
    "The command line code pip install will install the py-graspi package which will download necessary python libraries needed for the functions within the package to work. In other hands, without this line of code not only will the functions not be avaliable to the user but even if you have a clone of the package it will ont run since the necessary libraries have not been installed. This line does both in one."
   ]
  },
  {
   "cell_type": "code",
   "execution_count": 21,
   "id": "initial_id",
   "metadata": {},
   "outputs": [
    {
     "name": "stdout",
     "output_type": "stream",
     "text": [
      "Requirement already satisfied: py-graspi in c:\\users\\kevin\\pycharmprojects\\sprint1_testing\\.venv\\lib\\site-packages (0.1.1.0)\n",
      "Requirement already satisfied: igraph in c:\\users\\kevin\\pycharmprojects\\sprint1_testing\\.venv\\lib\\site-packages (from py-graspi) (0.11.8)\n",
      "Requirement already satisfied: matplotlib in c:\\users\\kevin\\pycharmprojects\\sprint1_testing\\.venv\\lib\\site-packages (from py-graspi) (3.10.0)\n",
      "Requirement already satisfied: numpy in c:\\users\\kevin\\pycharmprojects\\sprint1_testing\\.venv\\lib\\site-packages (from py-graspi) (2.2.3)\n",
      "Requirement already satisfied: contourpy in c:\\users\\kevin\\pycharmprojects\\sprint1_testing\\.venv\\lib\\site-packages (from py-graspi) (1.3.1)\n",
      "Requirement already satisfied: cycler in c:\\users\\kevin\\pycharmprojects\\sprint1_testing\\.venv\\lib\\site-packages (from py-graspi) (0.12.1)\n",
      "Requirement already satisfied: fonttools in c:\\users\\kevin\\pycharmprojects\\sprint1_testing\\.venv\\lib\\site-packages (from py-graspi) (4.56.0)\n",
      "Requirement already satisfied: kiwisolver in c:\\users\\kevin\\pycharmprojects\\sprint1_testing\\.venv\\lib\\site-packages (from py-graspi) (1.4.8)\n",
      "Requirement already satisfied: packaging in c:\\users\\kevin\\pycharmprojects\\sprint1_testing\\.venv\\lib\\site-packages (from py-graspi) (24.2)\n",
      "Requirement already satisfied: pillow in c:\\users\\kevin\\pycharmprojects\\sprint1_testing\\.venv\\lib\\site-packages (from py-graspi) (11.1.0)\n",
      "Requirement already satisfied: psutil in c:\\users\\kevin\\pycharmprojects\\sprint1_testing\\.venv\\lib\\site-packages (from py-graspi) (7.0.0)\n",
      "Requirement already satisfied: pyparsing in c:\\users\\kevin\\pycharmprojects\\sprint1_testing\\.venv\\lib\\site-packages (from py-graspi) (3.2.1)\n",
      "Requirement already satisfied: python-dateutil in c:\\users\\kevin\\pycharmprojects\\sprint1_testing\\.venv\\lib\\site-packages (from py-graspi) (2.9.0.post0)\n",
      "Requirement already satisfied: six in c:\\users\\kevin\\pycharmprojects\\sprint1_testing\\.venv\\lib\\site-packages (from py-graspi) (1.17.0)\n",
      "Requirement already satisfied: texttable in c:\\users\\kevin\\pycharmprojects\\sprint1_testing\\.venv\\lib\\site-packages (from py-graspi) (1.7.0)\n",
      "Requirement already satisfied: fpdf in c:\\users\\kevin\\pycharmprojects\\sprint1_testing\\.venv\\lib\\site-packages (from py-graspi) (1.7.2)\n"
     ]
    },
    {
     "name": "stderr",
     "output_type": "stream",
     "text": [
      "\n",
      "[notice] A new release of pip is available: 23.2.1 -> 25.0.1\n",
      "[notice] To update, run: python.exe -m pip install --upgrade pip\n"
     ]
    }
   ],
   "source": [
    "!pip install py-graspi"
   ]
  },
  {
   "cell_type": "code",
   "execution_count": 22,
   "id": "b1f548db-fde5-4482-a647-85654bb0e68c",
   "metadata": {},
   "outputs": [
    {
     "ename": "ModuleNotFoundError",
     "evalue": "No module named 'descriptors'",
     "output_type": "error",
     "traceback": [
      "\u001b[1;31m---------------------------------------------------------------------------\u001b[0m",
      "\u001b[1;31mModuleNotFoundError\u001b[0m                       Traceback (most recent call last)",
      "Cell \u001b[1;32mIn[22], line 2\u001b[0m\n\u001b[0;32m      1\u001b[0m \u001b[38;5;66;03m#import py_graspi library\u001b[39;00m\n\u001b[1;32m----> 2\u001b[0m \u001b[38;5;28;01mimport\u001b[39;00m\u001b[38;5;250m \u001b[39m\u001b[38;5;21;01mpy_graspi\u001b[39;00m\u001b[38;5;250m \u001b[39m\u001b[38;5;28;01mas\u001b[39;00m\u001b[38;5;250m \u001b[39m\u001b[38;5;21;01mpy\u001b[39;00m\n\u001b[0;32m      3\u001b[0m \u001b[38;5;66;03m#import following to be able to output image\u001b[39;00m\n\u001b[0;32m      4\u001b[0m \u001b[38;5;28;01mfrom\u001b[39;00m\u001b[38;5;250m \u001b[39m\u001b[38;5;21;01mPIL\u001b[39;00m\u001b[38;5;250m \u001b[39m\u001b[38;5;28;01mimport\u001b[39;00m Image\n",
      "File \u001b[1;32m~\\PycharmProjects\\Sprint1_Testing\\.venv\\Lib\\site-packages\\py_graspi\\__init__.py:1\u001b[0m\n\u001b[1;32m----> 1\u001b[0m \u001b[38;5;28;01mfrom\u001b[39;00m\u001b[38;5;250m \u001b[39m\u001b[38;5;21;01m.\u001b[39;00m\u001b[38;5;21;01migraph_testing\u001b[39;00m\u001b[38;5;250m \u001b[39m\u001b[38;5;28;01mimport\u001b[39;00m \u001b[38;5;241m*\u001b[39m\n\u001b[0;32m      2\u001b[0m \u001b[38;5;28;01mfrom\u001b[39;00m\u001b[38;5;250m \u001b[39m\u001b[38;5;21;01m.\u001b[39;00m\u001b[38;5;21;01mcsvFileMaker\u001b[39;00m\u001b[38;5;250m \u001b[39m\u001b[38;5;28;01mimport\u001b[39;00m \u001b[38;5;241m*\u001b[39m\n\u001b[0;32m      3\u001b[0m \u001b[38;5;28;01mfrom\u001b[39;00m\u001b[38;5;250m \u001b[39m\u001b[38;5;21;01m.\u001b[39;00m\u001b[38;5;21;01mtestFileMaker\u001b[39;00m\u001b[38;5;250m \u001b[39m\u001b[38;5;28;01mimport\u001b[39;00m \u001b[38;5;241m*\u001b[39m\n",
      "File \u001b[1;32m~\\PycharmProjects\\Sprint1_Testing\\.venv\\Lib\\site-packages\\py_graspi\\igraph_testing.py:13\u001b[0m\n\u001b[0;32m      9\u001b[0m \u001b[38;5;28;01mimport\u001b[39;00m\u001b[38;5;250m \u001b[39m\u001b[38;5;21;01mos\u001b[39;00m\n\u001b[0;32m     11\u001b[0m \u001b[38;5;28;01mfrom\u001b[39;00m\u001b[38;5;250m \u001b[39m\u001b[38;5;21;01mnumpy\u001b[39;00m\u001b[38;5;250m \u001b[39m\u001b[38;5;28;01mimport\u001b[39;00m character\n\u001b[1;32m---> 13\u001b[0m \u001b[38;5;28;01mimport\u001b[39;00m\u001b[38;5;250m \u001b[39m\u001b[38;5;21;01mdescriptors\u001b[39;00m\u001b[38;5;250m \u001b[39m\u001b[38;5;28;01mas\u001b[39;00m\u001b[38;5;250m \u001b[39m\u001b[38;5;21;01md\u001b[39;00m\n\u001b[0;32m     14\u001b[0m \u001b[38;5;28;01mimport\u001b[39;00m\u001b[38;5;250m \u001b[39m\u001b[38;5;21;01mmath\u001b[39;00m\n\u001b[0;32m     15\u001b[0m DEBUG \u001b[38;5;241m=\u001b[39m \u001b[38;5;28;01mFalse\u001b[39;00m\n",
      "\u001b[1;31mModuleNotFoundError\u001b[0m: No module named 'descriptors'"
     ]
    }
   ],
   "source": [
    "#import py_graspi library\n",
    "import py_graspi as py\n",
    "#import following to be able to output image\n",
    "from PIL import Image"
   ]
  },
  {
   "cell_type": "markdown",
   "id": "38d18e82-33c0-455a-9903-8528c7582c8a",
   "metadata": {},
   "source": [
    "An example file is given and stored in the variable filename. This will be used in place of a command line argument since the functions need a .txt input file with proper formatting to generate a graph for the given file. The img variable simply stores the .png image file version of the already given .txt file. It utilizes the Image package to open it and then displays the image. (Note both have been given as examples. However, you can utilize your own properly formatted .txt/.png file as long as the pathname of each file is correct)"
   ]
  },
  {
   "cell_type": "code",
   "execution_count": null,
   "id": "5a7a3613-f7e1-442b-a653-c6af3e778361",
   "metadata": {},
   "outputs": [],
   "source": [
    "#Below is the pathname of an image to use for an example\n",
    "#images/data_0.5_2.2_001900.png\n",
    "#data/data_0.5_2.2_001900.txt\n",
    "\n",
    "filename = \"data/data_0.5_2.2_001900.txt\"\n",
    "\n",
    "#output image viualization\n",
    "img = Image.open(\"images/data_0.5_2.2_001900.png\")\n",
    "img"
   ]
  },
  {
   "cell_type": "markdown",
   "id": "ad18435f-be0b-4f01-8129-a4a182dcf5d0",
   "metadata": {},
   "source": [
    "The generateGraphAdj(filename) function below is from the py-graspi package is used to create a graph for any proper formated .txt file. It returns the g variable where the newly generated graph is now stored, a is_2D variable which stores a boolean signaling if the graph is a 2-D or 3-D graph, and the other variables are used when calculating descriptors for the file. (Note the inclusion of \"py.\" before the function name which is needed to signal that you are reaching into the package for this given function."
   ]
  },
  {
   "cell_type": "code",
   "execution_count": null,
   "id": "f995cc02-237b-46ff-bfc2-64219f9bdd73",
   "metadata": {},
   "outputs": [],
   "source": [
    "#This function will create a graph based on any given txt file input\n",
    "(g, is_2D, black_vertices, white_vertices, black_green, black_interface_red, white_interface_blue,\n",
    "             dim, interface_edge_comp_paths, shortest_path_to_red, shortest_path_to_blue,\n",
    "             CT_n_D_adj_An, CT_n_A_adj_Ca)= py.generateGraphAdj(filename)"
   ]
  },
  {
   "cell_type": "code",
   "execution_count": null,
   "id": "3acbe762-5a3f-41f1-ad16-cb01fdc72af7",
   "metadata": {},
   "outputs": [],
   "source": [
    "#This function will create a tuple holding in the name and value of all descriptors\n",
    "dict = py.descriptors(g, filename, black_vertices, white_vertices, black_green, black_interface_red, white_interface_blue,\n",
    "                dim, interface_edge_comp_paths, shortest_path_to_red, shortest_path_to_blue,\n",
    "                CT_n_D_adj_An, CT_n_A_adj_Ca)"
   ]
  },
  {
   "cell_type": "markdown",
   "id": "b6b8bbfa-449f-41f8-a1f1-473753e07a86",
   "metadata": {},
   "source": [
    "We then create an example outputFile string variable which will have a .txt extension and will be used in this Notebook to copy the dictionary gotten from the descriptors() function into a .txt file."
   ]
  },
  {
   "cell_type": "code",
   "execution_count": null,
   "id": "626aa8f7-6975-4663-af54-055382260e5e",
   "metadata": {},
   "outputs": [],
   "source": [
    "#We will use the filename below to be the output txt file for the \n",
    "outputFile = \"example_descriptors.txt\""
   ]
  },
  {
   "cell_type": "markdown",
   "id": "1ae28fee-aeb1-40b1-a2f9-39c3f17059de",
   "metadata": {},
   "source": [
    "These lines of code open up the outputFile in WRITE mode and loops through the dict dictionary while copying all it's data into the file."
   ]
  },
  {
   "cell_type": "code",
   "execution_count": null,
   "id": "3ee6ba07-783b-4fd6-be9b-623a47e1f046",
   "metadata": {},
   "outputs": [],
   "source": [
    "#Copy descriptor tuple into txt file\n",
    "with open(outputFile, \"w\") as f:\n",
    "    for key, value in dict.items():\n",
    "        f.write(f\"{key}: {value}\\n\")"
   ]
  },
  {
   "cell_type": "markdown",
   "id": "38271edc-ffd6-425b-901d-8849e58db19d",
   "metadata": {},
   "source": [
    "Finally to make sure the descriptors were properly written to the file we will now open the same outputFile in READ mode now and print out its contents and make sure we have the correct dictionary."
   ]
  },
  {
   "cell_type": "code",
   "execution_count": 23,
   "id": "b445f5e9-c3b7-4de4-accf-8c789c717d36",
   "metadata": {},
   "outputs": [
    {
     "name": "stdout",
     "output_type": "stream",
     "text": [
      "\n"
     ]
    }
   ],
   "source": [
    "#Output txt file, if error occurs this means txt file was not properly created\n",
    "with open(outputFile, 'r') as file:\n",
    "    content = file.read()\n",
    "    print(content)"
   ]
  },
  {
   "cell_type": "code",
   "execution_count": null,
   "id": "c99f0a3b-0609-439d-be3b-fed998625999",
   "metadata": {},
   "outputs": [],
   "source": []
  }
 ],
 "metadata": {
  "kernelspec": {
   "display_name": "Python 3 (ipykernel)",
   "language": "python",
   "name": "python3"
  },
  "language_info": {
   "codemirror_mode": {
    "name": "ipython",
    "version": 3
   },
   "file_extension": ".py",
   "mimetype": "text/x-python",
   "name": "python",
   "nbconvert_exporter": "python",
   "pygments_lexer": "ipython3",
   "version": "3.12.6"
  }
 },
 "nbformat": 4,
 "nbformat_minor": 5
}
