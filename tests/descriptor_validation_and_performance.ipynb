{
 "cells": [
  {
   "cell_type": "code",
   "metadata": {
    "ExecuteTime": {
     "end_time": "2025-06-18T21:52:58.953153Z",
     "start_time": "2025-06-18T21:52:58.946378Z"
    }
   },
   "source": [
    "'''PREFERENCES'''\n",
    "\n",
    "#Input file name or naming pattern to search for here\n",
    "targetFileName = 'data_0.5_2.6_000160'\n",
    "# Number of test repetitions\n",
    "loop_cnt = 1\n",
    "#Whether you want the graph visualized or not\n",
    "graph_visualization = False"
   ],
   "outputs": [],
   "execution_count": 1
  },
  {
   "cell_type": "code",
   "metadata": {
    "ExecuteTime": {
     "end_time": "2025-06-18T21:53:42.668559Z",
     "start_time": "2025-06-18T21:52:58.959271Z"
    }
   },
   "source": [
    "import sys\n",
    "import os\n",
    "sys.path.insert(0, os.path.abspath(\"../src\"))\n",
    "from py_graspi import descriptors as ds\n",
    "from py_graspi import graph as ig\n",
    "import time\n",
    "import tracemalloc\n",
    "\n",
    "data_path = os.path.abspath(\"../data/2phase/2D-morphologies/data/\") #Adjust data path as necessary\n",
    "expected_results_path = os.path.abspath(\"expected_results/\") #Adjust expected results path as necessary\n",
    "test_files = [os.path.splitext(file)[0] for file in os.listdir(data_path)]\n",
    "epsilon=1e-5\n",
    "\n",
    "times = []\n",
    "mems = []\n",
    "time_mem_stats = {}\n",
    "\n",
    "for test_file in test_files:\n",
    "    if targetFileName not in test_file:\n",
    "        continue\n",
    "    total_graph_time = 0\n",
    "    for i in range(loop_cnt):\n",
    "        tracemalloc.start()\n",
    "        graph_start = time.time()\n",
    "        file_path = os.path.join(data_path, test_file + \".txt\")\n",
    "        graph_data = ig.generateGraph(file_path,True)\n",
    "        g = graph_data.graph\n",
    "        _stats = tracemalloc.get_traced_memory()\n",
    "        graph_end = time.time()\n",
    "        tracemalloc.stop()\n",
    "        graph_mem = _stats[1]-_stats[0]\n",
    "        stats = ds.compute_descriptors(graph_data, file_path)\n",
    "        total_graph_time += graph_end - graph_start\n",
    "        if graph_visualization:\n",
    "            ig.visualize(graph_data.graph, graph_data.is_2D)\n",
    "\n",
    "    print(f\"{test_file} Results\")\n",
    "\n",
    "    expected_log = os.path.join(expected_results_path, f\"{test_file}.log\")\n",
    "    if not os.path.exists(expected_log):\n",
    "        print(f\"Expected result log file not found: {expected_log}\")\n",
    "        continue\n",
    "\n",
    "    with open(expected_log) as f:\n",
    "        for line in f:\n",
    "            stat = line.strip().split(\" \")\n",
    "            try:\n",
    "                # if stats.get(stat[0], -1) == int(stat[1]):\n",
    "                if abs(stats.get(stat[0], -1) - float(stat[1])) < epsilon:\n",
    "                    print(f\"{stat[0]} passed\")\n",
    "                elif stats.get(stat[0], -1) != -1 and stats.get(stat[0], -1) != int(stat[1]):\n",
    "                    print(f\"{stat[0]} failed - {stats.get(stat[0])} is not the same as expected {stat[1]}\")\n",
    "            except ValueError:\n",
    "                if abs(stats.get(stat[0], -1) - float(stat[1])) < epsilon:\n",
    "                    print(f\"{stat[0]} passed\")\n",
    "                elif stats.get(stat[0], -1) != -1 and stats.get(stat[0], -1) != float(stat[1]):\n",
    "                    print(f\"{stat[0]} failed - {stats.get(stat[0])} is not the same as expected {stat[1]}\")\n",
    "    descriptor_time = stats[\"time\"]\n",
    "    descriptor_mem = stats[\"mem\"]\n",
    "\n",
    "    times.append(descriptor_time)\n",
    "    mems.append(descriptor_mem)\n",
    "\n",
    "    graph_time = total_graph_time/loop_cnt\n",
    "    print(f\"Total time to calculate graph: {graph_time} second(s)\")\n",
    "    print(f\"Total time to calculate descriptors: {descriptor_time} second(s)\")\n",
    "    print(f\"Peak memory usage for graph generation: {graph_mem} bytes\")\n",
    "    print(f\"Peak memory usage for descriptor calculation: {descriptor_mem} bytes\")\n",
    "    print(stats)\n",
    "    print(\"\")\n",
    "    time_mem_stats[test_file] = {\"graph_time\": graph_time, \"descriptor_time\": descriptor_time,  \"graph_mem\":graph_mem, \"descriptor_mem\": descriptor_mem}\n",
    "\n"
   ],
   "outputs": [
    {
     "name": "stdout",
     "output_type": "stream",
     "text": [
      "data_0.5_2.6_000160 Results\n",
      "STAT_n passed\n",
      "STAT_e passed\n",
      "STAT_n_D passed\n",
      "STAT_n_A passed\n",
      "STAT_CC_D passed\n",
      "STAT_CC_A passed\n",
      "STAT_CC_D_An passed\n",
      "STAT_CC_A_Ca passed\n",
      "ABS_wf_D failed - 0.3165592285854695 is not the same as expected 0.313409\n",
      "ABS_f_D passed\n",
      "DISS_wf10_D failed - 0.3833910029546846 is not the same as expected 0.39619\n",
      "DISS_f10_D failed - 0.7711583221908582 is not the same as expected 0.772694\n",
      "CT_f_e_conn passed\n",
      "CT_f_conn_D_An passed\n",
      "CT_f_conn_A_Ca passed\n",
      "CT_e_conn passed\n",
      "CT_e_D_An passed\n",
      "CT_e_A_Ca passed\n",
      "CT_f_D_tort1 passed\n",
      "CT_f_A_tort1 passed\n",
      "CT_n_D_adj_An passed\n",
      "CT_n_A_adj_Ca passed\n",
      "Total time to calculate graph: 32.02923107147217 second(s)\n",
      "Total time to calculate descriptors: 10.84945297241211 second(s)\n",
      "Peak memory usage for graph generation: 37032550 bytes\n",
      "Peak memory usage for descriptor calculation: 55606511 bytes\n",
      "{'STAT_n': 40501, 'STAT_e': 2022, 'STAT_n_D': 20193, 'STAT_n_A': 20308, 'STAT_CC_D': 8, 'STAT_CC_A': 6, 'STAT_CC_D_An': 4, 'STAT_CC_A_Ca': 3, 'ABS_wf_D': 0.3165592285854695, 'ABS_f_D': 0.4985802819683465, 'DISS_f10_D': 0.7711583221908582, 'DISS_wf10_D': 0.3833910029546846, 'CT_f_e_conn': 0.4723046488625124, 'CT_f_conn_D_An': 0.8103798345961472, 'CT_f_conn_A_Ca': 0.7248375024620839, 'CT_e_conn': 955, 'CT_e_D_An': 1558, 'CT_e_A_Ca': 1429, 'CT_n_D_adj_An': 186, 'CT_n_A_adj_Ca': 233, 'CT_f_D_tort1': 0.37166951845514545, 'CT_f_A_tort1': 0.4591711956521739, 'time': 10.84945297241211, 'mem': 55606511}\n",
      "\n"
     ]
    }
   ],
   "execution_count": 2
  },
  {
   "cell_type": "code",
   "metadata": {
    "ExecuteTime": {
     "end_time": "2025-06-18T21:53:43.305192Z",
     "start_time": "2025-06-18T21:53:43.303263Z"
    }
   },
   "source": [],
   "outputs": [],
   "execution_count": null
  }
 ],
 "metadata": {
  "kernelspec": {
   "display_name": ".venv",
   "language": "python",
   "name": "python3"
  },
  "language_info": {
   "codemirror_mode": {
    "name": "ipython",
    "version": 3
   },
   "file_extension": ".py",
   "mimetype": "text/x-python",
   "name": "python",
   "nbconvert_exporter": "python",
   "pygments_lexer": "ipython3",
   "version": "3.11.5"
  }
 },
 "nbformat": 4,
 "nbformat_minor": 2
}
