{
 "cells": [
  {
   "cell_type": "code",
   "execution_count": 57,
   "id": "b9b4373e-55a6-42ea-b155-f0b607b7f935",
   "metadata": {},
   "outputs": [],
   "source": [
    "import sys\n",
    "import os\n",
    "sys.path.append(os.path.abspath('../src'))\n",
    "# sys.path.append(os.path.abspath('../tools/tortuosity'))"
   ]
  },
  {
   "cell_type": "code",
   "execution_count": 58,
   "id": "72dbc1c0-516b-4380-b1e6-a0711186c249",
   "metadata": {
    "jupyter": {
     "is_executing": true
    }
   },
   "outputs": [],
   "source": [
    "from py_graspi import graph as ig\n",
    "from py_graspi import descriptors as ds\n",
    "import os\n",
    "import fpdf\n",
    "import numpy as np\n",
    "from PIL import Image, ImageOps\n",
    "import webbrowser\n",
    "import argparse\n",
    "import matplotlib.pyplot as plt\n",
    "import math\n",
    "import tortuosity_histogram as t"
   ]
  },
  {
   "cell_type": "code",
   "execution_count": 59,
   "id": "c953d35e-4634-4ee6-8177-08c36ab6ff36",
   "metadata": {
    "ExecuteTime": {
     "end_time": "2025-01-31T04:35:51.574588Z",
     "start_time": "2025-01-31T04:35:51.567656Z"
    }
   },
   "outputs": [],
   "source": [
    "import subprocess\n",
    "from IPython.display import display, HTML"
   ]
  },
  {
   "cell_type": "code",
   "execution_count": 63,
   "id": "dec4b34f-3c01-4e13-96dd-6cee0e7a1686",
   "metadata": {
    "ExecuteTime": {
     "end_time": "2025-03-05T17:49:49.121167Z",
     "start_time": "2025-03-05T17:49:41.935986Z"
    }
   },
   "outputs": [
    {
     "name": "stdout",
     "output_type": "stream",
     "text": [
      "Generating Text Files\n",
      "Executing data_0.514_2.4_000220\n",
      "data_0.514_2.4_000220 Graph Generated\n",
      "data_0.514_2.4_000220 Descriptors Generated\n",
      "data_0.514_2.4_000220 Text File Generated\n",
      "Executing data_0.514_2.6_000080\n",
      "data_0.514_2.6_000080 Graph Generated\n",
      "data_0.514_2.6_000080 Descriptors Generated\n",
      "data_0.514_2.6_000080 Text File Generated\n",
      "Executing data_0.514_2.6_000980\n"
     ]
    },
    {
     "ename": "KeyboardInterrupt",
     "evalue": "",
     "output_type": "error",
     "traceback": [
      "\u001b[31m---------------------------------------------------------------------------\u001b[39m",
      "\u001b[31mKeyboardInterrupt\u001b[39m                         Traceback (most recent call last)",
      "\u001b[36mFile \u001b[39m\u001b[32m~\\PycharmProjects\\Card94Sprint4\\py-graspi\\tests\\generate_txt_pdf_info_of_descriptors.py:205\u001b[39m\n\u001b[32m    202\u001b[39m     \u001b[38;5;66;03m#result pdf in data/test_results.pdf\u001b[39;00m\n\u001b[32m    204\u001b[39m \u001b[38;5;28;01mif\u001b[39;00m \u001b[34m__name__\u001b[39m == \u001b[33m\"\u001b[39m\u001b[33m__main__\u001b[39m\u001b[33m\"\u001b[39m:\n\u001b[32m--> \u001b[39m\u001b[32m205\u001b[39m     \u001b[43mmain\u001b[49m\u001b[43m(\u001b[49m\u001b[43m)\u001b[49m\n",
      "\u001b[36mFile \u001b[39m\u001b[32m~\\PycharmProjects\\Card94Sprint4\\py-graspi\\tests\\generate_txt_pdf_info_of_descriptors.py:112\u001b[39m, in \u001b[36mmain\u001b[39m\u001b[34m()\u001b[39m\n\u001b[32m    107\u001b[39m     pdf.image(image_file, h=\u001b[32m15\u001b[39m, w=\u001b[32m60\u001b[39m)\n\u001b[32m    109\u001b[39m \u001b[38;5;250m\u001b[39m\u001b[33;03m\"\"\"\u001b[39;00m\n\u001b[32m    110\u001b[39m \u001b[33;03mGenerates the graph for each of the morphology descriptors\u001b[39;00m\n\u001b[32m    111\u001b[39m \u001b[33;03m\"\"\"\u001b[39;00m\n\u001b[32m--> \u001b[39m\u001b[32m112\u001b[39m graphData = \u001b[43mpy_graspi\u001b[49m\u001b[43m.\u001b[49m\u001b[43mgenerateGraph\u001b[49m\u001b[43m(\u001b[49m\n\u001b[32m    113\u001b[39m \n\u001b[32m    114\u001b[39m \u001b[43m    \u001b[49m\u001b[43mdata_path\u001b[49m\u001b[43m \u001b[49m\u001b[43m+\u001b[49m\u001b[43m \u001b[49m\u001b[43mtest_file\u001b[49m\u001b[43m \u001b[49m\u001b[43m+\u001b[49m\u001b[43m \u001b[49m\u001b[33;43m\"\u001b[39;49m\u001b[33;43m.txt\u001b[39;49m\u001b[33;43m\"\u001b[39;49m\u001b[43m)\u001b[49m\n\u001b[32m    115\u001b[39m \u001b[38;5;28mprint\u001b[39m(\u001b[33mf\u001b[39m\u001b[33m\"\u001b[39m\u001b[38;5;132;01m{\u001b[39;00mtest_file\u001b[38;5;132;01m}\u001b[39;00m\u001b[33m Graph Generated\u001b[39m\u001b[33m\"\u001b[39m)\n\u001b[32m    117\u001b[39m \u001b[38;5;250m\u001b[39m\u001b[33;03m\"\"\"\u001b[39;00m\n\u001b[32m    118\u001b[39m \u001b[33;03mChecks if txt files already exists. \u001b[39;00m\n\u001b[32m    119\u001b[39m \u001b[33;03mIf they exist and the user requests the pdf, it will only regenerate the pdf.\u001b[39;00m\n\u001b[32m    120\u001b[39m \u001b[33;03mtxt must be selected to regenerate the txt files.\u001b[39;00m\n\u001b[32m    121\u001b[39m \u001b[33;03m\"\"\"\u001b[39;00m\n",
      "\u001b[36mFile \u001b[39m\u001b[32m~\\PycharmProjects\\Card94Sprint4\\.venv\\Lib\\site-packages\\py_graspi\\graph.py:32\u001b[39m, in \u001b[36mgenerateGraph\u001b[39m\u001b[34m(file)\u001b[39m\n\u001b[32m     21\u001b[39m \u001b[38;5;250m\u001b[39m\u001b[33;03m\"\"\"\u001b[39;00m\n\u001b[32m     22\u001b[39m \u001b[33;03mThis function takes in graph data and determines if it’s in .txt or .graphe format in order to represent the graph using an adjacency list and the correct dimensionality.\u001b[39;00m\n\u001b[32m     23\u001b[39m \n\u001b[32m   (...)\u001b[39m\u001b[32m     29\u001b[39m \u001b[33;03m    See “generateGraphAdj” if in .txt, or “generateGraphGraphe” if in .graphe.\u001b[39;00m\n\u001b[32m     30\u001b[39m \u001b[33;03m\"\"\"\u001b[39;00m\n\u001b[32m     31\u001b[39m \u001b[38;5;28;01mif\u001b[39;00m os.path.splitext(file)[\u001b[32m1\u001b[39m] == \u001b[33m\"\u001b[39m\u001b[33m.txt\u001b[39m\u001b[33m\"\u001b[39m:\n\u001b[32m---> \u001b[39m\u001b[32m32\u001b[39m     \u001b[38;5;28;01mreturn\u001b[39;00m \u001b[43mgenerateGraphAdj\u001b[49m\u001b[43m(\u001b[49m\u001b[43mfile\u001b[49m\u001b[43m)\u001b[49m\n\u001b[32m     33\u001b[39m \u001b[38;5;28;01melse\u001b[39;00m:\n\u001b[32m     34\u001b[39m     \u001b[38;5;28;01mreturn\u001b[39;00m generateGraphGraphe(file)\n",
      "\u001b[36mFile \u001b[39m\u001b[32m~\\PycharmProjects\\Card94Sprint4\\.venv\\Lib\\site-packages\\py_graspi\\graph.py:80\u001b[39m, in \u001b[36mgenerateGraphAdj\u001b[39m\u001b[34m(file)\u001b[39m\n\u001b[32m     77\u001b[39m \u001b[38;5;28;01mif\u001b[39;00m PERIODICITY:\n\u001b[32m     78\u001b[39m     \u001b[38;5;28;01mfor\u001b[39;00m i \u001b[38;5;129;01min\u001b[39;00m \u001b[38;5;28mrange\u001b[39m(\u001b[32m0\u001b[39m, g.vcount() - \u001b[32m2\u001b[39m, dimX):\n\u001b[32m     79\u001b[39m         \u001b[38;5;66;03m# first add first neighbor wrap around\u001b[39;00m\n\u001b[32m---> \u001b[39m\u001b[32m80\u001b[39m         \u001b[43mg\u001b[49m\u001b[43m.\u001b[49m\u001b[43madd_edge\u001b[49m\u001b[43m(\u001b[49m\u001b[43mg\u001b[49m\u001b[43m.\u001b[49m\u001b[43mvs\u001b[49m\u001b[43m[\u001b[49m\u001b[43mi\u001b[49m\u001b[43m]\u001b[49m\u001b[43m,\u001b[49m\u001b[43m \u001b[49m\u001b[43mg\u001b[49m\u001b[43m.\u001b[49m\u001b[43mvs\u001b[49m\u001b[43m[\u001b[49m\u001b[43mi\u001b[49m\u001b[43m \u001b[49m\u001b[43m+\u001b[49m\u001b[43m \u001b[49m\u001b[43m(\u001b[49m\u001b[43mdimX\u001b[49m\u001b[43m \u001b[49m\u001b[43m-\u001b[49m\u001b[43m \u001b[49m\u001b[32;43m1\u001b[39;49m\u001b[43m)\u001b[49m\u001b[43m]\u001b[49m\u001b[43m)\u001b[49m\n\u001b[32m     81\u001b[39m         g.es[g.ecount() - \u001b[32m1\u001b[39m][\u001b[33m'\u001b[39m\u001b[33mlabel\u001b[39m\u001b[33m'\u001b[39m] = \u001b[33m'\u001b[39m\u001b[33mf\u001b[39m\u001b[33m'\u001b[39m\n\u001b[32m     82\u001b[39m         g.es[g.ecount() - \u001b[32m1\u001b[39m][\u001b[33m'\u001b[39m\u001b[33mweight\u001b[39m\u001b[33m'\u001b[39m] = \u001b[32m1\u001b[39m\n",
      "\u001b[36mFile \u001b[39m\u001b[32m~\\PycharmProjects\\Card94Sprint4\\.venv\\Lib\\site-packages\\igraph\\basic.py:24\u001b[39m, in \u001b[36m_add_edge\u001b[39m\u001b[34m(graph, source, target, **kwds)\u001b[39m\n\u001b[32m      7\u001b[39m \u001b[38;5;250m\u001b[39m\u001b[33;03m\"\"\"Adds a single edge to the graph.\u001b[39;00m\n\u001b[32m      8\u001b[39m \n\u001b[32m      9\u001b[39m \u001b[33;03mKeyword arguments (except the source and target arguments) will be\u001b[39;00m\n\u001b[32m   (...)\u001b[39m\u001b[32m     21\u001b[39m \u001b[33;03m    object and want to avoid the overhead of creating it.\u001b[39;00m\n\u001b[32m     22\u001b[39m \u001b[33;03m\"\"\"\u001b[39;00m\n\u001b[32m     23\u001b[39m eid = graph.ecount()\n\u001b[32m---> \u001b[39m\u001b[32m24\u001b[39m \u001b[43mgraph\u001b[49m\u001b[43m.\u001b[49m\u001b[43madd_edges\u001b[49m\u001b[43m(\u001b[49m\u001b[43m[\u001b[49m\u001b[43m(\u001b[49m\u001b[43msource\u001b[49m\u001b[43m,\u001b[49m\u001b[43m \u001b[49m\u001b[43mtarget\u001b[49m\u001b[43m)\u001b[49m\u001b[43m]\u001b[49m\u001b[43m)\u001b[49m\n\u001b[32m     25\u001b[39m edge = graph.es[eid]\n\u001b[32m     26\u001b[39m \u001b[38;5;28;01mfor\u001b[39;00m key, value \u001b[38;5;129;01min\u001b[39;00m kwds.items():\n",
      "\u001b[36mFile \u001b[39m\u001b[32m~\\PycharmProjects\\Card94Sprint4\\.venv\\Lib\\site-packages\\igraph\\basic.py:43\u001b[39m, in \u001b[36m_add_edges\u001b[39m\u001b[34m(graph, es, attributes)\u001b[39m\n\u001b[32m     41\u001b[39m eid = graph.ecount()\n\u001b[32m     42\u001b[39m res = GraphBase.add_edges(graph, es)\n\u001b[32m---> \u001b[39m\u001b[32m43\u001b[39m n = \u001b[43mgraph\u001b[49m\u001b[43m.\u001b[49m\u001b[43mecount\u001b[49m\u001b[43m(\u001b[49m\u001b[43m)\u001b[49m - eid\n\u001b[32m     44\u001b[39m \u001b[38;5;28;01mif\u001b[39;00m (attributes \u001b[38;5;129;01mis\u001b[39;00m \u001b[38;5;129;01mnot\u001b[39;00m \u001b[38;5;28;01mNone\u001b[39;00m) \u001b[38;5;129;01mand\u001b[39;00m (n > \u001b[32m0\u001b[39m):\n\u001b[32m     45\u001b[39m     \u001b[38;5;28;01mfor\u001b[39;00m key, val \u001b[38;5;129;01min\u001b[39;00m attributes.items():\n",
      "\u001b[31mKeyboardInterrupt\u001b[39m: "
     ]
    }
   ],
   "source": [
    "%run generate_txt_pdf_info_of_descriptors.py \"txt\""
   ]
  },
  {
   "cell_type": "code",
   "execution_count": 64,
   "id": "6af7041f-3b54-42a6-bfd9-0a3e2fba2808",
   "metadata": {
    "ExecuteTime": {
     "start_time": "2025-01-31T16:53:38.261933Z"
    },
    "jupyter": {
     "is_executing": true
    }
   },
   "outputs": [
    {
     "name": "stdout",
     "output_type": "stream",
     "text": [
      "Generating PDF\n",
      "Generating Text Files\n",
      "Executing data_0.514_2.4_000220\n"
     ]
    },
    {
     "name": "stderr",
     "output_type": "stream",
     "text": [
      "\n",
      "KeyboardInterrupt\n",
      "\n"
     ]
    }
   ],
   "source": [
    "%run generate_txt_pdf_info_of_descriptors.py \"pdf\""
   ]
  },
  {
   "cell_type": "code",
   "execution_count": 65,
   "id": "786dec4e-af36-48cf-8bb8-38d555a49015",
   "metadata": {
    "ExecuteTime": {
     "end_time": "2025-01-31T04:35:37.683361Z",
     "start_time": "2025-01-31T04:35:37.415845Z"
    },
    "scrolled": true
   },
   "outputs": [
    {
     "data": {
      "text/html": [
       "\n",
       "<iframe src=\"../data/test_results.pdf\" width=\"1000\" height=\"800\">\n",
       "</iframe>\n"
      ],
      "text/plain": [
       "<IPython.core.display.HTML object>"
      ]
     },
     "metadata": {},
     "output_type": "display_data"
    }
   ],
   "source": [
    "pdf_html = \"\"\"\n",
    "<iframe src=\"../data/test_results.pdf\" width=\"1000\" height=\"800\">\n",
    "</iframe>\n",
    "\"\"\"\n",
    "display(HTML(pdf_html))"
   ]
  }
 ],
 "metadata": {
  "kernelspec": {
   "display_name": "Python 3 (ipykernel)",
   "language": "python",
   "name": "python3"
  },
  "language_info": {
   "codemirror_mode": {
    "name": "ipython",
    "version": 3
   },
   "file_extension": ".py",
   "mimetype": "text/x-python",
   "name": "python",
   "nbconvert_exporter": "python",
   "pygments_lexer": "ipython3",
   "version": "3.12.6"
  }
 },
 "nbformat": 4,
 "nbformat_minor": 5
}
