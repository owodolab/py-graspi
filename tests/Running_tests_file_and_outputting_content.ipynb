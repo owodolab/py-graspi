{
 "cells": [
  {
   "cell_type": "code",
   "id": "b9b4373e-55a6-42ea-b155-f0b607b7f935",
   "metadata": {
    "ExecuteTime": {
     "end_time": "2025-06-12T00:18:26.077832Z",
     "start_time": "2025-06-12T00:18:26.071056Z"
    }
   },
   "source": [
    "import sys\n",
    "import os\n",
    "sys.path.append(os.path.abspath('../src'))\n",
    "# sys.path.append(os.path.abspath('../tools/tortuosity'))"
   ],
   "outputs": [],
   "execution_count": 1
  },
  {
   "cell_type": "code",
   "id": "72dbc1c0-516b-4380-b1e6-a0711186c249",
   "metadata": {
    "ExecuteTime": {
     "end_time": "2025-06-12T00:18:26.689165Z",
     "start_time": "2025-06-12T00:18:26.085071Z"
    }
   },
   "source": [
    "from py_graspi import graph as ig\n",
    "from py_graspi import descriptors as ds\n",
    "import os\n",
    "import fpdf\n",
    "import numpy as np\n",
    "from PIL import Image, ImageOps\n",
    "import webbrowser\n",
    "import argparse\n",
    "import matplotlib.pyplot as plt\n",
    "import math\n",
    "import tortuosity_histogram as t"
   ],
   "outputs": [],
   "execution_count": 2
  },
  {
   "cell_type": "code",
   "id": "c953d35e-4634-4ee6-8177-08c36ab6ff36",
   "metadata": {
    "ExecuteTime": {
     "end_time": "2025-06-12T00:18:27.065028Z",
     "start_time": "2025-06-12T00:18:27.061906Z"
    }
   },
   "source": [
    "import subprocess\n",
    "from IPython.display import display, HTML"
   ],
   "outputs": [],
   "execution_count": 3
  },
  {
   "cell_type": "code",
   "id": "dec4b34f-3c01-4e13-96dd-6cee0e7a1686",
   "metadata": {
    "ExecuteTime": {
     "end_time": "2025-06-12T00:18:32.932535Z",
     "start_time": "2025-06-12T00:18:27.079077Z"
    }
   },
   "source": [
    "%run generate_txt_pdf_info_of_descriptors.py \"txt\""
   ],
   "outputs": [
    {
     "name": "stdout",
     "output_type": "stream",
     "text": [
      "Generating Text Files\n",
      "Executing data_0.5_2.2_001900\n",
      "data_0.5_2.2_001900 Graph Generated\n"
     ]
    },
    {
     "ename": "KeyboardInterrupt",
     "evalue": "",
     "output_type": "error",
     "traceback": [
      "\u001B[31m---------------------------------------------------------------------------\u001B[39m",
      "\u001B[31mKeyboardInterrupt\u001B[39m                         Traceback (most recent call last)",
      "\u001B[36mFile \u001B[39m\u001B[32m~/PycharmProjects/profilingpygraspi/py-graspi/tests/generate_txt_pdf_info_of_descriptors.py:208\u001B[39m\n\u001B[32m    205\u001B[39m     \u001B[38;5;66;03m#result pdf in data/2phase/2D-morphologies/test_results.pdf\u001B[39;00m\n\u001B[32m    207\u001B[39m \u001B[38;5;28;01mif\u001B[39;00m \u001B[34m__name__\u001B[39m == \u001B[33m\"\u001B[39m\u001B[33m__main__\u001B[39m\u001B[33m\"\u001B[39m:\n\u001B[32m--> \u001B[39m\u001B[32m208\u001B[39m     \u001B[43mmain\u001B[49m\u001B[43m(\u001B[49m\u001B[43m)\u001B[49m\n",
      "\u001B[36mFile \u001B[39m\u001B[32m~/PycharmProjects/profilingpygraspi/py-graspi/tests/generate_txt_pdf_info_of_descriptors.py:130\u001B[39m, in \u001B[36mmain\u001B[39m\u001B[34m()\u001B[39m\n\u001B[32m    128\u001B[39m             pdf.cell(\u001B[32m40\u001B[39m, \u001B[32m8\u001B[39m, txt=line, ln=\u001B[38;5;28;01mTrue\u001B[39;00m, align=\u001B[33m\"\u001B[39m\u001B[33mL\u001B[39m\u001B[33m\"\u001B[39m)\n\u001B[32m    129\u001B[39m \u001B[38;5;28;01melse\u001B[39;00m:\n\u001B[32m--> \u001B[39m\u001B[32m130\u001B[39m     stats = \u001B[43mpy_graspi\u001B[49m\u001B[43m.\u001B[49m\u001B[43mcompute_descriptors\u001B[49m\u001B[43m(\u001B[49m\u001B[43mgraphData\u001B[49m\u001B[43m,\u001B[49m\u001B[43m \u001B[49m\u001B[43mtest_file\u001B[49m\u001B[43m)\u001B[49m\n\u001B[32m    132\u001B[39m     \u001B[38;5;28mprint\u001B[39m(\u001B[33mf\u001B[39m\u001B[33m\"\u001B[39m\u001B[38;5;132;01m{\u001B[39;00mtest_file\u001B[38;5;132;01m}\u001B[39;00m\u001B[33m Descriptors Generated\u001B[39m\u001B[33m\"\u001B[39m)\n\u001B[32m    133\u001B[39m     \u001B[38;5;28;01mwith\u001B[39;00m \u001B[38;5;28mopen\u001B[39m(results_path + \u001B[33m\"\u001B[39m\u001B[33mdescriptors-\u001B[39m\u001B[33m\"\u001B[39m + test_file + \u001B[33m\"\u001B[39m\u001B[33m.txt\u001B[39m\u001B[33m\"\u001B[39m, \u001B[33m\"\u001B[39m\u001B[33mw\u001B[39m\u001B[33m\"\u001B[39m) \u001B[38;5;28;01mas\u001B[39;00m txt:\n",
      "\u001B[36mFile \u001B[39m\u001B[32m~/PycharmProjects/profilingpygraspi/.venv/lib/python3.11/site-packages/py_graspi/descriptors.py:33\u001B[39m, in \u001B[36mcompute_descriptors\u001B[39m\u001B[34m(graph_data, filename, pixelSize)\u001B[39m\n\u001B[32m     30\u001B[39m graph_data = CC_descriptors(graph_data)\n\u001B[32m     32\u001B[39m \u001B[38;5;66;03m# shortest path descriptors\u001B[39;00m\n\u001B[32m---> \u001B[39m\u001B[32m33\u001B[39m graph_data = \u001B[43mshortest_path_descriptors\u001B[49m\u001B[43m(\u001B[49m\u001B[43mgraph_data\u001B[49m\u001B[43m,\u001B[49m\u001B[43m \u001B[49m\u001B[43mfilename\u001B[49m\u001B[43m,\u001B[49m\u001B[43m \u001B[49m\u001B[43mpixelSize\u001B[49m\u001B[43m)\u001B[49m\n\u001B[32m     35\u001B[39m descriptors_dict[\u001B[33m\"\u001B[39m\u001B[33mSTAT_n\u001B[39m\u001B[33m\"\u001B[39m] =  graph_data.STAT_n_A + graph_data.STAT_n_D\n\u001B[32m     36\u001B[39m descriptors_dict[\u001B[33m\"\u001B[39m\u001B[33mSTAT_e\u001B[39m\u001B[33m\"\u001B[39m] = graph_data.black_green\n",
      "\u001B[36mFile \u001B[39m\u001B[32m~/PycharmProjects/profilingpygraspi/.venv/lib/python3.11/site-packages/py_graspi/descriptors.py:183\u001B[39m, in \u001B[36mshortest_path_descriptors\u001B[39m\u001B[34m(graph_data, filename, pixelSize)\u001B[39m\n\u001B[32m    180\u001B[39m shortest_path_to_red = graph_data.shortest_path_to_red\n\u001B[32m    181\u001B[39m shortest_path_to_blue = graph_data.shortest_path_to_blue\n\u001B[32m--> \u001B[39m\u001B[32m183\u001B[39m fg_green, fg_blue, fg_red, fg_red_unfiltered = \u001B[43mfilterGraph_metavertices\u001B[49m\u001B[43m(\u001B[49m\u001B[43mgraph\u001B[49m\u001B[43m)\u001B[49m\n\u001B[32m    184\u001B[39m greenVertex = (graph.vs.select(color = \u001B[33m'\u001B[39m\u001B[33mgreen\u001B[39m\u001B[33m'\u001B[39m)[\u001B[32m0\u001B[39m]).index\n\u001B[32m    185\u001B[39m redVertex = (graph.vs.select(color = \u001B[33m'\u001B[39m\u001B[33mred\u001B[39m\u001B[33m'\u001B[39m)[\u001B[32m0\u001B[39m]).index\n",
      "\u001B[36mFile \u001B[39m\u001B[32m~/PycharmProjects/profilingpygraspi/.venv/lib/python3.11/site-packages/py_graspi/descriptors.py:353\u001B[39m, in \u001B[36mfilterGraph_metavertices\u001B[39m\u001B[34m(graph)\u001B[39m\n\u001B[32m    350\u001B[39m toNode = edge[\u001B[32m1\u001B[39m]\n\u001B[32m    352\u001B[39m weight = graph.es[graph.get_eid(currentNode, toNode)][\u001B[33m'\u001B[39m\u001B[33mweight\u001B[39m\u001B[33m'\u001B[39m]\n\u001B[32m--> \u001B[39m\u001B[32m353\u001B[39m color_current = \u001B[43mgraph\u001B[49m\u001B[43m.\u001B[49m\u001B[43mvs\u001B[49m[currentNode][\u001B[33m'\u001B[39m\u001B[33mcolor\u001B[39m\u001B[33m'\u001B[39m]\n\u001B[32m    354\u001B[39m color_toNode = graph.vs[toNode][\u001B[33m'\u001B[39m\u001B[33mcolor\u001B[39m\u001B[33m'\u001B[39m]\n\u001B[32m    356\u001B[39m \u001B[38;5;28;01mif\u001B[39;00m (color_current == color_toNode):\n",
      "\u001B[36mFile \u001B[39m\u001B[32m~/PycharmProjects/profilingpygraspi/.venv/lib/python3.11/site-packages/igraph/__init__.py:585\u001B[39m, in \u001B[36mGraph.vs\u001B[39m\u001B[34m(self)\u001B[39m\n\u001B[32m    581\u001B[39m     \u001B[38;5;28;01mreturn\u001B[39;00m \u001B[33m\"\u001B[39m\u001B[33mweight\u001B[39m\u001B[33m\"\u001B[39m \u001B[38;5;129;01min\u001B[39;00m \u001B[38;5;28mself\u001B[39m.edge_attributes()\n\u001B[32m    583\u001B[39m \u001B[38;5;66;03m#############################################\u001B[39;00m\n\u001B[32m    584\u001B[39m \u001B[38;5;66;03m# Vertex and edge sequence\u001B[39;00m\n\u001B[32m--> \u001B[39m\u001B[32m585\u001B[39m \u001B[38;5;129m@property\u001B[39m\n\u001B[32m    586\u001B[39m \u001B[38;5;28;01mdef\u001B[39;00m\u001B[38;5;250m \u001B[39m\u001B[34mvs\u001B[39m(\u001B[38;5;28mself\u001B[39m):\n\u001B[32m    587\u001B[39m \u001B[38;5;250m    \u001B[39m\u001B[33;03m\"\"\"The vertex sequence of the graph\"\"\"\u001B[39;00m\n\u001B[32m    588\u001B[39m     \u001B[38;5;28;01mreturn\u001B[39;00m VertexSeq(\u001B[38;5;28mself\u001B[39m)\n",
      "\u001B[31mKeyboardInterrupt\u001B[39m: "
     ]
    }
   ],
   "execution_count": 4
  },
  {
   "cell_type": "code",
   "id": "6af7041f-3b54-42a6-bfd9-0a3e2fba2808",
   "metadata": {
    "ExecuteTime": {
     "end_time": "2025-06-12T00:18:34.227546Z",
     "start_time": "2025-06-12T00:18:32.947504Z"
    }
   },
   "source": [
    "%run generate_txt_pdf_info_of_descriptors.py \"pdf\""
   ],
   "outputs": [
    {
     "name": "stdout",
     "output_type": "stream",
     "text": [
      "Generating PDF\n",
      "Generating Text Files\n",
      "Executing data_0.5_2.2_001900\n"
     ]
    },
    {
     "ename": "KeyboardInterrupt",
     "evalue": "",
     "output_type": "error",
     "traceback": [
      "\u001B[31m---------------------------------------------------------------------------\u001B[39m",
      "\u001B[31mKeyboardInterrupt\u001B[39m                         Traceback (most recent call last)",
      "\u001B[36mFile \u001B[39m\u001B[32m~/PycharmProjects/profilingpygraspi/py-graspi/tests/generate_txt_pdf_info_of_descriptors.py:208\u001B[39m\n\u001B[32m    205\u001B[39m     \u001B[38;5;66;03m#result pdf in data/2phase/2D-morphologies/test_results.pdf\u001B[39;00m\n\u001B[32m    207\u001B[39m \u001B[38;5;28;01mif\u001B[39;00m \u001B[34m__name__\u001B[39m == \u001B[33m\"\u001B[39m\u001B[33m__main__\u001B[39m\u001B[33m\"\u001B[39m:\n\u001B[32m--> \u001B[39m\u001B[32m208\u001B[39m     \u001B[43mmain\u001B[49m\u001B[43m(\u001B[49m\u001B[43m)\u001B[49m\n",
      "\u001B[36mFile \u001B[39m\u001B[32m~/PycharmProjects/profilingpygraspi/py-graspi/tests/generate_txt_pdf_info_of_descriptors.py:114\u001B[39m, in \u001B[36mmain\u001B[39m\u001B[34m()\u001B[39m\n\u001B[32m    109\u001B[39m     pdf.image(image_file, h=\u001B[32m15\u001B[39m, w=\u001B[32m60\u001B[39m)\n\u001B[32m    111\u001B[39m \u001B[38;5;250m\u001B[39m\u001B[33;03m\"\"\"\u001B[39;00m\n\u001B[32m    112\u001B[39m \u001B[33;03mGenerates the graph for each of the morphology descriptors\u001B[39;00m\n\u001B[32m    113\u001B[39m \u001B[33;03m\"\"\"\u001B[39;00m\n\u001B[32m--> \u001B[39m\u001B[32m114\u001B[39m graphData = \u001B[43mpy_graspi\u001B[49m\u001B[43m.\u001B[49m\u001B[43mgenerateGraph\u001B[49m\u001B[43m(\u001B[49m\n\u001B[32m    115\u001B[39m \n\u001B[32m    116\u001B[39m \u001B[43m    \u001B[49m\u001B[43mdata_path\u001B[49m\u001B[43m \u001B[49m\u001B[43m+\u001B[49m\u001B[43m \u001B[49m\u001B[43mtest_file\u001B[49m\u001B[43m \u001B[49m\u001B[43m+\u001B[49m\u001B[43m \u001B[49m\u001B[33;43m\"\u001B[39;49m\u001B[33;43m.txt\u001B[39;49m\u001B[33;43m\"\u001B[39;49m\u001B[43m)\u001B[49m\n\u001B[32m    117\u001B[39m \u001B[38;5;28mprint\u001B[39m(\u001B[33mf\u001B[39m\u001B[33m\"\u001B[39m\u001B[38;5;132;01m{\u001B[39;00mtest_file\u001B[38;5;132;01m}\u001B[39;00m\u001B[33m Graph Generated\u001B[39m\u001B[33m\"\u001B[39m)\n\u001B[32m    119\u001B[39m \u001B[38;5;250m\u001B[39m\u001B[33;03m\"\"\"\u001B[39;00m\n\u001B[32m    120\u001B[39m \u001B[33;03mChecks if txt files already exists. \u001B[39;00m\n\u001B[32m    121\u001B[39m \u001B[33;03mIf they exist and the user requests the pdf, it will only regenerate the pdf.\u001B[39;00m\n\u001B[32m    122\u001B[39m \u001B[33;03mtxt must be selected to regenerate the txt files.\u001B[39;00m\n\u001B[32m    123\u001B[39m \u001B[33;03m\"\"\"\u001B[39;00m\n",
      "\u001B[36mFile \u001B[39m\u001B[32m~/PycharmProjects/profilingpygraspi/.venv/lib/python3.11/site-packages/py_graspi/graph.py:58\u001B[39m, in \u001B[36mgenerateGraph\u001B[39m\u001B[34m(file, PERIODICITY)\u001B[39m\n\u001B[32m     46\u001B[39m \u001B[38;5;250m\u001B[39m\u001B[33;03m\"\"\"\u001B[39;00m\n\u001B[32m     47\u001B[39m \u001B[33;03m    This function takes in graph data and determines if it’s in .txt or .graphe format in order to represent the graph using an adjacency list and the correct dimensionality.\u001B[39;00m\n\u001B[32m     48\u001B[39m \n\u001B[32m   (...)\u001B[39m\u001B[32m     55\u001B[39m \u001B[33;03m    See “generateGraphAdj” if in .txt, or “generateGraphGraphe” if in .graphe.\u001B[39;00m\n\u001B[32m     56\u001B[39m \u001B[33;03m\"\"\"\u001B[39;00m\n\u001B[32m     57\u001B[39m \u001B[38;5;28;01mif\u001B[39;00m os.path.splitext(file)[\u001B[32m1\u001B[39m] == \u001B[33m\"\u001B[39m\u001B[33m.txt\u001B[39m\u001B[33m\"\u001B[39m:\n\u001B[32m---> \u001B[39m\u001B[32m58\u001B[39m     \u001B[38;5;28;01mreturn\u001B[39;00m \u001B[43mgenerateGraphAdj\u001B[49m\u001B[43m(\u001B[49m\u001B[43mfile\u001B[49m\u001B[43m,\u001B[49m\u001B[43m \u001B[49m\u001B[43mPERIODICITY\u001B[49m\u001B[43m)\u001B[49m\n\u001B[32m     59\u001B[39m \u001B[38;5;28;01melse\u001B[39;00m:\n\u001B[32m     60\u001B[39m     \u001B[38;5;28;01mreturn\u001B[39;00m generateGraphGraphe(file)\n",
      "\u001B[36mFile \u001B[39m\u001B[32m~/PycharmProjects/profilingpygraspi/.venv/lib/python3.11/site-packages/py_graspi/graph.py:119\u001B[39m, in \u001B[36mgenerateGraphAdj\u001B[39m\u001B[34m(file, PERIODICITY)\u001B[39m\n\u001B[32m    114\u001B[39m             g.es[g.ecount() - \u001B[32m1\u001B[39m][\u001B[33m'\u001B[39m\u001B[33mlabel\u001B[39m\u001B[33m'\u001B[39m] = \u001B[33m'\u001B[39m\u001B[33ms\u001B[39m\u001B[33m'\u001B[39m\n\u001B[32m    115\u001B[39m             g.es[g.ecount() - \u001B[32m1\u001B[39m][\u001B[33m'\u001B[39m\u001B[33mweight\u001B[39m\u001B[33m'\u001B[39m] = math.sqrt(\u001B[32m2\u001B[39m)\n\u001B[32m--> \u001B[39m\u001B[32m119\u001B[39m fg_blue, fg_red = \u001B[43mfilterGraph_blue_red\u001B[49m\u001B[43m(\u001B[49m\u001B[43mg\u001B[49m\u001B[43m)\u001B[49m\n\u001B[32m    120\u001B[39m redComponent = \u001B[38;5;28mset\u001B[39m(fg_red.subcomponent(graph_data.redVertex, mode=\u001B[33m\"\u001B[39m\u001B[33mALL\u001B[39m\u001B[33m\"\u001B[39m))\n\u001B[32m    121\u001B[39m blueComponent = \u001B[38;5;28mset\u001B[39m(fg_blue.subcomponent(graph_data.blueVertex, mode=\u001B[33m\"\u001B[39m\u001B[33mALL\u001B[39m\u001B[33m\"\u001B[39m))\n",
      "\u001B[36mFile \u001B[39m\u001B[32m~/PycharmProjects/profilingpygraspi/.venv/lib/python3.11/site-packages/py_graspi/graph.py:884\u001B[39m, in \u001B[36mfilterGraph_blue_red\u001B[39m\u001B[34m(graph)\u001B[39m\n\u001B[32m    882\u001B[39m     keptEdges_blue.append(edge)\n\u001B[32m    883\u001B[39m     keptEdges_red.append(edge)\n\u001B[32m--> \u001B[39m\u001B[32m884\u001B[39m     keptWeights_blue.append(\u001B[43mgraph\u001B[49m\u001B[43m.\u001B[49m\u001B[43mes\u001B[49m[graph.get_eid(currentNode, toNode)][\u001B[33m'\u001B[39m\u001B[33mweight\u001B[39m\u001B[33m'\u001B[39m])\n\u001B[32m    885\u001B[39m     keptWeights_red.append(graph.es[graph.get_eid(currentNode, toNode)][\u001B[33m'\u001B[39m\u001B[33mweight\u001B[39m\u001B[33m'\u001B[39m])\n\u001B[32m    887\u001B[39m \u001B[38;5;28;01mif\u001B[39;00m ((graph.vs[currentNode][\u001B[33m'\u001B[39m\u001B[33mcolor\u001B[39m\u001B[33m'\u001B[39m] == \u001B[33m'\u001B[39m\u001B[33mblue\u001B[39m\u001B[33m'\u001B[39m) \u001B[38;5;129;01mor\u001B[39;00m (graph.vs[toNode][\u001B[33m'\u001B[39m\u001B[33mcolor\u001B[39m\u001B[33m'\u001B[39m] == \u001B[33m'\u001B[39m\u001B[33mblue\u001B[39m\u001B[33m'\u001B[39m)):\n",
      "\u001B[36mFile \u001B[39m\u001B[32m~/PycharmProjects/profilingpygraspi/.venv/lib/python3.11/site-packages/igraph/__init__.py:590\u001B[39m, in \u001B[36mGraph.es\u001B[39m\u001B[34m(self)\u001B[39m\n\u001B[32m    587\u001B[39m \u001B[38;5;250m    \u001B[39m\u001B[33;03m\"\"\"The vertex sequence of the graph\"\"\"\u001B[39;00m\n\u001B[32m    588\u001B[39m     \u001B[38;5;28;01mreturn\u001B[39;00m VertexSeq(\u001B[38;5;28mself\u001B[39m)\n\u001B[32m--> \u001B[39m\u001B[32m590\u001B[39m \u001B[38;5;129m@property\u001B[39m\n\u001B[32m    591\u001B[39m \u001B[38;5;28;01mdef\u001B[39;00m\u001B[38;5;250m \u001B[39m\u001B[34mes\u001B[39m(\u001B[38;5;28mself\u001B[39m):\n\u001B[32m    592\u001B[39m \u001B[38;5;250m    \u001B[39m\u001B[33;03m\"\"\"The edge sequence of the graph\"\"\"\u001B[39;00m\n\u001B[32m    593\u001B[39m     \u001B[38;5;28;01mreturn\u001B[39;00m EdgeSeq(\u001B[38;5;28mself\u001B[39m)\n",
      "\u001B[31mKeyboardInterrupt\u001B[39m: "
     ]
    }
   ],
   "execution_count": 5
  },
  {
   "cell_type": "code",
   "id": "786dec4e-af36-48cf-8bb8-38d555a49015",
   "metadata": {
    "scrolled": true,
    "ExecuteTime": {
     "end_time": "2025-06-12T00:18:34.250138Z",
     "start_time": "2025-06-12T00:18:34.243152Z"
    }
   },
   "source": [
    "pdf_html = \"\"\"\n",
    "<iframe src=\"../data/test_results.pdf\" width=\"1000\" height=\"800\">\n",
    "</iframe>\n",
    "\"\"\"\n",
    "display(HTML(pdf_html))"
   ],
   "outputs": [
    {
     "data": {
      "text/plain": [
       "<IPython.core.display.HTML object>"
      ],
      "text/html": [
       "\n",
       "<iframe src=\"../data/test_results.pdf\" width=\"1000\" height=\"800\">\n",
       "</iframe>\n"
      ]
     },
     "metadata": {},
     "output_type": "display_data"
    }
   ],
   "execution_count": 6
  },
  {
   "cell_type": "code",
   "id": "12eb8993-bb34-4b79-b3ac-d72f43cf0ea2",
   "metadata": {
    "ExecuteTime": {
     "end_time": "2025-06-12T00:18:34.277706Z",
     "start_time": "2025-06-12T00:18:34.275046Z"
    }
   },
   "source": [],
   "outputs": [],
   "execution_count": null
  }
 ],
 "metadata": {
  "kernelspec": {
   "display_name": "Python 3 (ipykernel)",
   "language": "python",
   "name": "python3"
  },
  "language_info": {
   "codemirror_mode": {
    "name": "ipython",
    "version": 3
   },
   "file_extension": ".py",
   "mimetype": "text/x-python",
   "name": "python",
   "nbconvert_exporter": "python",
   "pygments_lexer": "ipython3",
   "version": "3.12.6"
  }
 },
 "nbformat": 4,
 "nbformat_minor": 5
}
